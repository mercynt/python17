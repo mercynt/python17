{
  "nbformat": 4,
  "nbformat_minor": 0,
  "metadata": {
    "colab": {
      "provenance": [],
      "authorship_tag": "ABX9TyPqnh4Ex/Kg4RL2KuVYFqyd",
      "include_colab_link": true
    },
    "kernelspec": {
      "name": "python3",
      "display_name": "Python 3"
    },
    "language_info": {
      "name": "python"
    }
  },
  "cells": [
    {
      "cell_type": "markdown",
      "metadata": {
        "id": "view-in-github",
        "colab_type": "text"
      },
      "source": [
        "<a href=\"https://colab.research.google.com/github/mercynt/python17/blob/main/Getting_started_sat.ipynb\" target=\"_parent\"><img src=\"https://colab.research.google.com/assets/colab-badge.svg\" alt=\"Open In Colab\"/></a>"
      ]
    },
    {
      "cell_type": "markdown",
      "source": [
        "# **GETTING STARTED**"
      ],
      "metadata": {
        "id": "Ldd9Ad55Juu_"
      }
    },
    {
      "cell_type": "code",
      "execution_count": null,
      "metadata": {
        "colab": {
          "base_uri": "https://localhost:8080/"
        },
        "id": "K8_g-DQoHhKK",
        "outputId": "08af2f9b-7fbf-4c17-db4c-6be6d850de38"
      },
      "outputs": [
        {
          "output_type": "execute_result",
          "data": {
            "text/plain": [
              "3"
            ]
          },
          "metadata": {},
          "execution_count": 3
        }
      ],
      "source": [
        "6-3"
      ]
    },
    {
      "cell_type": "code",
      "source": [
        "x=3\n",
        "y=4\n",
        "print(x+y)"
      ],
      "metadata": {
        "colab": {
          "base_uri": "https://localhost:8080/"
        },
        "id": "mkCkQGhjK-re",
        "outputId": "590ccb84-8873-449f-b1d4-9e395da1731c"
      },
      "execution_count": null,
      "outputs": [
        {
          "output_type": "stream",
          "name": "stdout",
          "text": [
            "7\n"
          ]
        }
      ]
    },
    {
      "cell_type": "code",
      "source": [
        "x=6\n",
        "print (x)\n"
      ],
      "metadata": {
        "colab": {
          "base_uri": "https://localhost:8080/"
        },
        "id": "yWRJ0ARNMh8e",
        "outputId": "52346b40-9441-45ce-8667-e41d876e1f38"
      },
      "execution_count": null,
      "outputs": [
        {
          "output_type": "stream",
          "name": "stdout",
          "text": [
            "6\n"
          ]
        }
      ]
    },
    {
      "cell_type": "code",
      "source": [
        "print(\"Hello World!\") #this is a string"
      ],
      "metadata": {
        "colab": {
          "base_uri": "https://localhost:8080/"
        },
        "id": "Upvn8M1_NrtY",
        "outputId": "de1c7766-e01d-4a17-eaec-a0d68e5d921d"
      },
      "execution_count": null,
      "outputs": [
        {
          "output_type": "stream",
          "name": "stdout",
          "text": [
            "Hello World!\n"
          ]
        }
      ]
    },
    {
      "cell_type": "code",
      "source": [
        "x=2\n",
        "y=3\n",
        "xy=x**2-5*x+y\n",
        "print(xy)"
      ],
      "metadata": {
        "colab": {
          "base_uri": "https://localhost:8080/"
        },
        "id": "Ekz8G3e-SVUt",
        "outputId": "b510518c-f263-41c1-9a7d-1f1156f0c783"
      },
      "execution_count": null,
      "outputs": [
        {
          "output_type": "stream",
          "name": "stdout",
          "text": [
            "-3\n"
          ]
        }
      ]
    },
    {
      "cell_type": "code",
      "source": [
        "type(True)"
      ],
      "metadata": {
        "colab": {
          "base_uri": "https://localhost:8080/"
        },
        "id": "GGv7G6xDYNjF",
        "outputId": "a53cde05-5f26-4071-a820-713c09a1a45a"
      },
      "execution_count": null,
      "outputs": [
        {
          "output_type": "execute_result",
          "data": {
            "text/plain": [
              "bool"
            ]
          },
          "metadata": {},
          "execution_count": 6
        }
      ]
    },
    {
      "cell_type": "code",
      "source": [
        "n=-4.25\n",
        "type(n)"
      ],
      "metadata": {
        "colab": {
          "base_uri": "https://localhost:8080/"
        },
        "id": "1GMXdcWSYce_",
        "outputId": "6bd2f601-8c23-4ad2-923a-b08082db6aa8"
      },
      "execution_count": null,
      "outputs": [
        {
          "output_type": "execute_result",
          "data": {
            "text/plain": [
              "float"
            ]
          },
          "metadata": {},
          "execution_count": 7
        }
      ]
    },
    {
      "cell_type": "code",
      "source": [
        "j=-25\n",
        "type(j)"
      ],
      "metadata": {
        "colab": {
          "base_uri": "https://localhost:8080/"
        },
        "id": "DaIIhwfZYmT2",
        "outputId": "701e7655-21ad-4487-d5e6-dc7b655d3b43"
      },
      "execution_count": null,
      "outputs": [
        {
          "output_type": "execute_result",
          "data": {
            "text/plain": [
              "int"
            ]
          },
          "metadata": {},
          "execution_count": 8
        }
      ]
    },
    {
      "cell_type": "code",
      "source": [
        "type(\"Hello\")"
      ],
      "metadata": {
        "colab": {
          "base_uri": "https://localhost:8080/"
        },
        "id": "cctjUyy6YvrQ",
        "outputId": "81f6d10d-e2d6-4d86-c153-6eaef9edd15e"
      },
      "execution_count": null,
      "outputs": [
        {
          "output_type": "execute_result",
          "data": {
            "text/plain": [
              "str"
            ]
          },
          "metadata": {},
          "execution_count": 9
        }
      ]
    },
    {
      "cell_type": "code",
      "source": [
        "jj =[\"apple\",\"cherry\",\"Banana\"]\n",
        "type(jj)"
      ],
      "metadata": {
        "colab": {
          "base_uri": "https://localhost:8080/"
        },
        "id": "LwfzQpFTZCd4",
        "outputId": "61cdb7fa-95a8-4dea-f114-cfe802e27980"
      },
      "execution_count": null,
      "outputs": [
        {
          "output_type": "execute_result",
          "data": {
            "text/plain": [
              "list"
            ]
          },
          "metadata": {},
          "execution_count": 16
        }
      ]
    },
    {
      "cell_type": "code",
      "source": [
        "jj[2]"
      ],
      "metadata": {
        "colab": {
          "base_uri": "https://localhost:8080/",
          "height": 36
        },
        "id": "1H2v7hZfaPv0",
        "outputId": "123ec5ca-c989-47bd-b1b3-39c098fd8389"
      },
      "execution_count": null,
      "outputs": [
        {
          "output_type": "execute_result",
          "data": {
            "text/plain": [
              "'Banana'"
            ],
            "application/vnd.google.colaboratory.intrinsic+json": {
              "type": "string"
            }
          },
          "metadata": {},
          "execution_count": 17
        }
      ]
    },
    {
      "cell_type": "code",
      "source": [
        "jj =[\"apple\",2,4]\n",
        "\n",
        "jj[0]=\"orange\"\n",
        "print(jj)"
      ],
      "metadata": {
        "colab": {
          "base_uri": "https://localhost:8080/"
        },
        "id": "QRRXvq4_aabU",
        "outputId": "08182e65-8122-47d6-816e-829f0d49404f"
      },
      "execution_count": null,
      "outputs": [
        {
          "output_type": "stream",
          "name": "stdout",
          "text": [
            "['orange', 2, 4]\n"
          ]
        }
      ]
    },
    {
      "cell_type": "code",
      "source": [
        "school ={\"student\":\"Mary\", \"grade\":80}\n",
        "school.update({\"course\":\"Python\"})\n",
        "print(school[\"course\"])"
      ],
      "metadata": {
        "colab": {
          "base_uri": "https://localhost:8080/"
        },
        "id": "RVwvkA_Fa2eF",
        "outputId": "465cd27b-df45-48b8-da1a-c0f2145257f2"
      },
      "execution_count": null,
      "outputs": [
        {
          "output_type": "stream",
          "name": "stdout",
          "text": [
            "Python\n"
          ]
        }
      ]
    },
    {
      "cell_type": "code",
      "source": [
        "fruits = {\"apple\", \"mango\", \"cherry\"}\n",
        "type(fruits)\n",
        "fruits.add(\"Banana\")\n",
        "print(fruits)"
      ],
      "metadata": {
        "colab": {
          "base_uri": "https://localhost:8080/"
        },
        "id": "Onu_WtG-cYGr",
        "outputId": "475b2dc2-f0a9-40df-c211-9dfd5f2c290a"
      },
      "execution_count": null,
      "outputs": [
        {
          "output_type": "stream",
          "name": "stdout",
          "text": [
            "{'mango', 'Banana', 'apple', 'cherry'}\n"
          ]
        }
      ]
    },
    {
      "cell_type": "code",
      "source": [
        "print(fruits)"
      ],
      "metadata": {
        "colab": {
          "base_uri": "https://localhost:8080/"
        },
        "id": "lUHYVyu9ddzj",
        "outputId": "20162849-f61c-4a67-859d-f6819500d893"
      },
      "execution_count": null,
      "outputs": [
        {
          "output_type": "stream",
          "name": "stdout",
          "text": [
            "{'mango', 'Banana', 'apple', 'cherry'}\n"
          ]
        }
      ]
    },
    {
      "cell_type": "code",
      "source": [
        "2"
      ],
      "metadata": {
        "id": "4WEe0KPed3UE"
      },
      "execution_count": null,
      "outputs": []
    },
    {
      "cell_type": "code",
      "source": [
        "tuple1 =(\"apple\",\"cherry\",\"orange\",\"cherry\")\n",
        "type(tuple1)\n",
        "tuple1[-1]"
      ],
      "metadata": {
        "colab": {
          "base_uri": "https://localhost:8080/",
          "height": 36
        },
        "id": "iHWsM1wth1ap",
        "outputId": "ddf828ec-cc11-4f55-cfb1-00c7f1f25bd6"
      },
      "execution_count": null,
      "outputs": [
        {
          "output_type": "execute_result",
          "data": {
            "text/plain": [
              "'cherry'"
            ],
            "application/vnd.google.colaboratory.intrinsic+json": {
              "type": "string"
            }
          },
          "metadata": {},
          "execution_count": 26
        }
      ]
    },
    {
      "cell_type": "code",
      "source": [
        "tuple1=(\"apple\",\"cherry\",\"orange\")\n",
        "type(tuple1)\n"
      ],
      "metadata": {
        "colab": {
          "base_uri": "https://localhost:8080/"
        },
        "id": "k7_HGiXvjd90",
        "outputId": "40f1eea1-497e-4244-c73f-6f87b2deafc2"
      },
      "execution_count": null,
      "outputs": [
        {
          "output_type": "execute_result",
          "data": {
            "text/plain": [
              "tuple"
            ]
          },
          "metadata": {},
          "execution_count": 27
        }
      ]
    },
    {
      "cell_type": "code",
      "source": [
        "country_name = \"United Kingdom\"\n",
        "City_name =\"London\"\n",
        "print(country_name)"
      ],
      "metadata": {
        "colab": {
          "base_uri": "https://localhost:8080/"
        },
        "id": "9fXwsn1wkZ09",
        "outputId": "c8b73300-3c00-409c-c8f9-6f78e1b79b45"
      },
      "execution_count": null,
      "outputs": [
        {
          "output_type": "stream",
          "name": "stdout",
          "text": [
            "United Kingdom\n"
          ]
        }
      ]
    },
    {
      "cell_type": "code",
      "source": [
        "print(City_name)"
      ],
      "metadata": {
        "colab": {
          "base_uri": "https://localhost:8080/"
        },
        "id": "qasuZFxPkvOI",
        "outputId": "a45dc985-ba3d-45a9-b870-e972caf34ec0"
      },
      "execution_count": null,
      "outputs": [
        {
          "output_type": "stream",
          "name": "stdout",
          "text": [
            "London\n"
          ]
        }
      ]
    },
    {
      "cell_type": "code",
      "source": [
        "len(City_name)"
      ],
      "metadata": {
        "colab": {
          "base_uri": "https://localhost:8080/"
        },
        "id": "ydjKy0iKk7Sw",
        "outputId": "677443da-c947-45a4-d7e6-e21429f88912"
      },
      "execution_count": null,
      "outputs": [
        {
          "output_type": "execute_result",
          "data": {
            "text/plain": [
              "6"
            ]
          },
          "metadata": {},
          "execution_count": 5
        }
      ]
    },
    {
      "cell_type": "code",
      "source": [
        "num =-423.5\n",
        "str(num)"
      ],
      "metadata": {
        "colab": {
          "base_uri": "https://localhost:8080/",
          "height": 36
        },
        "id": "cR58VCSllh-l",
        "outputId": "c1f5fd61-4bf4-43cd-e286-989c820f71e8"
      },
      "execution_count": null,
      "outputs": [
        {
          "output_type": "execute_result",
          "data": {
            "text/plain": [
              "'-423.5'"
            ],
            "application/vnd.google.colaboratory.intrinsic+json": {
              "type": "string"
            }
          },
          "metadata": {},
          "execution_count": 13
        }
      ]
    },
    {
      "cell_type": "code",
      "source": [
        "num1=-60.23\n",
        "int(num1)"
      ],
      "metadata": {
        "colab": {
          "base_uri": "https://localhost:8080/"
        },
        "id": "6msV603NlrAQ",
        "outputId": "ba97311c-7397-474e-fd1e-3aaf8810b922"
      },
      "execution_count": null,
      "outputs": [
        {
          "output_type": "execute_result",
          "data": {
            "text/plain": [
              "-60"
            ]
          },
          "metadata": {},
          "execution_count": 14
        }
      ]
    },
    {
      "cell_type": "code",
      "source": [
        "num3 =\"423\"\n",
        "type(num3)"
      ],
      "metadata": {
        "colab": {
          "base_uri": "https://localhost:8080/"
        },
        "id": "dNagzC3rl1K4",
        "outputId": "b0a574ac-674d-4b78-ae1d-6abf1db80786"
      },
      "execution_count": null,
      "outputs": [
        {
          "output_type": "execute_result",
          "data": {
            "text/plain": [
              "str"
            ]
          },
          "metadata": {},
          "execution_count": 8
        }
      ]
    },
    {
      "cell_type": "code",
      "source": [
        "int(num3)"
      ],
      "metadata": {
        "colab": {
          "base_uri": "https://localhost:8080/"
        },
        "id": "V8uabtLIl_K0",
        "outputId": "44aa07c7-9ee8-4b75-aa28-e61f036b2171"
      },
      "execution_count": null,
      "outputs": [
        {
          "output_type": "execute_result",
          "data": {
            "text/plain": [
              "423"
            ]
          },
          "metadata": {},
          "execution_count": 9
        }
      ]
    },
    {
      "cell_type": "code",
      "source": [
        "10+6"
      ],
      "metadata": {
        "colab": {
          "base_uri": "https://localhost:8080/"
        },
        "id": "mTIQbGS3mV8S",
        "outputId": "37e6a72f-00f4-4b5e-f5ef-f215fa839c33"
      },
      "execution_count": null,
      "outputs": [
        {
          "output_type": "execute_result",
          "data": {
            "text/plain": [
              "16"
            ]
          },
          "metadata": {},
          "execution_count": 11
        }
      ]
    },
    {
      "cell_type": "code",
      "source": [
        "\"10\"+\"6\""
      ],
      "metadata": {
        "colab": {
          "base_uri": "https://localhost:8080/",
          "height": 36
        },
        "id": "4iEaIF2amY8O",
        "outputId": "c58f4c15-5a41-4de3-a4d1-8f9d6cb0afdb"
      },
      "execution_count": null,
      "outputs": [
        {
          "output_type": "execute_result",
          "data": {
            "text/plain": [
              "'106'"
            ],
            "application/vnd.google.colaboratory.intrinsic+json": {
              "type": "string"
            }
          },
          "metadata": {},
          "execution_count": 12
        }
      ]
    },
    {
      "cell_type": "code",
      "source": [
        "print(\"Their apparent \\\"intention\\\" was honest\")"
      ],
      "metadata": {
        "colab": {
          "base_uri": "https://localhost:8080/"
        },
        "id": "qdhRb_R_oUO3",
        "outputId": "f9448891-9ba1-4136-ba64-208a99104a62"
      },
      "execution_count": null,
      "outputs": [
        {
          "output_type": "stream",
          "name": "stdout",
          "text": [
            "Their apparent \"intention\" was honest\n"
          ]
        }
      ]
    },
    {
      "cell_type": "code",
      "source": [
        "print(\"Here is a \\nnew line \\nDo you like it\")"
      ],
      "metadata": {
        "colab": {
          "base_uri": "https://localhost:8080/"
        },
        "id": "xoXuFMsQoxo0",
        "outputId": "2d210d61-ccd7-495b-b35e-de063fe32715"
      },
      "execution_count": null,
      "outputs": [
        {
          "output_type": "stream",
          "name": "stdout",
          "text": [
            "Here is a \n",
            "new line \n",
            "Do you like it\n"
          ]
        }
      ]
    },
    {
      "cell_type": "code",
      "source": [
        "print(\"Today is 5 \\bth of \\bNovember\")"
      ],
      "metadata": {
        "colab": {
          "base_uri": "https://localhost:8080/"
        },
        "id": "9tUnPGOppD0N",
        "outputId": "6bbb6909-0fae-40de-b44a-bd6cac8b164d"
      },
      "execution_count": null,
      "outputs": [
        {
          "output_type": "stream",
          "name": "stdout",
          "text": [
            "Today is 5 \bth of \bNovember\n"
          ]
        }
      ]
    },
    {
      "cell_type": "code",
      "source": [
        "print(\"Today is 5 th of \\tNovember\")"
      ],
      "metadata": {
        "colab": {
          "base_uri": "https://localhost:8080/"
        },
        "id": "wh3Eh0t0qpnP",
        "outputId": "98c71248-2d2c-46ae-83f7-e850ba2c9660"
      },
      "execution_count": null,
      "outputs": [
        {
          "output_type": "stream",
          "name": "stdout",
          "text": [
            "Today is 5 th of \tNovember\n"
          ]
        }
      ]
    },
    {
      "cell_type": "code",
      "source": [
        "print(\"HELLO\")"
      ],
      "metadata": {
        "colab": {
          "base_uri": "https://localhost:8080/"
        },
        "id": "IcIag3ZStQ0v",
        "outputId": "05cdaae2-d1b6-45fd-bd7b-96f8f0809476"
      },
      "execution_count": null,
      "outputs": [
        {
          "output_type": "stream",
          "name": "stdout",
          "text": [
            "HELLO\n"
          ]
        }
      ]
    },
    {
      "cell_type": "code",
      "source": [
        "mystring1=\"HELLO\""
      ],
      "metadata": {
        "id": "nq8oQ9wetjjc"
      },
      "execution_count": null,
      "outputs": []
    },
    {
      "cell_type": "code",
      "source": [
        "mystring1[4]"
      ],
      "metadata": {
        "colab": {
          "base_uri": "https://localhost:8080/",
          "height": 36
        },
        "id": "x8g8m4qCtqPj",
        "outputId": "6b8822a3-a632-430f-c2af-0bf829db927a"
      },
      "execution_count": null,
      "outputs": [
        {
          "output_type": "execute_result",
          "data": {
            "text/plain": [
              "'O'"
            ],
            "application/vnd.google.colaboratory.intrinsic+json": {
              "type": "string"
            }
          },
          "metadata": {},
          "execution_count": 8
        }
      ]
    },
    {
      "cell_type": "code",
      "source": [
        "mystring1=\"HELLO\"\n",
        "mystring1[-5]"
      ],
      "metadata": {
        "colab": {
          "base_uri": "https://localhost:8080/",
          "height": 36
        },
        "id": "7Dekhf5Gt7nO",
        "outputId": "5c8690c2-9122-444e-d786-a734510a8235"
      },
      "execution_count": null,
      "outputs": [
        {
          "output_type": "execute_result",
          "data": {
            "text/plain": [
              "'H'"
            ],
            "application/vnd.google.colaboratory.intrinsic+json": {
              "type": "string"
            }
          },
          "metadata": {},
          "execution_count": 11
        }
      ]
    },
    {
      "cell_type": "code",
      "source": [
        "mystring1=\"HELLO\"\n",
        "mystring1[0:4]"
      ],
      "metadata": {
        "colab": {
          "base_uri": "https://localhost:8080/",
          "height": 36
        },
        "id": "aGs5ItPcuKDQ",
        "outputId": "c3a1aedd-c8b1-47d4-acf2-0bcaf7e43027"
      },
      "execution_count": null,
      "outputs": [
        {
          "output_type": "execute_result",
          "data": {
            "text/plain": [
              "'HELL'"
            ],
            "application/vnd.google.colaboratory.intrinsic+json": {
              "type": "string"
            }
          },
          "metadata": {},
          "execution_count": 14
        }
      ]
    },
    {
      "cell_type": "code",
      "source": [
        "mystring1=\"HELLO\"\n",
        "mystring1[::3]"
      ],
      "metadata": {
        "colab": {
          "base_uri": "https://localhost:8080/",
          "height": 36
        },
        "id": "Tk4heaIlu8N9",
        "outputId": "d7ee5fee-11e4-418a-facb-a2a793b89f1d"
      },
      "execution_count": null,
      "outputs": [
        {
          "output_type": "execute_result",
          "data": {
            "text/plain": [
              "'HL'"
            ],
            "application/vnd.google.colaboratory.intrinsic+json": {
              "type": "string"
            }
          },
          "metadata": {},
          "execution_count": 15
        }
      ]
    },
    {
      "cell_type": "code",
      "source": [
        "mystring1=\"HELLO\"\n",
        "mystring1[::2]"
      ],
      "metadata": {
        "colab": {
          "base_uri": "https://localhost:8080/",
          "height": 36
        },
        "id": "jIi7c317vdcD",
        "outputId": "b6888aca-a7aa-4eb3-b172-20aad7e6e4b3"
      },
      "execution_count": null,
      "outputs": [
        {
          "output_type": "execute_result",
          "data": {
            "text/plain": [
              "'HLO'"
            ],
            "application/vnd.google.colaboratory.intrinsic+json": {
              "type": "string"
            }
          },
          "metadata": {},
          "execution_count": 16
        }
      ]
    },
    {
      "cell_type": "code",
      "source": [
        "mystring1=\"HELLO\"\n",
        "mystring1[:2]"
      ],
      "metadata": {
        "colab": {
          "base_uri": "https://localhost:8080/",
          "height": 36
        },
        "id": "h7jKTNVYv9c1",
        "outputId": "e695240b-7530-4abf-c12c-adb45aa0fb8e"
      },
      "execution_count": null,
      "outputs": [
        {
          "output_type": "execute_result",
          "data": {
            "text/plain": [
              "'HE'"
            ],
            "application/vnd.google.colaboratory.intrinsic+json": {
              "type": "string"
            }
          },
          "metadata": {},
          "execution_count": 17
        }
      ]
    },
    {
      "cell_type": "code",
      "source": [
        "mystring1=\"HELLO\"\n",
        "mystring1[1:3:2]\n",
        "EL"
      ],
      "metadata": {
        "colab": {
          "base_uri": "https://localhost:8080/",
          "height": 36
        },
        "id": "q_MnTYzDwLgE",
        "outputId": "ea8c91d7-82b2-466e-c6aa-861c22a6c691"
      },
      "execution_count": null,
      "outputs": [
        {
          "output_type": "execute_result",
          "data": {
            "text/plain": [
              "'E'"
            ],
            "application/vnd.google.colaboratory.intrinsic+json": {
              "type": "string"
            }
          },
          "metadata": {},
          "execution_count": 18
        }
      ]
    },
    {
      "cell_type": "code",
      "source": [
        "mystring1=\"HELLO\"\n",
        "mystring1[::1]"
      ],
      "metadata": {
        "colab": {
          "base_uri": "https://localhost:8080/",
          "height": 36
        },
        "id": "4s1FKHJLxaWP",
        "outputId": "394ca479-efb6-4a9f-dfd2-744853aa469f"
      },
      "execution_count": null,
      "outputs": [
        {
          "output_type": "execute_result",
          "data": {
            "text/plain": [
              "'HELLO'"
            ],
            "application/vnd.google.colaboratory.intrinsic+json": {
              "type": "string"
            }
          },
          "metadata": {},
          "execution_count": 22
        }
      ]
    },
    {
      "cell_type": "code",
      "source": [
        "str1 =\"Hello, today is\"\n",
        "str2 =\"5th November\""
      ],
      "metadata": {
        "id": "Nw8_7s7SymeW"
      },
      "execution_count": null,
      "outputs": []
    },
    {
      "cell_type": "code",
      "source": [
        "print(str1+\" \"+str2)"
      ],
      "metadata": {
        "colab": {
          "base_uri": "https://localhost:8080/"
        },
        "id": "b5_ZgUeqyu21",
        "outputId": "fe6ea2f1-ae57-4041-fe73-e1fa5c7df314"
      },
      "execution_count": null,
      "outputs": [
        {
          "output_type": "stream",
          "name": "stdout",
          "text": [
            "Hello, today is 5th November\n"
          ]
        }
      ]
    },
    {
      "cell_type": "code",
      "source": [
        "str3= \"write this 4 times\\n\"\n",
        "print(str3*4)"
      ],
      "metadata": {
        "colab": {
          "base_uri": "https://localhost:8080/"
        },
        "id": "JLTOjVPzy7vR",
        "outputId": "6908feff-da76-4605-8c36-9d9af51b2726"
      },
      "execution_count": null,
      "outputs": [
        {
          "output_type": "stream",
          "name": "stdout",
          "text": [
            "write this 4 times\n",
            "write this 4 times\n",
            "write this 4 times\n",
            "write this 4 times\n",
            "\n"
          ]
        }
      ]
    },
    {
      "cell_type": "code",
      "source": [
        "10+6"
      ],
      "metadata": {
        "colab": {
          "base_uri": "https://localhost:8080/"
        },
        "id": "N-HhxL8lzSeg",
        "outputId": "aa2cdc38-07cb-432f-89ab-404a0f4f08ac"
      },
      "execution_count": null,
      "outputs": [
        {
          "output_type": "execute_result",
          "data": {
            "text/plain": [
              "16"
            ]
          },
          "metadata": {},
          "execution_count": 36
        }
      ]
    },
    {
      "cell_type": "code",
      "source": [
        "\"10\"+\"6\""
      ],
      "metadata": {
        "colab": {
          "base_uri": "https://localhost:8080/",
          "height": 36
        },
        "id": "N3vbMkenzWES",
        "outputId": "4f35a10e-83fe-4c88-89f9-27c6c456e2fc"
      },
      "execution_count": null,
      "outputs": [
        {
          "output_type": "execute_result",
          "data": {
            "text/plain": [
              "'106'"
            ],
            "application/vnd.google.colaboratory.intrinsic+json": {
              "type": "string"
            }
          },
          "metadata": {},
          "execution_count": 37
        }
      ]
    },
    {
      "cell_type": "code",
      "source": [
        "str4=\"errpr\"\n",
        "str4[3]=\"o\""
      ],
      "metadata": {
        "colab": {
          "base_uri": "https://localhost:8080/",
          "height": 182
        },
        "id": "pKUdSRPuzi7d",
        "outputId": "c78116a2-f7fd-4c9d-ddee-3f3385d56db0"
      },
      "execution_count": null,
      "outputs": [
        {
          "output_type": "error",
          "ename": "TypeError",
          "evalue": "ignored",
          "traceback": [
            "\u001b[0;31m---------------------------------------------------------------------------\u001b[0m",
            "\u001b[0;31mTypeError\u001b[0m                                 Traceback (most recent call last)",
            "\u001b[0;32m<ipython-input-42-00ccde33090e>\u001b[0m in \u001b[0;36m<module>\u001b[0;34m\u001b[0m\n\u001b[1;32m      1\u001b[0m \u001b[0mstr4\u001b[0m\u001b[0;34m=\u001b[0m\u001b[0;34m\"errpr\"\u001b[0m\u001b[0;34m\u001b[0m\u001b[0;34m\u001b[0m\u001b[0m\n\u001b[0;32m----> 2\u001b[0;31m \u001b[0mstr4\u001b[0m\u001b[0;34m[\u001b[0m\u001b[0;36m3\u001b[0m\u001b[0;34m]\u001b[0m\u001b[0;34m=\u001b[0m\u001b[0;34m\"o\"\u001b[0m\u001b[0;34m\u001b[0m\u001b[0;34m\u001b[0m\u001b[0m\n\u001b[0m",
            "\u001b[0;31mTypeError\u001b[0m: 'str' object does not support item assignment"
          ]
        }
      ]
    },
    {
      "cell_type": "code",
      "source": [
        "str5 = \"hey this is a string\"\n",
        "str5.capitalize()"
      ],
      "metadata": {
        "colab": {
          "base_uri": "https://localhost:8080/",
          "height": 36
        },
        "id": "ke-Ukn7n0k8I",
        "outputId": "9e10c735-cbf1-4185-90d2-ec5e36b50baa"
      },
      "execution_count": null,
      "outputs": [
        {
          "output_type": "execute_result",
          "data": {
            "text/plain": [
              "'Hey this is a string'"
            ],
            "application/vnd.google.colaboratory.intrinsic+json": {
              "type": "string"
            }
          },
          "metadata": {},
          "execution_count": 43
        }
      ]
    },
    {
      "cell_type": "code",
      "source": [
        "str5 = \"hey this is a string\"\n",
        "str5.title()"
      ],
      "metadata": {
        "colab": {
          "base_uri": "https://localhost:8080/",
          "height": 36
        },
        "id": "hPE3xd2t1OJS",
        "outputId": "60a8513c-5a08-431f-b9aa-8b371134b4b6"
      },
      "execution_count": null,
      "outputs": [
        {
          "output_type": "execute_result",
          "data": {
            "text/plain": [
              "'Hey This Is A String'"
            ],
            "application/vnd.google.colaboratory.intrinsic+json": {
              "type": "string"
            }
          },
          "metadata": {},
          "execution_count": 44
        }
      ]
    },
    {
      "cell_type": "code",
      "source": [
        "str5 = \"hey this is a string\"\n",
        "str5.upper()"
      ],
      "metadata": {
        "colab": {
          "base_uri": "https://localhost:8080/",
          "height": 36
        },
        "id": "sfFTH3Qa1T0J",
        "outputId": "032f1a98-60d2-4703-ebdc-be70dbe73295"
      },
      "execution_count": null,
      "outputs": [
        {
          "output_type": "execute_result",
          "data": {
            "text/plain": [
              "'HEY THIS IS A STRING'"
            ],
            "application/vnd.google.colaboratory.intrinsic+json": {
              "type": "string"
            }
          },
          "metadata": {},
          "execution_count": 45
        }
      ]
    },
    {
      "cell_type": "code",
      "source": [
        "str6 =\"HEY THIS IS A STRING\"\n",
        "str6.lower()"
      ],
      "metadata": {
        "colab": {
          "base_uri": "https://localhost:8080/",
          "height": 36
        },
        "id": "A4NLbVz41azA",
        "outputId": "85132e64-6003-4bf0-aad7-f2d228007a47"
      },
      "execution_count": null,
      "outputs": [
        {
          "output_type": "execute_result",
          "data": {
            "text/plain": [
              "'hey this is a string'"
            ],
            "application/vnd.google.colaboratory.intrinsic+json": {
              "type": "string"
            }
          },
          "metadata": {},
          "execution_count": 46
        }
      ]
    },
    {
      "cell_type": "code",
      "source": [
        "str6.casefold()"
      ],
      "metadata": {
        "colab": {
          "base_uri": "https://localhost:8080/",
          "height": 36
        },
        "id": "GZoSr_Rj1kE1",
        "outputId": "5f9ad009-ad63-4a85-d07b-6500fc62e23d"
      },
      "execution_count": null,
      "outputs": [
        {
          "output_type": "execute_result",
          "data": {
            "text/plain": [
              "'hey this is a string'"
            ],
            "application/vnd.google.colaboratory.intrinsic+json": {
              "type": "string"
            }
          },
          "metadata": {},
          "execution_count": 47
        }
      ]
    },
    {
      "cell_type": "code",
      "source": [
        "str5 = \"hey this is a string\"\n",
        "str5.find(\"i\")"
      ],
      "metadata": {
        "colab": {
          "base_uri": "https://localhost:8080/"
        },
        "id": "bubODXYt1pmB",
        "outputId": "ac41884a-8378-4362-dc48-67b54d2096dd"
      },
      "execution_count": null,
      "outputs": [
        {
          "output_type": "execute_result",
          "data": {
            "text/plain": [
              "6"
            ]
          },
          "metadata": {},
          "execution_count": 1
        }
      ]
    },
    {
      "cell_type": "code",
      "source": [
        "str4=\"errpr\"\n",
        "str4.replace(\"p\",\"o\")"
      ],
      "metadata": {
        "colab": {
          "base_uri": "https://localhost:8080/",
          "height": 36
        },
        "id": "alzGrird3bA7",
        "outputId": "0766d4e7-c1fd-4c73-d842-15e7d633aa9a"
      },
      "execution_count": null,
      "outputs": [
        {
          "output_type": "execute_result",
          "data": {
            "text/plain": [
              "'error'"
            ],
            "application/vnd.google.colaboratory.intrinsic+json": {
              "type": "string"
            }
          },
          "metadata": {},
          "execution_count": 2
        }
      ]
    },
    {
      "cell_type": "code",
      "source": [
        "str5 = \"hey this is a string\"\n",
        "str5.count(\"i\")"
      ],
      "metadata": {
        "colab": {
          "base_uri": "https://localhost:8080/"
        },
        "id": "vXywhI953wBO",
        "outputId": "b88664c1-2bfa-4234-9edc-c12bc16735c8"
      },
      "execution_count": null,
      "outputs": [
        {
          "output_type": "execute_result",
          "data": {
            "text/plain": [
              "3"
            ]
          },
          "metadata": {},
          "execution_count": 3
        }
      ]
    },
    {
      "cell_type": "code",
      "source": [
        "str5 = \"hey this is a string\"\n",
        "str5.split(\"i\")"
      ],
      "metadata": {
        "colab": {
          "base_uri": "https://localhost:8080/"
        },
        "id": "lelCFQUw37Er",
        "outputId": "a2d2409d-af31-4100-9e3d-9402fcc4ed36"
      },
      "execution_count": null,
      "outputs": [
        {
          "output_type": "execute_result",
          "data": {
            "text/plain": [
              "['hey th', 's ', 's a str', 'ng']"
            ]
          },
          "metadata": {},
          "execution_count": 5
        }
      ]
    },
    {
      "cell_type": "code",
      "source": [
        "\"my salary will be {} by next April\".format(5000)"
      ],
      "metadata": {
        "colab": {
          "base_uri": "https://localhost:8080/",
          "height": 36
        },
        "id": "_x_6YP9C4aLX",
        "outputId": "e51a127d-d3d9-4e0b-ccff-6842d6ba4422"
      },
      "execution_count": null,
      "outputs": [
        {
          "output_type": "execute_result",
          "data": {
            "text/plain": [
              "'my salary will be 5000 by next April'"
            ],
            "application/vnd.google.colaboratory.intrinsic+json": {
              "type": "string"
            }
          },
          "metadata": {},
          "execution_count": 6
        }
      ]
    },
    {
      "cell_type": "code",
      "source": [
        "str7 = \"my salary will be {} by next April\"\n",
        "salary =5000\n",
        "print(str7.format(salary))"
      ],
      "metadata": {
        "colab": {
          "base_uri": "https://localhost:8080/"
        },
        "id": "1jJz5Ee34tZW",
        "outputId": "ec7a8182-ed25-47db-84b6-8eb7ab3e23a5"
      },
      "execution_count": null,
      "outputs": [
        {
          "output_type": "stream",
          "name": "stdout",
          "text": [
            "my salary will be 5000 by next April\n"
          ]
        }
      ]
    },
    {
      "cell_type": "code",
      "source": [
        "str8 = \"I bought {} kg of {} that cost {} pounds\"\n",
        "product = \"apples\"\n",
        "weight = 10\n",
        "cost = 20\n",
        "print(str8.format(weight,product,cost))"
      ],
      "metadata": {
        "colab": {
          "base_uri": "https://localhost:8080/"
        },
        "id": "usrPKPkn5AKC",
        "outputId": "7f9ca227-c20e-4dd7-b3d1-0c6de4eecc86"
      },
      "execution_count": null,
      "outputs": [
        {
          "output_type": "stream",
          "name": "stdout",
          "text": [
            "I bought 10 kg of apples that cost 20 pounds\n"
          ]
        }
      ]
    },
    {
      "cell_type": "code",
      "source": [
        "str8 = \"I bought {1} kg of {0} that cost {2} pounds\"\n",
        "product = \"apples\"\n",
        "weight = 10\n",
        "cost = 20\n",
        "print(str8.format(product,weight,cost))"
      ],
      "metadata": {
        "colab": {
          "base_uri": "https://localhost:8080/"
        },
        "id": "bun7mMM_5l88",
        "outputId": "c00e02c8-dfcb-46e1-c6fd-b15bfd312edb"
      },
      "execution_count": null,
      "outputs": [
        {
          "output_type": "stream",
          "name": "stdout",
          "text": [
            "I bought 10 kg of apples that cost 20 pounds\n"
          ]
        }
      ]
    },
    {
      "cell_type": "code",
      "source": [
        "str8 = \"I bought {a} kg of {b} that cost {c} pounds\"\n",
        "product = \"apples\"\n",
        "weight = 10\n",
        "cost = 20\n",
        "print(str8.format(b=product,a=weight,c=cost))"
      ],
      "metadata": {
        "colab": {
          "base_uri": "https://localhost:8080/"
        },
        "id": "9Z0_ig1k6L1C",
        "outputId": "4aa959f1-1550-4dac-a77c-893682d23793"
      },
      "execution_count": null,
      "outputs": [
        {
          "output_type": "stream",
          "name": "stdout",
          "text": [
            "I bought 10 kg of apples that cost 20 pounds\n"
          ]
        }
      ]
    },
    {
      "cell_type": "code",
      "source": [
        "\"I bought %d kg of %s that cost %f pounds\" %(10,\"apple\",20.5)"
      ],
      "metadata": {
        "colab": {
          "base_uri": "https://localhost:8080/",
          "height": 36
        },
        "id": "_pCUqMYZ6oi_",
        "outputId": "032efcd4-7017-472e-9924-3549cf1eb732"
      },
      "execution_count": null,
      "outputs": [
        {
          "output_type": "execute_result",
          "data": {
            "text/plain": [
              "'I bought 10 kg of apple that cost 20.500000 pounds'"
            ],
            "application/vnd.google.colaboratory.intrinsic+json": {
              "type": "string"
            }
          },
          "metadata": {},
          "execution_count": 12
        }
      ]
    },
    {
      "cell_type": "code",
      "source": [
        "\"I bought %d kg of %s that cost %d pounds\" %(10,\"apple\",20)"
      ],
      "metadata": {
        "colab": {
          "base_uri": "https://localhost:8080/",
          "height": 36
        },
        "id": "Yh47_MJg7JyR",
        "outputId": "8a26e666-4be9-4a23-c965-40e3537c2dbb"
      },
      "execution_count": null,
      "outputs": [
        {
          "output_type": "execute_result",
          "data": {
            "text/plain": [
              "'I bought 10 kg of apple that cost 20 pounds'"
            ],
            "application/vnd.google.colaboratory.intrinsic+json": {
              "type": "string"
            }
          },
          "metadata": {},
          "execution_count": 24
        }
      ]
    },
    {
      "cell_type": "code",
      "source": [
        "print(\"this string %a missing\"%\"something\")"
      ],
      "metadata": {
        "colab": {
          "base_uri": "https://localhost:8080/"
        },
        "id": "9RnlV9_s7T1Z",
        "outputId": "5aeb1c78-6243-496c-8c50-5a329a826c52"
      },
      "execution_count": null,
      "outputs": [
        {
          "output_type": "stream",
          "name": "stdout",
          "text": [
            "this string 'something' missing\n"
          ]
        }
      ]
    },
    {
      "cell_type": "code",
      "source": [
        "10*5\n"
      ],
      "metadata": {
        "colab": {
          "base_uri": "https://localhost:8080/"
        },
        "id": "6BH1VigI7rrG",
        "outputId": "86d9fa78-68ee-4474-8a84-f28fb003d95e"
      },
      "execution_count": null,
      "outputs": [
        {
          "output_type": "execute_result",
          "data": {
            "text/plain": [
              "50"
            ]
          },
          "metadata": {},
          "execution_count": 17
        }
      ]
    },
    {
      "cell_type": "code",
      "source": [
        "3**2"
      ],
      "metadata": {
        "colab": {
          "base_uri": "https://localhost:8080/"
        },
        "id": "PKf7f1c77xLe",
        "outputId": "508e64a8-ace9-4d98-faa5-cbba9f50cb70"
      },
      "execution_count": null,
      "outputs": [
        {
          "output_type": "execute_result",
          "data": {
            "text/plain": [
              "9"
            ]
          },
          "metadata": {},
          "execution_count": 18
        }
      ]
    },
    {
      "cell_type": "code",
      "source": [
        "5%3"
      ],
      "metadata": {
        "colab": {
          "base_uri": "https://localhost:8080/"
        },
        "id": "jPmgzumA72fm",
        "outputId": "6a045fc1-a1ba-4c2b-fe06-9c3de193f355"
      },
      "execution_count": null,
      "outputs": [
        {
          "output_type": "execute_result",
          "data": {
            "text/plain": [
              "2"
            ]
          },
          "metadata": {},
          "execution_count": 20
        }
      ]
    },
    {
      "cell_type": "code",
      "source": [
        "x=4\n",
        "y=5\n",
        "x<=y"
      ],
      "metadata": {
        "colab": {
          "base_uri": "https://localhost:8080/"
        },
        "id": "CsxtVh6a8v3_",
        "outputId": "b38cb9a0-e57a-47ed-9aab-4d6e2e9b89d6"
      },
      "execution_count": null,
      "outputs": [
        {
          "output_type": "execute_result",
          "data": {
            "text/plain": [
              "True"
            ]
          },
          "metadata": {},
          "execution_count": 28
        }
      ]
    },
    {
      "cell_type": "code",
      "source": [
        "x=4\n",
        "y=5\n",
        "6>x and 6<y"
      ],
      "metadata": {
        "colab": {
          "base_uri": "https://localhost:8080/"
        },
        "id": "1OGK4wf19Dyk",
        "outputId": "6a5ea4a0-3860-43e5-9a1c-24e9f428bb7e"
      },
      "execution_count": null,
      "outputs": [
        {
          "output_type": "execute_result",
          "data": {
            "text/plain": [
              "False"
            ]
          },
          "metadata": {},
          "execution_count": 31
        }
      ]
    },
    {
      "cell_type": "code",
      "source": [
        "x=4\n",
        "y=5\n",
        "6>x or 6<y"
      ],
      "metadata": {
        "colab": {
          "base_uri": "https://localhost:8080/"
        },
        "id": "1UjuR1Ty9TTL",
        "outputId": "deb850e9-bc71-433f-844f-d6e2472cd93a"
      },
      "execution_count": null,
      "outputs": [
        {
          "output_type": "execute_result",
          "data": {
            "text/plain": [
              "True"
            ]
          },
          "metadata": {},
          "execution_count": 34
        }
      ]
    },
    {
      "cell_type": "code",
      "source": [
        "x=4\n",
        "y=5\n",
        "not(x==y)"
      ],
      "metadata": {
        "colab": {
          "base_uri": "https://localhost:8080/"
        },
        "id": "6rePw-xh9hyZ",
        "outputId": "37abb3c1-0d00-4db4-a251-03f49ae35290"
      },
      "execution_count": null,
      "outputs": [
        {
          "output_type": "execute_result",
          "data": {
            "text/plain": [
              "True"
            ]
          },
          "metadata": {},
          "execution_count": 40
        }
      ]
    },
    {
      "cell_type": "code",
      "source": [],
      "metadata": {
        "colab": {
          "base_uri": "https://localhost:8080/"
        },
        "id": "Vqz9RoDP-d7u",
        "outputId": "a027e3cc-e5a3-45e0-a9e0-968bd0ebcd5b"
      },
      "execution_count": null,
      "outputs": [
        {
          "output_type": "stream",
          "name": "stdout",
          "text": [
            "Help on built-in function round in module builtins:\n",
            "\n",
            "round(number, ndigits=None)\n",
            "    Round a number to a given precision in decimal digits.\n",
            "    \n",
            "    The return value is an integer if ndigits is omitted or None.  Otherwise\n",
            "    the return value has the same type as the number.  ndigits may be negative.\n",
            "\n"
          ]
        }
      ]
    },
    {
      "cell_type": "code",
      "source": [
        "x=4\n",
        "if x%2==0:\n",
        "  print(\"This is an even number\")\n",
        "else:\n",
        "  print(\"This is not an even number\")\n",
        "\n",
        "\n",
        "\n",
        "\n"
      ],
      "metadata": {
        "colab": {
          "base_uri": "https://localhost:8080/"
        },
        "id": "ZmLXy-UQ_h36",
        "outputId": "9592f58a-3066-4155-e920-5727d58d3005"
      },
      "execution_count": null,
      "outputs": [
        {
          "output_type": "stream",
          "name": "stdout",
          "text": [
            "This is an even number\n"
          ]
        }
      ]
    },
    {
      "cell_type": "code",
      "source": [
        "a,b =12,12\n",
        "if a==b:\n",
        "  print(\"The two numbers are equal\")\n",
        "elif a>b:\n",
        "  print(\"The first number if greater than second\")\n",
        "else:\n",
        "  print(\"The first number is smaller than the second\")"
      ],
      "metadata": {
        "colab": {
          "base_uri": "https://localhost:8080/"
        },
        "id": "RZqGJJ5uBChK",
        "outputId": "21d6007d-5f13-44e3-adf7-671014409ff4"
      },
      "execution_count": null,
      "outputs": [
        {
          "output_type": "stream",
          "name": "stdout",
          "text": [
            "The two numbers are equal\n"
          ]
        }
      ]
    },
    {
      "cell_type": "code",
      "source": [
        "a=10\n",
        "if a>0:\n",
        "  print(\"The number is positive\")\n",
        "elif a<0:\n",
        "  print(\"The number is negative\")\n",
        "else:\n",
        "  print(\"The number is equal to zero\")"
      ],
      "metadata": {
        "colab": {
          "base_uri": "https://localhost:8080/"
        },
        "id": "HaLiCN4IDSSG",
        "outputId": "61c07895-751f-489e-bebe-c34683d5091b"
      },
      "execution_count": null,
      "outputs": [
        {
          "output_type": "stream",
          "name": "stdout",
          "text": [
            "The number is positive\n"
          ]
        }
      ]
    },
    {
      "cell_type": "code",
      "source": [
        "for i in range(0,6):\n",
        "  print(\"The iteration is {}\".format(i))\n",
        "print(\"The end\")\n"
      ],
      "metadata": {
        "colab": {
          "base_uri": "https://localhost:8080/"
        },
        "id": "5MpDBNK1EctO",
        "outputId": "37fd8cde-5d80-44d5-b31f-3485916f2ac9"
      },
      "execution_count": null,
      "outputs": [
        {
          "output_type": "stream",
          "name": "stdout",
          "text": [
            "The iteration is 0\n",
            "The iteration is 1\n",
            "The iteration is 2\n",
            "The iteration is 3\n",
            "The iteration is 4\n",
            "The iteration is 5\n",
            "The end\n"
          ]
        }
      ]
    },
    {
      "cell_type": "code",
      "source": [
        "item=0\n",
        "while item<6:\n",
        "  print(item)\n",
        "  item=1+item\n",
        "print(\"The end!\")\n"
      ],
      "metadata": {
        "colab": {
          "base_uri": "https://localhost:8080/"
        },
        "id": "yNgk9xO-GW3P",
        "outputId": "6078fb5f-7b5c-4ea2-edb3-f65062c36f52"
      },
      "execution_count": null,
      "outputs": [
        {
          "output_type": "stream",
          "name": "stdout",
          "text": [
            "0\n",
            "1\n",
            "2\n",
            "3\n",
            "4\n",
            "5\n",
            "The end!\n"
          ]
        }
      ]
    },
    {
      "cell_type": "code",
      "source": [
        "targetv =5\n",
        "iterate =2\n",
        "while iterate <targetv:\n",
        "  print(\"The iteration no. is {}, which is less than the target value {}\".format(iterate, targetv))\n",
        "  iterate=iterate+1\n",
        "print(\"The end!\")\n"
      ],
      "metadata": {
        "colab": {
          "base_uri": "https://localhost:8080/"
        },
        "id": "CBvX1-jgITDu",
        "outputId": "4f35e539-3d7b-416e-ab13-7500d78bfc19"
      },
      "execution_count": null,
      "outputs": [
        {
          "output_type": "stream",
          "name": "stdout",
          "text": [
            "The iteration no. is 2, which is less than the target value 5\n",
            "The iteration no. is 3, which is less than the target value 5\n",
            "The iteration no. is 4, which is less than the target value 5\n",
            "The end!\n"
          ]
        }
      ]
    },
    {
      "cell_type": "code",
      "source": [
        "for i in range(1,6):#outer loop\n",
        "  for j in range(1,11):#inner loop\n",
        "    print(i*j, end=\" \")\n"
      ],
      "metadata": {
        "colab": {
          "base_uri": "https://localhost:8080/"
        },
        "id": "u20r_9yWLdl4",
        "outputId": "2a85a38a-9fdd-4882-ca7e-6c3093f80539"
      },
      "execution_count": null,
      "outputs": [
        {
          "output_type": "stream",
          "name": "stdout",
          "text": [
            "1 2 3 4 5 6 7 8 9 10 2 4 6 8 10 12 14 16 18 20 3 6 9 12 15 18 21 24 27 30 4 8 12 16 20 24 28 32 36 40 5 10 15 20 25 30 35 40 45 50 "
          ]
        }
      ]
    },
    {
      "cell_type": "code",
      "source": [
        "colours = [\"blue\", \"red\", \"yellow\"]\n",
        "cars = [\"BMW\", \"Mercedes\", \"Range\"]\n",
        "for colour in colours:\n",
        "  for car in cars:\n",
        "    print(colour, car)"
      ],
      "metadata": {
        "colab": {
          "base_uri": "https://localhost:8080/"
        },
        "id": "GejYy7G8NLto",
        "outputId": "a277ea7a-d14e-46d7-f777-e0ae88b46cf6"
      },
      "execution_count": null,
      "outputs": [
        {
          "output_type": "stream",
          "name": "stdout",
          "text": [
            "blue BMW\n",
            "blue Mercedes\n",
            "blue Range\n",
            "red BMW\n",
            "red Mercedes\n",
            "red Range\n",
            "yellow BMW\n",
            "yellow Mercedes\n",
            "yellow Range\n"
          ]
        }
      ]
    },
    {
      "cell_type": "code",
      "source": [
        "targetv=5\n",
        "iterate =0\n",
        "while iterate<targetv:\n",
        "  print(\"Iteration number is {}, which is less than the target value\".format(iterate,targetv))\n",
        "  if iterate==3:\n",
        "    print(\"Condition met\")\n",
        "    break\n",
        "  iterate=iterate+1\n",
        "  "
      ],
      "metadata": {
        "colab": {
          "base_uri": "https://localhost:8080/"
        },
        "id": "zmGw08e6PX8s",
        "outputId": "5c23e1aa-1d90-4fbf-9c25-f3446e594c29"
      },
      "execution_count": null,
      "outputs": [
        {
          "output_type": "stream",
          "name": "stdout",
          "text": [
            "Iteration number is 0, which is less than the target value\n",
            "Iteration number is 1, which is less than the target value\n",
            "Iteration number is 2, which is less than the target value\n",
            "Iteration number is 3, which is less than the target value\n",
            "Condition met\n"
          ]
        }
      ]
    },
    {
      "cell_type": "code",
      "source": [
        "targetv=5\n",
        "iterate =0\n",
        "while iterate<targetv:\n",
        "  iterate=iterate+1\n",
        "  if iterate==2:\n",
        "    continue\n",
        "  print(\"Iteration no is {},which is less than the taget value{}\".format(iterate,targetv))"
      ],
      "metadata": {
        "colab": {
          "base_uri": "https://localhost:8080/"
        },
        "id": "pYiylzbxU4Ox",
        "outputId": "c4c2d0bd-067e-4f10-aa58-e7c64d3a20e6"
      },
      "execution_count": null,
      "outputs": [
        {
          "output_type": "stream",
          "name": "stdout",
          "text": [
            "Iteration no is 1,which is less than the taget value5\n",
            "Iteration no is 3,which is less than the taget value5\n",
            "Iteration no is 4,which is less than the taget value5\n",
            "Iteration no is 5,which is less than the taget value5\n"
          ]
        }
      ]
    },
    {
      "cell_type": "code",
      "source": [
        "names =[\"Mercy\", \"Anis\", \"Chris\", \"Israel\"]\n",
        "for name in names:\n",
        "  if name ==\"Chris\":\n",
        "    continue\n",
        "  print(name)"
      ],
      "metadata": {
        "colab": {
          "base_uri": "https://localhost:8080/"
        },
        "id": "sr5x5JpiWSu3",
        "outputId": "c96614b1-3d94-485b-c8ee-9161f8ae619f"
      },
      "execution_count": null,
      "outputs": [
        {
          "output_type": "stream",
          "name": "stdout",
          "text": [
            "Mercy\n",
            "Anis\n",
            "Israel\n"
          ]
        }
      ]
    },
    {
      "cell_type": "code",
      "source": [
        "mylist =[\"Michael\", \"Sean\", \"Adam\"]\n",
        "mylist[0]=\"John\"\n",
        "print(mylist)"
      ],
      "metadata": {
        "colab": {
          "base_uri": "https://localhost:8080/"
        },
        "id": "KkT0Ec6QZK4v",
        "outputId": "e0da40c9-932b-4fd3-c51d-7eeaf1868619"
      },
      "execution_count": null,
      "outputs": [
        {
          "output_type": "stream",
          "name": "stdout",
          "text": [
            "['John', 'Sean', 'Adam']\n"
          ]
        }
      ]
    },
    {
      "cell_type": "code",
      "source": [
        "mylist[0:2]"
      ],
      "metadata": {
        "colab": {
          "base_uri": "https://localhost:8080/"
        },
        "id": "jcu-DLL6ZkK9",
        "outputId": "7b41fd58-77f2-4c5d-e078-915a88dc4860"
      },
      "execution_count": null,
      "outputs": [
        {
          "output_type": "execute_result",
          "data": {
            "text/plain": [
              "['John', 'Sean']"
            ]
          },
          "metadata": {},
          "execution_count": 5
        }
      ]
    },
    {
      "cell_type": "code",
      "source": [
        "print(len(mylist))"
      ],
      "metadata": {
        "colab": {
          "base_uri": "https://localhost:8080/"
        },
        "id": "FGm25hheaHOp",
        "outputId": "fc09d12c-df75-4aad-f857-f7ae030ab987"
      },
      "execution_count": null,
      "outputs": [
        {
          "output_type": "stream",
          "name": "stdout",
          "text": [
            "3\n"
          ]
        }
      ]
    },
    {
      "cell_type": "code",
      "source": [
        "print(type(mylist))"
      ],
      "metadata": {
        "colab": {
          "base_uri": "https://localhost:8080/"
        },
        "id": "hapUApMhaQ0_",
        "outputId": "551a8255-587c-4559-c5b6-5ff1c8a5f67e"
      },
      "execution_count": null,
      "outputs": [
        {
          "output_type": "stream",
          "name": "stdout",
          "text": [
            "<class 'list'>\n"
          ]
        }
      ]
    },
    {
      "cell_type": "code",
      "source": [
        "mylist =[\"Michael\", \"Sean\", \"Adam\"]\n",
        "if \"Sean\" in mylist:\n",
        "  print(\"Yes the element is present\")"
      ],
      "metadata": {
        "colab": {
          "base_uri": "https://localhost:8080/"
        },
        "id": "_av8UpsjacTt",
        "outputId": "144c66a6-7db4-4f05-9380-9a57c527b24d"
      },
      "execution_count": null,
      "outputs": [
        {
          "output_type": "stream",
          "name": "stdout",
          "text": [
            "Yes the element is present\n"
          ]
        }
      ]
    },
    {
      "cell_type": "code",
      "source": [
        "mylist =[\"Michael\", \"Sean\", \"Adam\"]\n",
        "mylist.insert(0,\"Mercy\")\n",
        "print(mylist)"
      ],
      "metadata": {
        "colab": {
          "base_uri": "https://localhost:8080/"
        },
        "id": "wmRJhFVebN-H",
        "outputId": "aa450956-e96b-4118-eccf-e210d29bc451"
      },
      "execution_count": null,
      "outputs": [
        {
          "output_type": "stream",
          "name": "stdout",
          "text": [
            "['Mercy', 'Michael', 'Sean', 'Adam']\n"
          ]
        }
      ]
    },
    {
      "cell_type": "code",
      "source": [
        "mylist.append(\"John\")\n",
        "print(mylist)"
      ],
      "metadata": {
        "colab": {
          "base_uri": "https://localhost:8080/"
        },
        "id": "mbpCAbx8boEQ",
        "outputId": "345e1b3a-07fb-4eed-cc19-7c03f5e8ba9a"
      },
      "execution_count": null,
      "outputs": [
        {
          "output_type": "stream",
          "name": "stdout",
          "text": [
            "['Mercy', 'Michael', 'Sean', 'Adam', 'John', 'John']\n"
          ]
        }
      ]
    },
    {
      "cell_type": "code",
      "source": [
        "mylist1 =[\"Michael\", \"Sean\", \"Adam\"]\n",
        "mylist2=[\"Zara\", \"Alex\"]\n",
        "mylist1.extend(mylist2)\n",
        "print(mylist1)"
      ],
      "metadata": {
        "colab": {
          "base_uri": "https://localhost:8080/"
        },
        "id": "IyFYV9pocIGX",
        "outputId": "32708cee-b74a-4454-d358-6d0efb6f2a66"
      },
      "execution_count": null,
      "outputs": [
        {
          "output_type": "stream",
          "name": "stdout",
          "text": [
            "['Michael', 'Sean', 'Adam', 'Zara', 'Alex']\n"
          ]
        }
      ]
    },
    {
      "cell_type": "code",
      "source": [
        "mylist3 =[\"Michael\", \"Sean\", \"Adam\"]\n",
        "mylist4=[\"Zara\", \"Alex\"]\n",
        "mylist4.extend(mylist3)\n",
        "print(mylist4)"
      ],
      "metadata": {
        "colab": {
          "base_uri": "https://localhost:8080/"
        },
        "id": "oIkgHz3uckHJ",
        "outputId": "a4727bef-cdfc-4402-e312-daa454786ecd"
      },
      "execution_count": null,
      "outputs": [
        {
          "output_type": "stream",
          "name": "stdout",
          "text": [
            "['Zara', 'Alex', 'Michael', 'Sean', 'Adam']\n"
          ]
        }
      ]
    },
    {
      "cell_type": "code",
      "source": [
        "mylist4.remove(\"Zara\")\n",
        "print(mylist4)"
      ],
      "metadata": {
        "colab": {
          "base_uri": "https://localhost:8080/"
        },
        "id": "OuH1jfvBdKrS",
        "outputId": "0d523f44-0745-4455-8610-e2caf888bd57"
      },
      "execution_count": null,
      "outputs": [
        {
          "output_type": "stream",
          "name": "stdout",
          "text": [
            "['Alex', 'Michael', 'Sean', 'Adam']\n"
          ]
        }
      ]
    },
    {
      "cell_type": "code",
      "source": [
        "mylist4.pop()\n",
        "print(mylist4)"
      ],
      "metadata": {
        "colab": {
          "base_uri": "https://localhost:8080/"
        },
        "id": "VWJiTNyrdlVg",
        "outputId": "001449da-c6e5-4322-d4ad-0f7c873ea126"
      },
      "execution_count": null,
      "outputs": [
        {
          "output_type": "stream",
          "name": "stdout",
          "text": [
            "['Alex', 'Michael', 'Sean']\n"
          ]
        }
      ]
    },
    {
      "cell_type": "code",
      "source": [
        "mylist4.pop(1)\n",
        "print(mylist4)"
      ],
      "metadata": {
        "colab": {
          "base_uri": "https://localhost:8080/"
        },
        "id": "Uk1U2NE3dxzx",
        "outputId": "eaa509bd-b5a5-4e30-ae5f-908de8008455"
      },
      "execution_count": null,
      "outputs": [
        {
          "output_type": "stream",
          "name": "stdout",
          "text": [
            "['Alex', 'Sean']\n"
          ]
        }
      ]
    },
    {
      "cell_type": "code",
      "source": [
        "mylist5=[\"Zara\",\"Alex\", \"Zara\", \"Michael\", \"Sean\", \"Adam\" ]\n",
        "mylist5.remove(\"Zara\")\n",
        "print(mylist5)"
      ],
      "metadata": {
        "colab": {
          "base_uri": "https://localhost:8080/"
        },
        "id": "OQxDM6BXeQth",
        "outputId": "e355a484-6729-4e7b-9141-98db61e09e0b"
      },
      "execution_count": null,
      "outputs": [
        {
          "output_type": "stream",
          "name": "stdout",
          "text": [
            "['Alex', 'Zara', 'Michael', 'Sean', 'Adam']\n"
          ]
        }
      ]
    },
    {
      "cell_type": "code",
      "source": [
        "mylist5=[\"Zara\",\"Alex\", \"Zara\", \"Michael\", \"Sean\", \"Adam\" ]\n",
        "mylist5.sort()\n",
        "mylist5"
      ],
      "metadata": {
        "colab": {
          "base_uri": "https://localhost:8080/"
        },
        "id": "-fhYMyZrewyk",
        "outputId": "ce335f3e-ca89-4226-c8db-6def4a586586"
      },
      "execution_count": null,
      "outputs": [
        {
          "output_type": "execute_result",
          "data": {
            "text/plain": [
              "['Adam', 'Alex', 'Michael', 'Sean', 'Zara', 'Zara']"
            ]
          },
          "metadata": {},
          "execution_count": 33
        }
      ]
    },
    {
      "cell_type": "code",
      "source": [
        "mylist5=[\"Zara\",\"Alex\", \"Zara\", \"Michael\", \"Sean\", \"Adam\" ]\n",
        "for name in mylist5 :\n",
        "  if name ==\"Zara\":\n",
        "    mylist5.remove(\"Zara\")\n",
        "print(mylist5)"
      ],
      "metadata": {
        "colab": {
          "base_uri": "https://localhost:8080/"
        },
        "id": "OarM_PPGg-_T",
        "outputId": "0f8fdd00-6849-4adf-83ee-9ed26d0cb0df"
      },
      "execution_count": null,
      "outputs": [
        {
          "output_type": "stream",
          "name": "stdout",
          "text": [
            "['Alex', 'Michael', 'Sean', 'Adam']\n"
          ]
        }
      ]
    },
    {
      "cell_type": "code",
      "source": [
        "mylist5=[\"Zara\",\"Alex\", \"Zara\", \"Michael\", \"Sean\", \"Adam\" ]\n",
        "mylist5.sort(reverse=True)\n",
        "print(mylist5)"
      ],
      "metadata": {
        "colab": {
          "base_uri": "https://localhost:8080/"
        },
        "id": "LfslTEEVf6Z2",
        "outputId": "fad21401-fbe8-434e-89a5-e0125fb457ac"
      },
      "execution_count": null,
      "outputs": [
        {
          "output_type": "stream",
          "name": "stdout",
          "text": [
            "['Zara', 'Zara', 'Sean', 'Michael', 'Alex', 'Adam']\n"
          ]
        }
      ]
    },
    {
      "cell_type": "code",
      "source": [
        "mylist5.reverse()\n",
        "print(mylist5)"
      ],
      "metadata": {
        "colab": {
          "base_uri": "https://localhost:8080/"
        },
        "id": "vVCDcSG4gilx",
        "outputId": "c9877d61-d244-4404-cc39-eadc84fc0fda"
      },
      "execution_count": null,
      "outputs": [
        {
          "output_type": "stream",
          "name": "stdout",
          "text": [
            "['Adam', 'Alex', 'Michael', 'Sean', 'Zara', 'Zara']\n"
          ]
        }
      ]
    },
    {
      "cell_type": "code",
      "source": [
        "mylist5=[\"Zara\",\"Alex\", \"Zara\", \"Michael\", \"Sean\", \"Adam\" ]\n",
        "mylist5.reverse()\n",
        "print(mylist5)"
      ],
      "metadata": {
        "colab": {
          "base_uri": "https://localhost:8080/"
        },
        "id": "--1hAEwkgrgd",
        "outputId": "bced742c-0e2d-432c-a5ca-3f8cbf071410"
      },
      "execution_count": null,
      "outputs": [
        {
          "output_type": "stream",
          "name": "stdout",
          "text": [
            "['Adam', 'Sean', 'Michael', 'Zara', 'Alex', 'Zara']\n"
          ]
        }
      ]
    },
    {
      "cell_type": "code",
      "source": [
        "mylist5=[\"Zara\",\"Alex\", \"Zara\", \"Michael\", \"Sean\", \"Adam\" ]\n",
        "mylist4=[\"Noun\", \"Adjectives\", \"Adverbs\"]\n",
        "mylist6=mylist5 +mylist4\n",
        "print(mylist6)"
      ],
      "metadata": {
        "colab": {
          "base_uri": "https://localhost:8080/"
        },
        "id": "z8Zz71Suhsxd",
        "outputId": "ef3cb036-abc4-424d-cfea-3ff2f9e72f8d"
      },
      "execution_count": null,
      "outputs": [
        {
          "output_type": "stream",
          "name": "stdout",
          "text": [
            "['Zara', 'Alex', 'Zara', 'Michael', 'Sean', 'Adam', 'Noun', 'Adjectives', 'Adverbs']\n"
          ]
        }
      ]
    },
    {
      "cell_type": "code",
      "source": [
        "help(remove)\n"
      ],
      "metadata": {
        "colab": {
          "base_uri": "https://localhost:8080/",
          "height": 165
        },
        "id": "xEuPna-zioE0",
        "outputId": "873cfba9-5224-45d4-da18-38f0433c320c"
      },
      "execution_count": null,
      "outputs": [
        {
          "output_type": "error",
          "ename": "NameError",
          "evalue": "ignored",
          "traceback": [
            "\u001b[0;31m---------------------------------------------------------------------------\u001b[0m",
            "\u001b[0;31mNameError\u001b[0m                                 Traceback (most recent call last)",
            "\u001b[0;32m<ipython-input-46-da0b42283d4e>\u001b[0m in \u001b[0;36m<module>\u001b[0;34m\u001b[0m\n\u001b[0;32m----> 1\u001b[0;31m \u001b[0mhelp\u001b[0m\u001b[0;34m(\u001b[0m\u001b[0mremove\u001b[0m\u001b[0;34m)\u001b[0m\u001b[0;34m\u001b[0m\u001b[0;34m\u001b[0m\u001b[0m\n\u001b[0m",
            "\u001b[0;31mNameError\u001b[0m: name 'remove' is not defined"
          ]
        }
      ]
    },
    {
      "cell_type": "code",
      "source": [
        "companies=[\"tiktok\", \"whatsapp\", \"facebook\"]\n",
        "searchedfor=\"google\"\n",
        "if searchedfor in companies:\n",
        "  print(\"Yes, the company you searched for {} is in there\".format(searchedfor))\n",
        "else:\n",
        " print(\"the programme you wrote is adding {}\".format(searchedfor))\n",
        "companies.append(\"google\")\n",
        "print(companies)\n"
      ],
      "metadata": {
        "colab": {
          "base_uri": "https://localhost:8080/"
        },
        "id": "_hqheMxqntoh",
        "outputId": "22db302b-3beb-4530-9518-8a6a74ac3eb9"
      },
      "execution_count": null,
      "outputs": [
        {
          "output_type": "stream",
          "name": "stdout",
          "text": [
            "the programme you wrote is adding google\n",
            "['tiktok', 'whatsapp', 'facebook', 'google']\n"
          ]
        }
      ]
    },
    {
      "cell_type": "code",
      "source": [
        "myteam =[\"manu\", \"liv\", \"ars\", \"che\", \"spurs\"]\n",
        "if \"new\" in myteam:\n",
        "  print(\"Yes in my team\") \n",
        "else:\n",
        "  myteam.append(\"new\")\n",
        "print(myteam)\n"
      ],
      "metadata": {
        "colab": {
          "base_uri": "https://localhost:8080/"
        },
        "id": "_95NJJkon74O",
        "outputId": "0bf5a46d-9ee5-44be-81dc-e8edd2ad2e05"
      },
      "execution_count": null,
      "outputs": [
        {
          "output_type": "stream",
          "name": "stdout",
          "text": [
            "['manu', 'liv', 'ars', 'che', 'spurs', 'new']\n"
          ]
        }
      ]
    },
    {
      "cell_type": "code",
      "source": [
        "mylist3=[\"MUFC\", \"Leeds\", \"Chelsea\", \"Arsenal\", \"AVFC\", \"Spurs\"]\n",
        "if \"ig\" in mylist3:\n",
        "  print(\"Citizens!\")\n",
        "elif mylist3 == \"Spurs\":\n",
        "  print(\"Lillywhites\")\n",
        "else:\n",
        "  mylist3.insert(1, \"Liverpool\")\n",
        "print(mylist3)\n"
      ],
      "metadata": {
        "colab": {
          "base_uri": "https://localhost:8080/"
        },
        "id": "y4pVVXIfoX2Z",
        "outputId": "c6333ead-af58-4b72-f2ce-62459a091add"
      },
      "execution_count": null,
      "outputs": [
        {
          "output_type": "stream",
          "name": "stdout",
          "text": [
            "['MUFC', 'Liverpool', 'Leeds', 'Chelsea', 'Arsenal', 'AVFC', 'Spurs']\n"
          ]
        }
      ]
    },
    {
      "cell_type": "code",
      "source": [
        "items = [\"aws\", \"apple\", \"Tesla\", \"Chainlink\"]\n",
        "items1 = [0, 1, 2, 3,]\n",
        "if \"ig\" in items:\n",
        "  print(\"yes it is present in the items\")\n",
        "else:\n",
        "  print(\"no it is not in the list\")  \n"
      ],
      "metadata": {
        "colab": {
          "base_uri": "https://localhost:8080/"
        },
        "id": "sjXTTnwyol-M",
        "outputId": "a9e86e04-e8b8-44d5-b4e9-9e8dd4df932e"
      },
      "execution_count": null,
      "outputs": [
        {
          "output_type": "stream",
          "name": "stdout",
          "text": [
            "no it is not in the list\n"
          ]
        }
      ]
    },
    {
      "cell_type": "code",
      "source": [
        "InstrumentList = [\"Trombone\", \"Piano\", \"Guitar\"]\n",
        "InstrumentGuess = input ('Please put an instrument: ')\n",
        "print (\"You Selected {}\".format(InstrumentGuess))\n",
        "if InstrumentGuess in InstrumentList:\n",
        "  print(\"{} is already part of the list!\".format(InstrumentGuess))\n",
        "else: \n",
        "  print(\"{} is not in the list so will be added\".format(InstrumentGuess))\n",
        "  InstrumentList.append(\"{}\".format(InstrumentGuess))\n",
        "print (InstrumentList)\n"
      ],
      "metadata": {
        "colab": {
          "base_uri": "https://localhost:8080/"
        },
        "id": "MYJz6Rb-ozX_",
        "outputId": "7eb7a072-508d-4a07-b306-08e768d84cc1"
      },
      "execution_count": null,
      "outputs": [
        {
          "output_type": "stream",
          "name": "stdout",
          "text": [
            "Please put an instrument: ig\n",
            "You Selected ig\n",
            "ig is not in the list so will be added\n",
            "['Trombone', 'Piano', 'Guitar', 'ig']\n"
          ]
        }
      ]
    },
    {
      "cell_type": "code",
      "source": [
        "tech1=[\"Meta\",\"Google\",\"Tesla\", \"Snap\"]\n",
        "if \"ig\" in tech1:\n",
        "    print(tech1)\n",
        "else:\n",
        "    tech1.insert(4,\"Pinterest\")\n",
        "    print(tech1)\n"
      ],
      "metadata": {
        "colab": {
          "base_uri": "https://localhost:8080/"
        },
        "id": "5BPzhMaCo_aR",
        "outputId": "a018952c-9315-4c07-f9dd-d6a416941e87"
      },
      "execution_count": null,
      "outputs": [
        {
          "output_type": "stream",
          "name": "stdout",
          "text": [
            "['Meta', 'Google', 'Tesla', 'Snap', 'Pinterest']\n"
          ]
        }
      ]
    },
    {
      "cell_type": "code",
      "source": [
        "mylist7=[\"Meta\",\"Google\",\"Tesla\", \"Snap\"]\n",
        "element=input(\"Please input tech co. name (Capitalised)\")\n",
        "if element in mylist7:\n",
        "  print(\"Tech company already exists\")\n",
        "else:\n",
        "  mylist7.append(element)\n",
        "  print(\"The new list is:\", mylist7)"
      ],
      "metadata": {
        "colab": {
          "base_uri": "https://localhost:8080/"
        },
        "id": "DKJoYyJDpQu8",
        "outputId": "4ffe330e-9c20-4c64-eca8-a005e795af36"
      },
      "execution_count": null,
      "outputs": [
        {
          "output_type": "stream",
          "name": "stdout",
          "text": [
            "Please input tech co. name (Capitalised)Ig\n",
            "The new list is: ['Meta', 'Google', 'Tesla', 'Snap', 'Ig']\n"
          ]
        }
      ]
    },
    {
      "cell_type": "code",
      "source": [
        "companies=[\"Meta\",\"Google\",\"Tesla\",\"Snap\"]\n",
        "element=input(\"Please input tech co. name (Capitalised)\")\n",
        "if element in companies:\n",
        "  print(\"Tech company already exists\")\n",
        "else:\n",
        "  companies.append(element)\n",
        "  print(\"The new list is:\",companies)\n"
      ],
      "metadata": {
        "colab": {
          "base_uri": "https://localhost:8080/"
        },
        "id": "l1jXNUPPrqpv",
        "outputId": "d59310c4-e495-428a-a85b-f69a9dd5b4dc"
      },
      "execution_count": null,
      "outputs": [
        {
          "output_type": "stream",
          "name": "stdout",
          "text": [
            "Please input tech co. name (Capitalised)Ig\n",
            "The new list is: ['Meta', 'Google', 'Tesla', 'Snap', 'Ig']\n"
          ]
        }
      ]
    },
    {
      "cell_type": "code",
      "source": [
        "companies=[\"Meta\",\"Google\",\"Tesla\",\"Snap\"]\n",
        "for element in companies:\n",
        "  print(element)"
      ],
      "metadata": {
        "colab": {
          "base_uri": "https://localhost:8080/"
        },
        "id": "q6igPIhvsiAs",
        "outputId": "d7719171-0010-47c0-8c2b-d335688d314e"
      },
      "execution_count": null,
      "outputs": [
        {
          "output_type": "stream",
          "name": "stdout",
          "text": [
            "Meta\n",
            "Google\n",
            "Tesla\n",
            "Snap\n"
          ]
        }
      ]
    },
    {
      "cell_type": "code",
      "source": [
        "companies=[\"Meta\",\"Google\",\"Tesla\",\"Snap\"]\n",
        "for element in range(len(companies)):\n",
        "  print(element, companies[element])"
      ],
      "metadata": {
        "colab": {
          "base_uri": "https://localhost:8080/"
        },
        "id": "ucfoBZchs8fp",
        "outputId": "309f71ce-c264-4fe4-ba06-89c0b9024380"
      },
      "execution_count": null,
      "outputs": [
        {
          "output_type": "stream",
          "name": "stdout",
          "text": [
            "0 Meta\n",
            "1 Google\n",
            "2 Tesla\n",
            "3 Snap\n"
          ]
        }
      ]
    },
    {
      "cell_type": "code",
      "source": [
        "a= [1,2,3,4,5,6]\n",
        "c=[]\n",
        "for x in a:\n",
        "  c.append(x**2)\n",
        "print(c)\n",
        "\n"
      ],
      "metadata": {
        "colab": {
          "base_uri": "https://localhost:8080/"
        },
        "id": "X0maQrxxtfrm",
        "outputId": "800c6967-7727-43fa-c93c-28888fb38307"
      },
      "execution_count": null,
      "outputs": [
        {
          "output_type": "stream",
          "name": "stdout",
          "text": [
            "[1, 4, 9, 16, 25, 36]\n"
          ]
        }
      ]
    },
    {
      "cell_type": "code",
      "source": [
        "a= [1,2,3,4,5,6]\n",
        "b =[x**2 for x in a]\n",
        "print(b)"
      ],
      "metadata": {
        "colab": {
          "base_uri": "https://localhost:8080/"
        },
        "id": "0c7scdSYufVq",
        "outputId": "490abeb0-1191-4f03-9a1e-fa9a54172321"
      },
      "execution_count": null,
      "outputs": [
        {
          "output_type": "stream",
          "name": "stdout",
          "text": [
            "[1, 4, 9, 16, 25, 36]\n"
          ]
        }
      ]
    },
    {
      "cell_type": "code",
      "source": [
        "mylist8=[letter.upper() for letter in \"python\"]\n",
        "print(mylist8)"
      ],
      "metadata": {
        "colab": {
          "base_uri": "https://localhost:8080/"
        },
        "id": "LjBgxQ68uww8",
        "outputId": "e7d2a7f2-8f2b-4b03-e118-caef36f56432"
      },
      "execution_count": null,
      "outputs": [
        {
          "output_type": "stream",
          "name": "stdout",
          "text": [
            "['P', 'Y', 'T', 'H', 'O', 'N']\n"
          ]
        }
      ]
    },
    {
      "cell_type": "code",
      "source": [
        "mydict={\"employee\":\"Zara\",\"salary\":5000}\n",
        "mydict[\"department\"] =\"sales\"\n",
        "print(len(mydict))"
      ],
      "metadata": {
        "colab": {
          "base_uri": "https://localhost:8080/"
        },
        "id": "TLjh2ITHwoSd",
        "outputId": "785412b9-792d-43de-d2c0-a578a79e0c9e"
      },
      "execution_count": null,
      "outputs": [
        {
          "output_type": "stream",
          "name": "stdout",
          "text": [
            "3\n"
          ]
        }
      ]
    },
    {
      "cell_type": "code",
      "source": [
        "mydict={\"employee\":\"Zara\",\"salary\":5000,\"department\":\"sales\"}\n",
        "if \"department\" in mydict:\n",
        "  print(\"The key exists\")"
      ],
      "metadata": {
        "colab": {
          "base_uri": "https://localhost:8080/"
        },
        "id": "3JQhY1nUxTKK",
        "outputId": "73217a53-2df5-4335-bea1-cd2907a82ad7"
      },
      "execution_count": null,
      "outputs": [
        {
          "output_type": "stream",
          "name": "stdout",
          "text": [
            "The key exists\n"
          ]
        }
      ]
    },
    {
      "cell_type": "code",
      "source": [
        "mydict={\"employee\":\"Zara\",\"salary\":5000,\"department\":\"sales\"}\n",
        "mydict.update({\"salary\":6000, \"level\":3})\n",
        "print(mydict)"
      ],
      "metadata": {
        "colab": {
          "base_uri": "https://localhost:8080/"
        },
        "id": "laPI-bc_x0fK",
        "outputId": "d9355d00-84af-4db0-acd6-a51254859c38"
      },
      "execution_count": null,
      "outputs": [
        {
          "output_type": "stream",
          "name": "stdout",
          "text": [
            "{'employee': 'Zara', 'salary': 6000, 'department': 'sales', 'level': 3}\n"
          ]
        }
      ]
    },
    {
      "cell_type": "code",
      "source": [
        "mydict={\"employee\":\"Zara\",\"salary\":5000,\"department\":\"sales\"}\n",
        "mydict.clear()\n",
        "print(mydict)"
      ],
      "metadata": {
        "colab": {
          "base_uri": "https://localhost:8080/"
        },
        "id": "cB_qUmqcyaaI",
        "outputId": "fd1f8370-333a-4f3a-ccf0-8b1749adefa6"
      },
      "execution_count": null,
      "outputs": [
        {
          "output_type": "stream",
          "name": "stdout",
          "text": [
            "{}\n"
          ]
        }
      ]
    },
    {
      "cell_type": "code",
      "source": [
        "mydict={\"employee\":\"Zara\",\"salary\":5000,\"department\":\"sales\"}\n",
        "del mydict[\"salary\"]\n",
        "print(mydict)"
      ],
      "metadata": {
        "colab": {
          "base_uri": "https://localhost:8080/"
        },
        "id": "5G_Qf46DzuhH",
        "outputId": "12909516-7299-4730-e8b9-97c307233337"
      },
      "execution_count": null,
      "outputs": [
        {
          "output_type": "stream",
          "name": "stdout",
          "text": [
            "{'employee': 'Zara', 'department': 'sales'}\n"
          ]
        }
      ]
    },
    {
      "cell_type": "code",
      "source": [
        "mytuples= (\"Audi\", \"Ford\", \"Tesla\")\n",
        "mylist9=list(mytuples)\n",
        "mylist9[1]=\"BMW\"\n",
        "mytuples=tuple(mylist9)\n",
        "print(mytuples)"
      ],
      "metadata": {
        "colab": {
          "base_uri": "https://localhost:8080/"
        },
        "id": "_5gYhZ07yrK2",
        "outputId": "e71348b9-12d1-401b-82f3-3103f38cd28a"
      },
      "execution_count": null,
      "outputs": [
        {
          "output_type": "stream",
          "name": "stdout",
          "text": [
            "('Audi', 'BMW', 'Tesla')\n"
          ]
        }
      ]
    },
    {
      "cell_type": "code",
      "source": [
        "myset={\"APPLE\", \"BANANA\"}\n",
        "print(len(myset))\n"
      ],
      "metadata": {
        "colab": {
          "base_uri": "https://localhost:8080/"
        },
        "id": "znZHjgGm2BfP",
        "outputId": "188f7f73-727c-4387-9dee-3faf9dbd85c3"
      },
      "execution_count": null,
      "outputs": [
        {
          "output_type": "stream",
          "name": "stdout",
          "text": [
            "2\n"
          ]
        }
      ]
    },
    {
      "cell_type": "code",
      "source": [
        "mylist=[1000,20,20120,50,95,1021]\n",
        "newlist_conventional = []\n",
        "newlist_comprehension =[]\n",
        "for i in mylist:\n",
        "  if i<100:\n",
        "    newlist_conventional.append(i)\n",
        "print(newlist_conventional)"
      ],
      "metadata": {
        "colab": {
          "base_uri": "https://localhost:8080/"
        },
        "id": "ACz-byW9T-oX",
        "outputId": "a895224c-ea1d-477e-e0fc-0c55444d89c9"
      },
      "execution_count": null,
      "outputs": [
        {
          "output_type": "stream",
          "name": "stdout",
          "text": [
            "[20, 50, 95]\n"
          ]
        }
      ]
    },
    {
      "cell_type": "code",
      "source": [
        "mylist=[1000,20,20120,50,95,1021]\n",
        "newlist_comprehension =[]\n",
        "newlist_comprehension=[i for i in mylist if i<100]\n",
        "print(newlist_comprehension)"
      ],
      "metadata": {
        "colab": {
          "base_uri": "https://localhost:8080/"
        },
        "id": "sGu-pMwkU4WX",
        "outputId": "93a40caa-cc38-4a44-e95c-bcdb7241b4f6"
      },
      "execution_count": null,
      "outputs": [
        {
          "output_type": "stream",
          "name": "stdout",
          "text": [
            "[20, 50, 95]\n"
          ]
        }
      ]
    },
    {
      "cell_type": "code",
      "source": [
        "mylist=[\"Adam\",\"Nick\",\"Zara\", \"Rodrigue\",\"Jimmie\",\"Karen\"]\n",
        "newlist= []\n",
        "newlist=[i for i in mylist if \"a\" in i]\n",
        "print(newlist)"
      ],
      "metadata": {
        "colab": {
          "base_uri": "https://localhost:8080/"
        },
        "id": "Ew-TjCMnVWn7",
        "outputId": "ae6c1591-1c8a-417d-d92f-e15d8b147ab7"
      },
      "execution_count": null,
      "outputs": [
        {
          "output_type": "stream",
          "name": "stdout",
          "text": [
            "['Adam', 'Zara', 'Karen']\n"
          ]
        }
      ]
    },
    {
      "cell_type": "code",
      "source": [
        "newlist=[i for i in range (10)]\n",
        "print(newlist)"
      ],
      "metadata": {
        "colab": {
          "base_uri": "https://localhost:8080/"
        },
        "id": "l_neGHZ_WEe-",
        "outputId": "0fa0c451-5603-4896-e885-f4d45d5e7806"
      },
      "execution_count": null,
      "outputs": [
        {
          "output_type": "stream",
          "name": "stdout",
          "text": [
            "[0, 1, 2, 3, 4, 5, 6, 7, 8, 9]\n"
          ]
        }
      ]
    },
    {
      "cell_type": "code",
      "source": [
        "newlist=[i for i in range (10)if i<5]\n",
        "print(newlist)"
      ],
      "metadata": {
        "colab": {
          "base_uri": "https://localhost:8080/"
        },
        "id": "qZkPBOx4WUBr",
        "outputId": "a6cc41be-5259-42da-8100-10b77850e81e"
      },
      "execution_count": null,
      "outputs": [
        {
          "output_type": "stream",
          "name": "stdout",
          "text": [
            "[0, 1, 2, 3, 4]\n"
          ]
        }
      ]
    },
    {
      "cell_type": "code",
      "source": [
        "newlist=[i for i in range (10)if i<5]\n",
        "print(newlist)"
      ],
      "metadata": {
        "colab": {
          "base_uri": "https://localhost:8080/"
        },
        "id": "SUyjRjEqWaVu",
        "outputId": "e3f696b1-b178-4eb6-dd74-25aaf4411845"
      },
      "execution_count": null,
      "outputs": [
        {
          "output_type": "stream",
          "name": "stdout",
          "text": [
            "[0, 1, 2, 3, 4]\n"
          ]
        }
      ]
    },
    {
      "cell_type": "code",
      "source": [
        "mylist=[\"Michael\", \"Sean\", \"Adam\"]\n",
        "newlist=[i.upper()for i in mylist]\n",
        "print(newlist)"
      ],
      "metadata": {
        "colab": {
          "base_uri": "https://localhost:8080/"
        },
        "id": "St86_gz0XUev",
        "outputId": "a8c6ca16-1df1-49ee-cd34-6961c773cb80"
      },
      "execution_count": null,
      "outputs": [
        {
          "output_type": "stream",
          "name": "stdout",
          "text": [
            "['MICHAEL', 'SEAN', 'ADAM']\n"
          ]
        }
      ]
    },
    {
      "cell_type": "code",
      "source": [
        "mylist=[1,2,[\"a\",1],3]\n",
        "sublist=mylist[2]\n",
        "sublist\n",
        "element=mylist[3]\n",
        "print(element)\n",
        "\n",
        "\n"
      ],
      "metadata": {
        "colab": {
          "base_uri": "https://localhost:8080/"
        },
        "id": "5A7CbPenZwWY",
        "outputId": "edd88166-3d72-48aa-c247-0d7c06666727"
      },
      "execution_count": null,
      "outputs": [
        {
          "output_type": "stream",
          "name": "stdout",
          "text": [
            "3\n"
          ]
        }
      ]
    },
    {
      "cell_type": "code",
      "source": [
        "mydict={\"employee\":\"Zara\", \"department\":\"operations\", \"last salary\":5000}\n",
        "mydict.keys()"
      ],
      "metadata": {
        "colab": {
          "base_uri": "https://localhost:8080/"
        },
        "id": "2JDrYNQwcRGU",
        "outputId": "cbaf5410-a830-4920-b400-8adb89dab08a"
      },
      "execution_count": null,
      "outputs": [
        {
          "output_type": "execute_result",
          "data": {
            "text/plain": [
              "dict_keys(['employee', 'department', 'last salary'])"
            ]
          },
          "metadata": {},
          "execution_count": 4
        }
      ]
    },
    {
      "cell_type": "code",
      "source": [
        "mydict={\"employee\":\"Zara\", \"department\":\"operations\", \"last salary\":5000}\n",
        "mydict.values()"
      ],
      "metadata": {
        "colab": {
          "base_uri": "https://localhost:8080/"
        },
        "id": "LlCid8AcfILu",
        "outputId": "7e3bd2cf-248b-4ea7-c525-5d9f99e2d020"
      },
      "execution_count": null,
      "outputs": [
        {
          "output_type": "execute_result",
          "data": {
            "text/plain": [
              "dict_values(['Zara', 'operations', 5000])"
            ]
          },
          "metadata": {},
          "execution_count": 5
        }
      ]
    },
    {
      "cell_type": "code",
      "source": [
        "mydict={\"employee\":\"Zara\", \"department\":\"operations\", \"last salary\":5000}\n",
        "mydict.items()"
      ],
      "metadata": {
        "colab": {
          "base_uri": "https://localhost:8080/"
        },
        "id": "ngN9xdgjfOCI",
        "outputId": "2dff06da-226c-4dcb-bbbe-0a274d836e83"
      },
      "execution_count": null,
      "outputs": [
        {
          "output_type": "execute_result",
          "data": {
            "text/plain": [
              "dict_items([('employee', 'Zara'), ('department', 'operations'), ('last salary', 5000)])"
            ]
          },
          "metadata": {},
          "execution_count": 6
        }
      ]
    },
    {
      "cell_type": "code",
      "source": [
        "mydict={\"employee\":\"Zara\", \"department\":\"operations\", \"last salary\":5000}\n",
        "for keys,values in mydict.items():\n",
        "  print(keys,values)\n",
        "delete=input(\"Enter value:\" )\n",
        "mydict.pop(delete)\n",
        "print(mydict)\n",
        "\n",
        " "
      ],
      "metadata": {
        "id": "lshb1Loti6kc",
        "colab": {
          "base_uri": "https://localhost:8080/"
        },
        "outputId": "1491ab41-7698-47c7-f0c9-b4dfd7c3d651"
      },
      "execution_count": null,
      "outputs": [
        {
          "output_type": "stream",
          "name": "stdout",
          "text": [
            "employee Zara\n",
            "department operations\n",
            "last salary 5000\n",
            "Enter value:employee\n",
            "{'department': 'operations', 'last salary': 5000}\n"
          ]
        }
      ]
    },
    {
      "cell_type": "code",
      "source": [
        "matrix=[[0,1,2],[3,4,5],[6,7,8],[9,10,11]]\n",
        "rows=len(matrix)\n",
        "print(rows)\n",
        "cols=len(matrix[0])\n",
        "print(cols)"
      ],
      "metadata": {
        "colab": {
          "base_uri": "https://localhost:8080/"
        },
        "id": "0HQtL4UX7XQC",
        "outputId": "a11d6970-a259-4de4-949e-866b006f185d"
      },
      "execution_count": null,
      "outputs": [
        {
          "output_type": "stream",
          "name": "stdout",
          "text": [
            "4\n",
            "3\n"
          ]
        }
      ]
    },
    {
      "cell_type": "code",
      "source": [
        "matrix=[[0,1,2,9],[3,4,5,10],[6,7,8,11]]\n",
        "rows=len(matrix)\n",
        "print(rows)\n",
        "cols=len(matrix[0])\n",
        "print(cols)\n",
        "for i in range((0),cols):\n",
        "  print(matrix[i])\n"
      ],
      "metadata": {
        "colab": {
          "base_uri": "https://localhost:8080/",
          "height": 287
        },
        "id": "Q2RyI2oo8Ge2",
        "outputId": "b3125e2c-4732-419f-d51c-266fc7cccf0a"
      },
      "execution_count": null,
      "outputs": [
        {
          "output_type": "stream",
          "name": "stdout",
          "text": [
            "3\n",
            "4\n",
            "[0, 1, 2, 9]\n",
            "[3, 4, 5, 10]\n",
            "[6, 7, 8, 11]\n"
          ]
        },
        {
          "output_type": "error",
          "ename": "IndexError",
          "evalue": "ignored",
          "traceback": [
            "\u001b[0;31m---------------------------------------------------------------------------\u001b[0m",
            "\u001b[0;31mIndexError\u001b[0m                                Traceback (most recent call last)",
            "\u001b[0;32m<ipython-input-23-e24bcec36649>\u001b[0m in \u001b[0;36m<module>\u001b[0;34m\u001b[0m\n\u001b[1;32m      5\u001b[0m \u001b[0mprint\u001b[0m\u001b[0;34m(\u001b[0m\u001b[0mcols\u001b[0m\u001b[0;34m)\u001b[0m\u001b[0;34m\u001b[0m\u001b[0;34m\u001b[0m\u001b[0m\n\u001b[1;32m      6\u001b[0m \u001b[0;32mfor\u001b[0m \u001b[0mi\u001b[0m \u001b[0;32min\u001b[0m \u001b[0mrange\u001b[0m\u001b[0;34m(\u001b[0m\u001b[0;34m(\u001b[0m\u001b[0;36m0\u001b[0m\u001b[0;34m)\u001b[0m\u001b[0;34m,\u001b[0m\u001b[0mcols\u001b[0m\u001b[0;34m)\u001b[0m\u001b[0;34m:\u001b[0m\u001b[0;34m\u001b[0m\u001b[0;34m\u001b[0m\u001b[0m\n\u001b[0;32m----> 7\u001b[0;31m   \u001b[0mprint\u001b[0m\u001b[0;34m(\u001b[0m\u001b[0mmatrix\u001b[0m\u001b[0;34m[\u001b[0m\u001b[0mi\u001b[0m\u001b[0;34m]\u001b[0m\u001b[0;34m)\u001b[0m\u001b[0;34m\u001b[0m\u001b[0;34m\u001b[0m\u001b[0m\n\u001b[0m",
            "\u001b[0;31mIndexError\u001b[0m: list index out of range"
          ]
        }
      ]
    },
    {
      "cell_type": "code",
      "source": [
        "5%2"
      ],
      "metadata": {
        "colab": {
          "base_uri": "https://localhost:8080/"
        },
        "id": "VkW60MuuXCBY",
        "outputId": "aa270760-a3ed-4a54-ed95-c37bc4ab72f7"
      },
      "execution_count": null,
      "outputs": [
        {
          "output_type": "execute_result",
          "data": {
            "text/plain": [
              "1"
            ]
          },
          "metadata": {},
          "execution_count": 39
        }
      ]
    },
    {
      "cell_type": "code",
      "source": [
        "x=10\n",
        "if x%2==0:\n",
        "  print (\"This is an even number!\")\n"
      ],
      "metadata": {
        "colab": {
          "base_uri": "https://localhost:8080/"
        },
        "id": "ExDwSR74Sa0E",
        "outputId": "78114bc7-9dfa-4d44-d8f8-bfc6e0eb3478"
      },
      "execution_count": null,
      "outputs": [
        {
          "output_type": "stream",
          "name": "stdout",
          "text": [
            "This is an even number!\n"
          ]
        }
      ]
    },
    {
      "cell_type": "code",
      "source": [
        "x=7\n",
        "if x%2==0:\n",
        "  print (\"This is an even number!\")\n",
        "else:\n",
        "  print(\"This is an odd number!\")"
      ],
      "metadata": {
        "colab": {
          "base_uri": "https://localhost:8080/"
        },
        "id": "8aXOEjmMTS1f",
        "outputId": "4fd61acb-f9de-45e7-9836-0ed4a85974d1"
      },
      "execution_count": null,
      "outputs": [
        {
          "output_type": "stream",
          "name": "stdout",
          "text": [
            "This is an odd number!\n"
          ]
        }
      ]
    },
    {
      "cell_type": "code",
      "source": [
        "a,b=10,12\n",
        "if a==b:\n",
        "  print(\"The two numbers are equal\")\n",
        "elif a>b:\n",
        "  print(\"The first no. is greater than the second!\")\n",
        "else:\n",
        "  print(\"The first no. is less than the second!\")"
      ],
      "metadata": {
        "colab": {
          "base_uri": "https://localhost:8080/"
        },
        "id": "j7rvLMslTx1b",
        "outputId": "02553cfe-fc79-42bc-cb6a-c3f204feed20"
      },
      "execution_count": null,
      "outputs": [
        {
          "output_type": "stream",
          "name": "stdout",
          "text": [
            "The first no. is less than the second!\n"
          ]
        }
      ]
    },
    {
      "cell_type": "code",
      "source": [
        "a=0\n",
        "if a>0:\n",
        "  print(\"This is a posive no.\")\n",
        "elif a==0:\n",
        "  print(\"The no. is equal zero\")\n",
        "else:\n",
        "  print(\"This is a negative no.\")"
      ],
      "metadata": {
        "colab": {
          "base_uri": "https://localhost:8080/"
        },
        "id": "4-b-udzjXfQD",
        "outputId": "4ac5cb53-c714-4a3d-f2b1-81b99ac6d973"
      },
      "execution_count": null,
      "outputs": [
        {
          "output_type": "stream",
          "name": "stdout",
          "text": [
            "The no. is equal zero\n"
          ]
        }
      ]
    },
    {
      "cell_type": "code",
      "source": [
        "for a in range(0,6):\n",
        "  print(\"The iteration number is {}\". format(a))\n",
        "\n"
      ],
      "metadata": {
        "colab": {
          "base_uri": "https://localhost:8080/"
        },
        "id": "3sVJt83JZCgf",
        "outputId": "3b9f2e41-1b56-4f67-8c07-3fe52d7b3a0c"
      },
      "execution_count": null,
      "outputs": [
        {
          "output_type": "stream",
          "name": "stdout",
          "text": [
            "The iteration number is 0\n",
            "The iteration number is 1\n",
            "The iteration number is 2\n",
            "The iteration number is 3\n",
            "The iteration number is 4\n",
            "The iteration number is 5\n"
          ]
        }
      ]
    },
    {
      "cell_type": "code",
      "source": [
        "i=0\n",
        "while i<5:\n",
        "  print(i)\n",
        "  i=i+1\n",
        "print(\"THE END!\")\n"
      ],
      "metadata": {
        "colab": {
          "base_uri": "https://localhost:8080/"
        },
        "id": "qKSQ-NKRcuek",
        "outputId": "ec46c954-88fb-4d6a-9876-b54eae9c6ed8"
      },
      "execution_count": null,
      "outputs": [
        {
          "output_type": "stream",
          "name": "stdout",
          "text": [
            "0\n",
            "1\n",
            "2\n",
            "3\n",
            "4\n",
            "THE END!\n"
          ]
        }
      ]
    },
    {
      "cell_type": "code",
      "source": [
        "targetvalue=5\n",
        "Iterate =0\n",
        "while Iterate<targetvalue:\n",
        "  print(\"The iteration no. is {}, which is less than the target value{}\".format(Iterate,targetvalue))\n",
        "  Iterate=Iterate+1\n",
        "print(\"THE END!\")\n"
      ],
      "metadata": {
        "colab": {
          "base_uri": "https://localhost:8080/"
        },
        "id": "WF6Fdx4sdtjd",
        "outputId": "364f2f14-795a-421c-bc2f-d752600bf556"
      },
      "execution_count": null,
      "outputs": [
        {
          "output_type": "stream",
          "name": "stdout",
          "text": [
            "The iteration no. is 0, which is less than the target value5\n",
            "The iteration no. is 1, which is less than the target value5\n",
            "The iteration no. is 2, which is less than the target value5\n",
            "The iteration no. is 3, which is less than the target value5\n",
            "The iteration no. is 4, which is less than the target value5\n",
            "THE END!\n"
          ]
        }
      ]
    },
    {
      "cell_type": "code",
      "source": [
        "colours=[\"blue\", \"red\", \"yellow\", \"grey\"]\n",
        "cars=[\"Range\", \"BMW\", \"Tesla\"]\n",
        "for colour in colours:#outer loop\n",
        "  for car in cars:#inner loop\n",
        "    print(colour,car)\n"
      ],
      "metadata": {
        "colab": {
          "base_uri": "https://localhost:8080/"
        },
        "id": "oOv9f5FQeegX",
        "outputId": "31176e82-38e4-4622-a27c-a3b2d0f71b9a"
      },
      "execution_count": null,
      "outputs": [
        {
          "output_type": "stream",
          "name": "stdout",
          "text": [
            "blue Range\n",
            "blue BMW\n",
            "blue Tesla\n",
            "red Range\n",
            "red BMW\n",
            "red Tesla\n",
            "yellow Range\n",
            "yellow BMW\n",
            "yellow Tesla\n",
            "grey Range\n",
            "grey BMW\n",
            "grey Tesla\n"
          ]
        }
      ]
    },
    {
      "cell_type": "code",
      "source": [
        "for i in range(0,6):#outer loop\n",
        "  for x in range(0,10):\n",
        "    print(i*x, end=\" \")\n",
        "  print()\n",
        " "
      ],
      "metadata": {
        "colab": {
          "base_uri": "https://localhost:8080/"
        },
        "id": "-x-n8P-bi47d",
        "outputId": "406dd875-b3e4-4fbe-dfdb-6fd11b5dd576"
      },
      "execution_count": null,
      "outputs": [
        {
          "output_type": "stream",
          "name": "stdout",
          "text": [
            "0 0 0 0 0 0 0 0 0 0 \n",
            "0 1 2 3 4 5 6 7 8 9 \n",
            "0 2 4 6 8 10 12 14 16 18 \n",
            "0 3 6 9 12 15 18 21 24 27 \n",
            "0 4 8 12 16 20 24 28 32 36 \n",
            "0 5 10 15 20 25 30 35 40 45 \n"
          ]
        }
      ]
    },
    {
      "cell_type": "code",
      "source": [
        "colours =[\"blue\",\"red\",\"yellow\",\"grey\"]\n",
        "cars= [\"range\", \"BMW\",\"Tesla\"]\n",
        "for colour in colours: \n",
        " for car in cars : \n",
        "  print(car,colour)\n"
      ],
      "metadata": {
        "colab": {
          "base_uri": "https://localhost:8080/"
        },
        "id": "gVdecawlluNV",
        "outputId": "362af2df-319d-444c-d159-4ab1d1ccd190"
      },
      "execution_count": null,
      "outputs": [
        {
          "output_type": "stream",
          "name": "stdout",
          "text": [
            "range blue\n",
            "BMW blue\n",
            "Tesla blue\n",
            "range red\n",
            "BMW red\n",
            "Tesla red\n",
            "range yellow\n",
            "BMW yellow\n",
            "Tesla yellow\n",
            "range grey\n",
            "BMW grey\n",
            "Tesla grey\n"
          ]
        }
      ]
    },
    {
      "cell_type": "code",
      "source": [
        "for i in range(0,6):\n",
        " for x in range(0,10):\n",
        "  print(i*x, end=\"\")\n",
        " print()\n"
      ],
      "metadata": {
        "colab": {
          "base_uri": "https://localhost:8080/"
        },
        "id": "MDOLuReVmsjC",
        "outputId": "141a8008-2fd7-4ada-a48b-d72a9d3eb4fd"
      },
      "execution_count": null,
      "outputs": [
        {
          "output_type": "stream",
          "name": "stdout",
          "text": [
            "0000000000\n",
            "0123456789\n",
            "024681012141618\n",
            "0369121518212427\n",
            "04812162024283236\n",
            "051015202530354045\n"
          ]
        }
      ]
    },
    {
      "cell_type": "code",
      "source": [
        "mylist=[\"Michael\", \"Sean\", \"Adam\"]\n",
        "print(mylist)\n",
        "type(mylist)"
      ],
      "metadata": {
        "colab": {
          "base_uri": "https://localhost:8080/"
        },
        "id": "aFNzgDMinoYi",
        "outputId": "5ca15b93-2ef5-41f3-fbd0-2c508b2c5f60"
      },
      "execution_count": null,
      "outputs": [
        {
          "output_type": "stream",
          "name": "stdout",
          "text": [
            "['Michael', 'Sean', 'Adam']\n"
          ]
        },
        {
          "output_type": "execute_result",
          "data": {
            "text/plain": [
              "list"
            ]
          },
          "metadata": {},
          "execution_count": 92
        }
      ]
    },
    {
      "cell_type": "code",
      "source": [
        "mylist=[\"Michael\", \"Sean\", \"Adam\"]\n",
        "mylist[2]"
      ],
      "metadata": {
        "colab": {
          "base_uri": "https://localhost:8080/",
          "height": 35
        },
        "id": "qdSxaQRQoQcc",
        "outputId": "6d246443-d5f9-4530-9ea1-2cf025e9f76a"
      },
      "execution_count": null,
      "outputs": [
        {
          "output_type": "execute_result",
          "data": {
            "text/plain": [
              "'Adam'"
            ],
            "application/vnd.google.colaboratory.intrinsic+json": {
              "type": "string"
            }
          },
          "metadata": {},
          "execution_count": 99
        }
      ]
    },
    {
      "cell_type": "code",
      "source": [
        "mylist=[\"Michael\", 5000,\"Sean\", \"Adam\"]\n",
        "print(mylist)"
      ],
      "metadata": {
        "colab": {
          "base_uri": "https://localhost:8080/"
        },
        "id": "K9FDucE7ofSl",
        "outputId": "e6f82a9f-0007-4021-f898-eb35edceb7fb"
      },
      "execution_count": null,
      "outputs": [
        {
          "output_type": "stream",
          "name": "stdout",
          "text": [
            "['Michael', 5000, 'Sean', 'Adam']\n"
          ]
        }
      ]
    },
    {
      "cell_type": "code",
      "source": [
        "mylist=[\"Michael\", \"Sean\", \"Adam\"]\n",
        "type(mylist)"
      ],
      "metadata": {
        "colab": {
          "base_uri": "https://localhost:8080/"
        },
        "id": "xJ1j9AdPpIeX",
        "outputId": "9f571ed6-0397-4c8b-92e4-b533becd4319"
      },
      "execution_count": null,
      "outputs": [
        {
          "output_type": "execute_result",
          "data": {
            "text/plain": [
              "list"
            ]
          },
          "metadata": {},
          "execution_count": 101
        }
      ]
    },
    {
      "cell_type": "code",
      "source": [
        "mylist=[\"Michael\", \"Sean\", \"Adam\"]\n",
        "mylist[1]=\"Ali\"\n",
        "print(mylist)"
      ],
      "metadata": {
        "colab": {
          "base_uri": "https://localhost:8080/"
        },
        "id": "qy54nsqZpYbW",
        "outputId": "74b73fda-5e2e-4537-a5e2-9ca616810483"
      },
      "execution_count": null,
      "outputs": [
        {
          "output_type": "stream",
          "name": "stdout",
          "text": [
            "['Michael', 'Ali', 'Adam']\n"
          ]
        }
      ]
    },
    {
      "cell_type": "code",
      "source": [
        "mylist=[\"Michael\", \"Sean\", \"Adam\"]\n",
        "print(len(mylist))"
      ],
      "metadata": {
        "colab": {
          "base_uri": "https://localhost:8080/"
        },
        "id": "VX4EqY3IptPt",
        "outputId": "04371515-20b2-48aa-b3fc-eb7c1beeafc6"
      },
      "execution_count": null,
      "outputs": [
        {
          "output_type": "stream",
          "name": "stdout",
          "text": [
            "3\n"
          ]
        }
      ]
    },
    {
      "cell_type": "code",
      "source": [
        "mylist=[\"Michael\", \"Sean\", \"Adam\"]\n",
        "if \"Michael\" in mylist:\n",
        "  print(\"Yes the element is found\")\n"
      ],
      "metadata": {
        "colab": {
          "base_uri": "https://localhost:8080/"
        },
        "id": "z4jU21RBqDXi",
        "outputId": "02cfabb9-dbba-4361-c101-f8e4981e59d5"
      },
      "execution_count": null,
      "outputs": [
        {
          "output_type": "stream",
          "name": "stdout",
          "text": [
            "Yes the element is found\n"
          ]
        }
      ]
    },
    {
      "cell_type": "code",
      "source": [
        "mylist=[\"Michael\", \"Sean\", \"Adam\"]\n",
        "mylist.insert(0,\"Zara\")\n",
        "print(mylist)"
      ],
      "metadata": {
        "colab": {
          "base_uri": "https://localhost:8080/"
        },
        "id": "gawAuac8ql4i",
        "outputId": "549a9b39-a936-463a-809f-ef7eb3823017"
      },
      "execution_count": null,
      "outputs": [
        {
          "output_type": "stream",
          "name": "stdout",
          "text": [
            "['Zara', 'Michael', 'Sean', 'Adam']\n"
          ]
        }
      ]
    },
    {
      "cell_type": "code",
      "source": [
        "mylist=[\"Michael\", \"Sean\", \"Adam\"]\n",
        "mylist.insert(3,\"Paul\")\n",
        "print(mylist)"
      ],
      "metadata": {
        "colab": {
          "base_uri": "https://localhost:8080/"
        },
        "id": "7dwPShPVr4Mq",
        "outputId": "388f0852-8119-4836-e181-af11eab23824"
      },
      "execution_count": null,
      "outputs": [
        {
          "output_type": "stream",
          "name": "stdout",
          "text": [
            "['Michael', 'Sean', 'Adam', 'Paul']\n"
          ]
        }
      ]
    },
    {
      "cell_type": "code",
      "source": [
        "mylist=[\"Michael\", \"Sean\", \"Adam\"]\n",
        "mylist.append(\"Paul\")\n",
        "print(mylist)"
      ],
      "metadata": {
        "colab": {
          "base_uri": "https://localhost:8080/"
        },
        "id": "vatlbuWDsF_p",
        "outputId": "6480cd06-098e-4f7c-a8fc-cb9757d32884"
      },
      "execution_count": null,
      "outputs": [
        {
          "output_type": "stream",
          "name": "stdout",
          "text": [
            "['Michael', 'Sean', 'Adam', 'Paul']\n"
          ]
        }
      ]
    },
    {
      "cell_type": "code",
      "source": [
        "mylist1=[\"Michael\", \"Sean\", \"Adam\"]\n",
        "mylist2=[\"Zara\", \"Paul\"]\n",
        "mylist1.extend(mylist2)\n",
        "print(mylist1)"
      ],
      "metadata": {
        "colab": {
          "base_uri": "https://localhost:8080/"
        },
        "id": "28PC0LWzscTF",
        "outputId": "7aafbae8-a118-4c56-d1c8-cfa4f591ba2a"
      },
      "execution_count": null,
      "outputs": [
        {
          "output_type": "stream",
          "name": "stdout",
          "text": [
            "['Michael', 'Sean', 'Adam', 'Zara', 'Paul']\n"
          ]
        }
      ]
    },
    {
      "cell_type": "code",
      "source": [
        "mylist1=[\"Michael\", \"Sean\", \"Adam\",\"Zara\", \"Paul\"]\n",
        "mylist1.remove(\"Paul\")\n",
        "print(mylist)"
      ],
      "metadata": {
        "colab": {
          "base_uri": "https://localhost:8080/"
        },
        "id": "P9uL5u_Cszm3",
        "outputId": "ea125d59-e74c-4135-8e33-634339e8cc0a"
      },
      "execution_count": null,
      "outputs": [
        {
          "output_type": "stream",
          "name": "stdout",
          "text": [
            "['Michael', 'Sean', 'Adam', 'Paul']\n"
          ]
        }
      ]
    },
    {
      "cell_type": "code",
      "source": [
        "mylist1=[\"Michael\", \"Sean\", \"Adam\",\"Zara\", \"Paul\"]\n",
        "mylist1.pop(1)\n",
        "print(mylist1)"
      ],
      "metadata": {
        "colab": {
          "base_uri": "https://localhost:8080/"
        },
        "id": "K94rw0d6tJ3X",
        "outputId": "8467b74d-53c9-4499-c153-98f3d8f5ae78"
      },
      "execution_count": null,
      "outputs": [
        {
          "output_type": "stream",
          "name": "stdout",
          "text": [
            "['Michael', 'Adam', 'Zara', 'Paul']\n"
          ]
        }
      ]
    },
    {
      "cell_type": "code",
      "source": [
        "mylist1=[\"Michael\", \"Sean\", \"Adam\",\"Zara\", \"Paul\"]\n",
        "mylist1.pop(1)\n",
        "print(mylist1)"
      ],
      "metadata": {
        "colab": {
          "base_uri": "https://localhost:8080/"
        },
        "id": "jF88dV7btaBz",
        "outputId": "7d569ada-b91c-4254-e758-9ecc5c9b7668"
      },
      "execution_count": null,
      "outputs": [
        {
          "output_type": "stream",
          "name": "stdout",
          "text": [
            "['Michael', 'Adam', 'Zara', 'Paul']\n"
          ]
        }
      ]
    },
    {
      "cell_type": "code",
      "source": [
        "mylist1=[\"Michael\", \"Sean\", \"Adam\",\"Zara\", \"Paul\"]\n",
        "mylist1.sort()\n",
        "print(mylist1)"
      ],
      "metadata": {
        "colab": {
          "base_uri": "https://localhost:8080/"
        },
        "id": "mIovJR0MtjKI",
        "outputId": "7789956f-9e3c-4b21-a56a-3c41fbf1be7a"
      },
      "execution_count": null,
      "outputs": [
        {
          "output_type": "stream",
          "name": "stdout",
          "text": [
            "['Adam', 'Michael', 'Paul', 'Sean', 'Zara']\n"
          ]
        }
      ]
    },
    {
      "cell_type": "code",
      "source": [
        "mylist1=[\"Michael\", \"Sean\", \"Adam\",\"Zara\", \"Paul\"]\n",
        "mylist1.sort(reverse=True)\n",
        "print(mylist1)"
      ],
      "metadata": {
        "colab": {
          "base_uri": "https://localhost:8080/"
        },
        "id": "ZO27uheVt4jW",
        "outputId": "c9a453c3-8215-4da3-a048-ba0e9987a60f"
      },
      "execution_count": null,
      "outputs": [
        {
          "output_type": "stream",
          "name": "stdout",
          "text": [
            "['Zara', 'Sean', 'Paul', 'Michael', 'Adam']\n"
          ]
        }
      ]
    },
    {
      "cell_type": "code",
      "source": [
        "mylist1=[\"Michael\", \"Sean\", \"Adam\"]\n",
        "mylist2=[\"Zara\", \"Paul\"]\n",
        "mylist3=mylist1+mylist2\n",
        "print(mylist3)"
      ],
      "metadata": {
        "colab": {
          "base_uri": "https://localhost:8080/"
        },
        "id": "6q5t8GSowEbR",
        "outputId": "f140f3fe-6548-4c1c-c707-f8e8d5403a28"
      },
      "execution_count": null,
      "outputs": [
        {
          "output_type": "stream",
          "name": "stdout",
          "text": [
            "['Michael', 'Sean', 'Adam', 'Zara', 'Paul']\n"
          ]
        }
      ]
    },
    {
      "cell_type": "code",
      "source": [
        "mylist1=[\"Michael\", \"Sean\", \"Adam\"]\n",
        "mylist2=[\"Zara\", \"Paul\"]\n",
        "mylist3=mylist1+mylist2\n",
        "help(mylist3.append)"
      ],
      "metadata": {
        "colab": {
          "base_uri": "https://localhost:8080/"
        },
        "id": "m07PuFLqwZ7Q",
        "outputId": "8fdf70fe-adab-4245-88a5-0d53e4bf5ef2"
      },
      "execution_count": null,
      "outputs": [
        {
          "output_type": "stream",
          "name": "stdout",
          "text": [
            "Help on built-in function append:\n",
            "\n",
            "append(object, /) method of builtins.list instance\n",
            "    Append object to the end of the list.\n",
            "\n"
          ]
        }
      ]
    },
    {
      "cell_type": "code",
      "source": [
        "mylist=[\"Michael\",\"Zara\", \"Sean\",\"Zara\", \"Adam\",\"Zara\", \"Paul\"]\n",
        "for i in mylist:\n",
        "  if i =\"Zara\":\n",
        "  mylist.remove(Zara):\n",
        "  print(mydict)\n",
        "else:\n",
        "Print(mylist)\n"
      ],
      "metadata": {
        "colab": {
          "base_uri": "https://localhost:8080/",
          "height": 130
        },
        "id": "0g3vmSOUxQqX",
        "outputId": "5bda5549-96d0-4916-a0bf-45924778e311"
      },
      "execution_count": null,
      "outputs": [
        {
          "output_type": "error",
          "ename": "SyntaxError",
          "evalue": "ignored",
          "traceback": [
            "\u001b[0;36m  File \u001b[0;32m\"<ipython-input-132-92859c04ad8d>\"\u001b[0;36m, line \u001b[0;32m3\u001b[0m\n\u001b[0;31m    if i =\"Zara\":\u001b[0m\n\u001b[0m         ^\u001b[0m\n\u001b[0;31mSyntaxError\u001b[0m\u001b[0;31m:\u001b[0m invalid syntax\n"
          ]
        }
      ]
    },
    {
      "cell_type": "code",
      "source": [
        "fruits = [\"Apples\", \"Pears\", \"Plums\", \"Bananas\"]\n",
        "input = \"Peaches\"\n",
        "if input in fruits:\n",
        "  print(\"Fruit is already in the list\")\n",
        "else:\n",
        "  fruits.append(input)\n",
        "  print(fruits)\n"
      ],
      "metadata": {
        "colab": {
          "base_uri": "https://localhost:8080/"
        },
        "id": "vO80y33M19dk",
        "outputId": "7ef7bacb-71e7-4152-d6ea-2100afc6a929"
      },
      "execution_count": null,
      "outputs": [
        {
          "output_type": "stream",
          "name": "stdout",
          "text": [
            "['Apples', 'Pears', 'Plums', 'Bananas', 'Peaches']\n"
          ]
        }
      ]
    },
    {
      "cell_type": "code",
      "source": [
        "mylist=[\"Google\", \"Instagram\", \"Meta\", \"Snapchat\"]\n",
        "element=input(\"Please input tech co. name (Capitalised form):\")\n",
        "if element in mylist:\n",
        "  print(\"Tech co.already exist\")\n",
        "else:\n",
        "  mylist.append(element)\n",
        "  print(\"The new list is:\",mylist)"
      ],
      "metadata": {
        "colab": {
          "base_uri": "https://localhost:8080/"
        },
        "id": "8oq5Sa-H0I9X",
        "outputId": "c2b76cf8-9ed2-4da2-b8e1-794303a3ab12"
      },
      "execution_count": null,
      "outputs": [
        {
          "output_type": "stream",
          "name": "stdout",
          "text": [
            "Please input tech co. name (Capitalised form):Google\n",
            "Tech co.already exist\n"
          ]
        }
      ]
    },
    {
      "cell_type": "code",
      "source": [
        "mylist = [\"Michael\", \"Sean\", \"Adam\"]\n",
        "answer = input(\"Write your favourite name:\")\n",
        "if input in mylist:\n",
        "  print(\"It's in the list\")\n",
        "else:\n",
        "  mylist.insert(0,answer)\n",
        "  print(mylist)\n"
      ],
      "metadata": {
        "colab": {
          "base_uri": "https://localhost:8080/"
        },
        "id": "kSaxAAD739Ht",
        "outputId": "850e2107-0e16-434f-983e-9708356979cf"
      },
      "execution_count": null,
      "outputs": [
        {
          "output_type": "stream",
          "name": "stdout",
          "text": [
            "Write your favourite name:John\n",
            "['John', 'Michael', 'Sean', 'Adam']\n"
          ]
        }
      ]
    },
    {
      "cell_type": "code",
      "source": [
        "mylist = [\"Michael\", \"Sean\", \"Adam\"]\n",
        "for element in mylist:\n",
        "  print(element)"
      ],
      "metadata": {
        "colab": {
          "base_uri": "https://localhost:8080/"
        },
        "id": "krShFx_m4w5a",
        "outputId": "b9cf3dae-248d-4b88-8a32-dead6912362d"
      },
      "execution_count": null,
      "outputs": [
        {
          "output_type": "stream",
          "name": "stdout",
          "text": [
            "Michael\n",
            "Sean\n",
            "Adam\n"
          ]
        }
      ]
    },
    {
      "cell_type": "code",
      "source": [
        "mylist = [\"Michael\", \"Sean\", \"Adam\"]\n",
        "for element in range(len(mylist)):\n",
        "  print(element,mylist[element])"
      ],
      "metadata": {
        "colab": {
          "base_uri": "https://localhost:8080/"
        },
        "id": "OXwvGeU95JWb",
        "outputId": "5ae12364-25f7-446b-c6d1-5550641069c6"
      },
      "execution_count": null,
      "outputs": [
        {
          "output_type": "stream",
          "name": "stdout",
          "text": [
            "0 Michael\n",
            "1 Sean\n",
            "2 Adam\n"
          ]
        }
      ]
    },
    {
      "cell_type": "code",
      "source": [
        "mylist=[1000,20,20120,50,95,1021]\n",
        "mynewlist=[]\n",
        "for i in mylist:\n",
        "  if i<100:\n",
        "    mynewlist.append(i)\n",
        "print(mynewlist)"
      ],
      "metadata": {
        "colab": {
          "base_uri": "https://localhost:8080/"
        },
        "id": "qP8oHo_Y64z5",
        "outputId": "d7488cd4-3916-4824-eb75-cb6c7376179f"
      },
      "execution_count": null,
      "outputs": [
        {
          "output_type": "stream",
          "name": "stdout",
          "text": [
            "[20, 50, 95]\n"
          ]
        }
      ]
    },
    {
      "cell_type": "code",
      "source": [
        "mylist=[1000,20,20120,50,95,1021]#comprehension formula\n",
        "mynewlist_com=[a for a in mylist if a<100]\n",
        "print(mynewlist_com)"
      ],
      "metadata": {
        "colab": {
          "base_uri": "https://localhost:8080/"
        },
        "id": "cIqqZPq27iLk",
        "outputId": "9bd97fc5-2aaa-46c2-d91c-898e0bee33e6"
      },
      "execution_count": null,
      "outputs": [
        {
          "output_type": "stream",
          "name": "stdout",
          "text": [
            "[20, 50, 95]\n"
          ]
        }
      ]
    },
    {
      "cell_type": "code",
      "source": [
        "a= [1,2,3,4,5,6]\n",
        "#[1,4,9,16,25,36]\n",
        "b=[]\n",
        "for i in a:\n",
        "  b.append(i**2)\n",
        "print(b)"
      ],
      "metadata": {
        "colab": {
          "base_uri": "https://localhost:8080/"
        },
        "id": "eHAjZaPZ8GzP",
        "outputId": "3fb55385-b026-4559-d9bc-37fb1f77def9"
      },
      "execution_count": null,
      "outputs": [
        {
          "output_type": "stream",
          "name": "stdout",
          "text": [
            "[1, 4, 9, 16, 25, 36]\n"
          ]
        }
      ]
    },
    {
      "cell_type": "code",
      "source": [
        "a= [1,2,3,4,5,6]#comprehension formula\n",
        "b=[i**2 for i in a]\n",
        "print(b)"
      ],
      "metadata": {
        "colab": {
          "base_uri": "https://localhost:8080/"
        },
        "id": "9l2S8sMd9e1i",
        "outputId": "c32dec87-699e-4d5f-8937-9cd4fd985b30"
      },
      "execution_count": null,
      "outputs": [
        {
          "output_type": "stream",
          "name": "stdout",
          "text": [
            "[1, 4, 9, 16, 25, 36]\n"
          ]
        }
      ]
    },
    {
      "cell_type": "code",
      "source": [
        "mylist = [\"Michael\", \"Sean\", \"Adam\"]\n",
        "mynewlist=[i.upper()for i in mylist]\n",
        "print(mynewlist)"
      ],
      "metadata": {
        "colab": {
          "base_uri": "https://localhost:8080/"
        },
        "id": "eXsqJNHO_w4b",
        "outputId": "76d35943-aba8-45f1-de7f-3d3a6cf48b0c"
      },
      "execution_count": null,
      "outputs": [
        {
          "output_type": "stream",
          "name": "stdout",
          "text": [
            "['MICHAEL', 'SEAN', 'ADAM']\n"
          ]
        }
      ]
    },
    {
      "cell_type": "code",
      "source": [
        "mylist=[letter.upper() for letter in \"python\"]\n",
        "print(mylist)"
      ],
      "metadata": {
        "colab": {
          "base_uri": "https://localhost:8080/"
        },
        "id": "UGIuY-dfAkXF",
        "outputId": "24622715-3088-4683-8774-711ad1af9fdd"
      },
      "execution_count": null,
      "outputs": [
        {
          "output_type": "stream",
          "name": "stdout",
          "text": [
            "['P', 'Y', 'T', 'H', 'O', 'N']\n"
          ]
        }
      ]
    },
    {
      "cell_type": "code",
      "source": [
        "mylist=[1,2,[\"a\",1,4],3]\n",
        "mylist[2]"
      ],
      "metadata": {
        "colab": {
          "base_uri": "https://localhost:8080/"
        },
        "id": "VJfPdy8XB0ym",
        "outputId": "7a3506ec-c7e5-4a0d-84b1-812ac6217458"
      },
      "execution_count": null,
      "outputs": [
        {
          "output_type": "execute_result",
          "data": {
            "text/plain": [
              "['a', 1, 4]"
            ]
          },
          "metadata": {},
          "execution_count": 54
        }
      ]
    },
    {
      "cell_type": "code",
      "source": [
        "mylist=[1,2,[\"a\",1,4],3]\n",
        "mylist[2][2]"
      ],
      "metadata": {
        "colab": {
          "base_uri": "https://localhost:8080/"
        },
        "id": "jApNs1g1DA_0",
        "outputId": "7762b364-21a7-42dc-e40f-c2b7342b2e81"
      },
      "execution_count": null,
      "outputs": [
        {
          "output_type": "execute_result",
          "data": {
            "text/plain": [
              "4"
            ]
          },
          "metadata": {},
          "execution_count": 59
        }
      ]
    },
    {
      "cell_type": "code",
      "source": [
        "mylist[0]"
      ],
      "metadata": {
        "colab": {
          "base_uri": "https://localhost:8080/"
        },
        "id": "CCqwTgWhBnh6",
        "outputId": "02835262-15f8-4876-be9d-896092e1f4b5"
      },
      "execution_count": null,
      "outputs": [
        {
          "output_type": "execute_result",
          "data": {
            "text/plain": [
              "1"
            ]
          },
          "metadata": {},
          "execution_count": 43
        }
      ]
    },
    {
      "cell_type": "code",
      "source": [
        "mylist[1]"
      ],
      "metadata": {
        "colab": {
          "base_uri": "https://localhost:8080/"
        },
        "id": "f4pbiTg5CfEs",
        "outputId": "fc8a92ad-9024-4e3a-af9f-82db17f25b47"
      },
      "execution_count": null,
      "outputs": [
        {
          "output_type": "execute_result",
          "data": {
            "text/plain": [
              "2"
            ]
          },
          "metadata": {},
          "execution_count": 44
        }
      ]
    },
    {
      "cell_type": "code",
      "source": [
        "mylist[2][0]"
      ],
      "metadata": {
        "colab": {
          "base_uri": "https://localhost:8080/",
          "height": 35
        },
        "id": "FItXFskRChJ0",
        "outputId": "92953c29-cf51-48d3-fd5b-35b90c796a57"
      },
      "execution_count": null,
      "outputs": [
        {
          "output_type": "execute_result",
          "data": {
            "text/plain": [
              "'a'"
            ],
            "application/vnd.google.colaboratory.intrinsic+json": {
              "type": "string"
            }
          },
          "metadata": {},
          "execution_count": 45
        }
      ]
    },
    {
      "cell_type": "code",
      "source": [
        "mylist[2][1]"
      ],
      "metadata": {
        "colab": {
          "base_uri": "https://localhost:8080/"
        },
        "id": "yL8a-uDaClml",
        "outputId": "0334aaad-d48c-407a-d3bb-69083596d187"
      },
      "execution_count": null,
      "outputs": [
        {
          "output_type": "execute_result",
          "data": {
            "text/plain": [
              "1"
            ]
          },
          "metadata": {},
          "execution_count": 46
        }
      ]
    },
    {
      "cell_type": "code",
      "source": [
        "mylist[3]"
      ],
      "metadata": {
        "colab": {
          "base_uri": "https://localhost:8080/"
        },
        "id": "bnQwnSnTCq4r",
        "outputId": "5e45047e-ce51-467d-edda-ae87d52bfd60"
      },
      "execution_count": null,
      "outputs": [
        {
          "output_type": "execute_result",
          "data": {
            "text/plain": [
              "3"
            ]
          },
          "metadata": {},
          "execution_count": 47
        }
      ]
    },
    {
      "cell_type": "code",
      "source": [
        "matrix =[[0,1,2],[3,4,5], [6,7,8],[9,11,12]]\n",
        "rows= len(matrix)\n",
        "cols=len(matrix[0])\n",
        "print(rows)\n",
        "print(cols)"
      ],
      "metadata": {
        "colab": {
          "base_uri": "https://localhost:8080/"
        },
        "id": "f8vvzOW4EIPL",
        "outputId": "99281188-92c5-47b9-954f-87877e6d0745"
      },
      "execution_count": null,
      "outputs": [
        {
          "output_type": "stream",
          "name": "stdout",
          "text": [
            "4\n",
            "3\n"
          ]
        }
      ]
    },
    {
      "cell_type": "code",
      "source": [
        "matrix =[[0,1,2],[3,4,5], [6,7,8],[9,11,12]]\n",
        "rows= len(matrix)\n",
        "cols=len(matrix[0])\n",
        "for i in range(0,rows):\n",
        "  print(matrix[i])"
      ],
      "metadata": {
        "colab": {
          "base_uri": "https://localhost:8080/"
        },
        "id": "XS8y4W41FLDm",
        "outputId": "bf6bb5bb-7647-4dbb-d8bd-b6eb4c40500d"
      },
      "execution_count": null,
      "outputs": [
        {
          "output_type": "stream",
          "name": "stdout",
          "text": [
            "[0, 1, 2]\n",
            "[3, 4, 5]\n",
            "[6, 7, 8]\n",
            "[9, 11, 12]\n"
          ]
        }
      ]
    },
    {
      "cell_type": "code",
      "source": [
        "print(matrix[1][0])"
      ],
      "metadata": {
        "colab": {
          "base_uri": "https://localhost:8080/"
        },
        "id": "YE-0VfOqFw6t",
        "outputId": "32771e86-321a-4fb3-bf91-73e571c4dbcf"
      },
      "execution_count": null,
      "outputs": [
        {
          "output_type": "stream",
          "name": "stdout",
          "text": [
            "3\n"
          ]
        }
      ]
    },
    {
      "cell_type": "code",
      "source": [
        "print(matrix[1][1])"
      ],
      "metadata": {
        "colab": {
          "base_uri": "https://localhost:8080/"
        },
        "id": "RHRAXHoSGI3l",
        "outputId": "e38dfbb1-5e30-423d-9754-322bb5082232"
      },
      "execution_count": null,
      "outputs": [
        {
          "output_type": "stream",
          "name": "stdout",
          "text": [
            "4\n"
          ]
        }
      ]
    },
    {
      "cell_type": "code",
      "source": [
        "mydict={\"employee\":\"Zara\",\"department\":\"operations\",\"last salary\":5000}\n",
        "print(mydict)"
      ],
      "metadata": {
        "colab": {
          "base_uri": "https://localhost:8080/"
        },
        "id": "fQgnpnIBLgAC",
        "outputId": "36381e0d-00f1-4d66-e884-8527756a7447"
      },
      "execution_count": null,
      "outputs": [
        {
          "output_type": "stream",
          "name": "stdout",
          "text": [
            "{'employee': 'Zara', 'department': 'operations', 'last salary': 5000}\n"
          ]
        }
      ]
    },
    {
      "cell_type": "code",
      "source": [
        "mydict={\"employee\":\"Zara\",\"department\":\"operations\",\"last salary\":5000}\n",
        "print(mydict[\"department\"])"
      ],
      "metadata": {
        "colab": {
          "base_uri": "https://localhost:8080/"
        },
        "id": "LoooUiJaL7UG",
        "outputId": "2b58f053-31cc-496f-fd03-1ca5eb3da6d6"
      },
      "execution_count": null,
      "outputs": [
        {
          "output_type": "stream",
          "name": "stdout",
          "text": [
            "operations\n"
          ]
        }
      ]
    },
    {
      "cell_type": "code",
      "source": [
        "mydict={\n",
        "    \"employee\":\"Zara\",\"department\":\"operations\",\"last salary\":5000\n",
        "    }\n",
        "mydict[\"department\"]=\"sales\"\n",
        "print(mydict)"
      ],
      "metadata": {
        "colab": {
          "base_uri": "https://localhost:8080/"
        },
        "id": "S04DT3Z9MJaf",
        "outputId": "ff398ce3-634a-4c22-c22f-82baee096982"
      },
      "execution_count": null,
      "outputs": [
        {
          "output_type": "stream",
          "name": "stdout",
          "text": [
            "{'employee': 'Zara', 'department': 'sales', 'last salary': 5000}\n"
          ]
        }
      ]
    },
    {
      "cell_type": "code",
      "source": [
        "mydict={\"employee\":\"Zara\",\"department\":\"operations\",\"last salary\":5000}\n",
        "print(len(mydict))"
      ],
      "metadata": {
        "colab": {
          "base_uri": "https://localhost:8080/"
        },
        "id": "qgNeviDYMmCe",
        "outputId": "162a8e52-650b-4f7e-be81-516d367fa2a3"
      },
      "execution_count": null,
      "outputs": [
        {
          "output_type": "stream",
          "name": "stdout",
          "text": [
            "3\n"
          ]
        }
      ]
    },
    {
      "cell_type": "code",
      "source": [
        "mydict={\"employee\":\"Zara\",\"department\":\"operations\",\"last salary\":5000}\n",
        "print(type(mydict))"
      ],
      "metadata": {
        "colab": {
          "base_uri": "https://localhost:8080/"
        },
        "id": "PPGLfZ4QM8sc",
        "outputId": "44578651-87d3-42fb-8ea3-8bc599eed847"
      },
      "execution_count": null,
      "outputs": [
        {
          "output_type": "stream",
          "name": "stdout",
          "text": [
            "<class 'dict'>\n"
          ]
        }
      ]
    },
    {
      "cell_type": "code",
      "source": [
        "mydict={\n",
        "    1:{\"employee\":\"Zara\",\"department\":\"operations\",\"last salary\":5000},\n",
        "    2:{\"employee\":\"Arjun\",\"department\":\"sales\",\"last salary\":4000}\n",
        "}\n",
        "print(mydict[2])"
      ],
      "metadata": {
        "colab": {
          "base_uri": "https://localhost:8080/"
        },
        "id": "Umd3SoKPNGHQ",
        "outputId": "23f076fb-8a77-4b77-f510-c74e4d689485"
      },
      "execution_count": null,
      "outputs": [
        {
          "output_type": "stream",
          "name": "stdout",
          "text": [
            "{'employee': 'Arjun', 'department': 'sales', 'last salary': 4000}\n"
          ]
        }
      ]
    },
    {
      "cell_type": "code",
      "source": [
        "mydict={\n",
        "    1:{\"employee\":\"Zara\",\"department\":\"operations\",\"last salary\":5000},\n",
        "    2:{\"employee\":\"Arjun\",\"department\":\"sales\",\"last salary\":4000}\n",
        "}\n",
        "print(mydict[2][\"employee\"])"
      ],
      "metadata": {
        "colab": {
          "base_uri": "https://localhost:8080/"
        },
        "id": "eagGryloOKcd",
        "outputId": "4a2555b8-b648-42be-e166-bf9f3f280429"
      },
      "execution_count": null,
      "outputs": [
        {
          "output_type": "stream",
          "name": "stdout",
          "text": [
            "Arjun\n"
          ]
        }
      ]
    },
    {
      "cell_type": "code",
      "source": [
        "mydict= {\"employee\":\"Zara\",\"department\":\"operations\",\"last salary\":5000}\n",
        "print(mydict.keys())"
      ],
      "metadata": {
        "colab": {
          "base_uri": "https://localhost:8080/"
        },
        "id": "mC3ZPrFMOVqd",
        "outputId": "84877199-6929-4ca4-c992-394afe129660"
      },
      "execution_count": null,
      "outputs": [
        {
          "output_type": "stream",
          "name": "stdout",
          "text": [
            "dict_keys(['employee', 'department', 'last salary'])\n"
          ]
        }
      ]
    },
    {
      "cell_type": "code",
      "source": [
        "mydict= {\"employee\":\"Zara\",\"department\":\"operations\",\"last salary\":5000}\n",
        "print(mydict.values())"
      ],
      "metadata": {
        "colab": {
          "base_uri": "https://localhost:8080/"
        },
        "id": "3Y1lAtB0Ox6T",
        "outputId": "6394f9c9-67f4-4a07-d32e-9a78ddcbea54"
      },
      "execution_count": null,
      "outputs": [
        {
          "output_type": "stream",
          "name": "stdout",
          "text": [
            "dict_values(['Zara', 'operations', 5000])\n"
          ]
        }
      ]
    },
    {
      "cell_type": "code",
      "source": [
        "mydict= {\"employee\":\"Zara\",\"department\":\"operations\",\"last salary\":5000}\n",
        "print(mydict.items())"
      ],
      "metadata": {
        "colab": {
          "base_uri": "https://localhost:8080/"
        },
        "id": "LxJYmCrrO3Wj",
        "outputId": "fcde3393-742f-4f4e-dbff-69c7c341608d"
      },
      "execution_count": null,
      "outputs": [
        {
          "output_type": "stream",
          "name": "stdout",
          "text": [
            "dict_items([('employee', 'Zara'), ('department', 'operations'), ('last salary', 5000)])\n"
          ]
        }
      ]
    },
    {
      "cell_type": "code",
      "source": [
        "mydict= {\"employee\":\"Zara\",\"department\":\"operations\",\"last salary\":5000}\n",
        "if \"department\" in mydict:\n",
        "  print(\"Yes key value =department is present\")\n"
      ],
      "metadata": {
        "colab": {
          "base_uri": "https://localhost:8080/"
        },
        "id": "SDSMLolTO8fJ",
        "outputId": "c0bb1542-53f7-44c5-d404-a07498aee558"
      },
      "execution_count": null,
      "outputs": [
        {
          "output_type": "stream",
          "name": "stdout",
          "text": [
            "Yes key value =department is present\n"
          ]
        }
      ]
    },
    {
      "cell_type": "code",
      "source": [
        "mydict= {\"employee\":\"Zara\",\"department\":\"operations\",\"last salary\":5000}\n",
        "mydict.update({\"employee\":\"John\"})\n",
        "print(mydict)"
      ],
      "metadata": {
        "colab": {
          "base_uri": "https://localhost:8080/"
        },
        "id": "GBxEdiqJPTcY",
        "outputId": "958ab75b-094e-4d49-a2d4-0a497dcae767"
      },
      "execution_count": null,
      "outputs": [
        {
          "output_type": "stream",
          "name": "stdout",
          "text": [
            "{'employee': 'John', 'department': 'operations', 'last salary': 5000}\n"
          ]
        }
      ]
    },
    {
      "cell_type": "code",
      "source": [
        "mydict= {\"employee\":\"Zara\",\"department\":\"operations\",\"last salary\":5000}\n",
        "mydict.update({\"status\":\"level 3\"})\n",
        "print(mydict)"
      ],
      "metadata": {
        "colab": {
          "base_uri": "https://localhost:8080/"
        },
        "id": "DJIJsS5HPs_s",
        "outputId": "bb0df925-0536-45d3-ba45-d94ab7dd7478"
      },
      "execution_count": null,
      "outputs": [
        {
          "output_type": "stream",
          "name": "stdout",
          "text": [
            "{'employee': 'Zara', 'department': 'operations', 'last salary': 5000, 'status': 'level 3'}\n"
          ]
        }
      ]
    },
    {
      "cell_type": "code",
      "source": [
        "mydict= {\"employee\":\"Zara\",\"department\":\"operations\",\"last salary\":5000}\n",
        "mydict.pop(\"last salary\")\n",
        "print(mydict)"
      ],
      "metadata": {
        "colab": {
          "base_uri": "https://localhost:8080/"
        },
        "id": "5DG5BtaUP3a_",
        "outputId": "30b50e23-8d6d-4f36-daf5-1a629221e23f"
      },
      "execution_count": null,
      "outputs": [
        {
          "output_type": "stream",
          "name": "stdout",
          "text": [
            "{'employee': 'Zara', 'department': 'operations'}\n"
          ]
        }
      ]
    },
    {
      "cell_type": "code",
      "source": [
        "mydict= {\"employee\":\"Zara\",\"department\":\"operations\",\"last salary\":5000}\n",
        "del mydict[\"last salary\"]\n",
        "print(mydict)"
      ],
      "metadata": {
        "colab": {
          "base_uri": "https://localhost:8080/"
        },
        "id": "HDNt6odmQHzw",
        "outputId": "b3b72fac-14dd-4bde-cbc3-f90fd39b3493"
      },
      "execution_count": null,
      "outputs": [
        {
          "output_type": "stream",
          "name": "stdout",
          "text": [
            "{'employee': 'Zara', 'department': 'operations'}\n"
          ]
        }
      ]
    },
    {
      "cell_type": "code",
      "source": [
        "mydict= {\"employee\":\"Zara\",\"department\":\"operations\",\"last salary\":5000}\n",
        "del mydict\n",
        "print(mydict)"
      ],
      "metadata": {
        "colab": {
          "base_uri": "https://localhost:8080/",
          "height": 200
        },
        "id": "fc2grZmmQRDb",
        "outputId": "b396c008-fa36-4eb2-eac5-6abbb0f0841f"
      },
      "execution_count": null,
      "outputs": [
        {
          "output_type": "error",
          "ename": "NameError",
          "evalue": "ignored",
          "traceback": [
            "\u001b[0;31m---------------------------------------------------------------------------\u001b[0m",
            "\u001b[0;31mNameError\u001b[0m                                 Traceback (most recent call last)",
            "\u001b[0;32m<ipython-input-101-b8b96802b594>\u001b[0m in \u001b[0;36m<module>\u001b[0;34m\u001b[0m\n\u001b[1;32m      1\u001b[0m \u001b[0mmydict\u001b[0m\u001b[0;34m=\u001b[0m \u001b[0;34m{\u001b[0m\u001b[0;34m\"employee\"\u001b[0m\u001b[0;34m:\u001b[0m\u001b[0;34m\"Zara\"\u001b[0m\u001b[0;34m,\u001b[0m\u001b[0;34m\"department\"\u001b[0m\u001b[0;34m:\u001b[0m\u001b[0;34m\"operations\"\u001b[0m\u001b[0;34m,\u001b[0m\u001b[0;34m\"last salary\"\u001b[0m\u001b[0;34m:\u001b[0m\u001b[0;36m5000\u001b[0m\u001b[0;34m}\u001b[0m\u001b[0;34m\u001b[0m\u001b[0;34m\u001b[0m\u001b[0m\n\u001b[1;32m      2\u001b[0m \u001b[0;32mdel\u001b[0m \u001b[0mmydict\u001b[0m\u001b[0;34m\u001b[0m\u001b[0;34m\u001b[0m\u001b[0m\n\u001b[0;32m----> 3\u001b[0;31m \u001b[0mprint\u001b[0m\u001b[0;34m(\u001b[0m\u001b[0mmydict\u001b[0m\u001b[0;34m)\u001b[0m\u001b[0;34m\u001b[0m\u001b[0;34m\u001b[0m\u001b[0m\n\u001b[0m",
            "\u001b[0;31mNameError\u001b[0m: name 'mydict' is not defined"
          ]
        }
      ]
    },
    {
      "cell_type": "code",
      "source": [
        "mydict= {\"employee\":\"Zara\",\"department\":\"operations\",\"last salary\":5000}\n",
        "for item in mydict.values():\n",
        "  print(item)"
      ],
      "metadata": {
        "colab": {
          "base_uri": "https://localhost:8080/"
        },
        "id": "pFIOf2FuQlH0",
        "outputId": "cf9be91a-f5af-41ae-c94a-5e26f43c3344"
      },
      "execution_count": null,
      "outputs": [
        {
          "output_type": "stream",
          "name": "stdout",
          "text": [
            "Zara\n",
            "operations\n",
            "5000\n"
          ]
        }
      ]
    },
    {
      "cell_type": "code",
      "source": [
        "mydict= {\"employee\":\"Zara\",\"department\":\"operations\",\"last salary\":5000}\n",
        "for keys,values in mydict.items():\n",
        "  print(keys,values)"
      ],
      "metadata": {
        "colab": {
          "base_uri": "https://localhost:8080/"
        },
        "id": "6NY9sK_LRTsp",
        "outputId": "451131b7-3ac4-4119-9aec-0f945f1a672d"
      },
      "execution_count": null,
      "outputs": [
        {
          "output_type": "stream",
          "name": "stdout",
          "text": [
            "employee Zara\n",
            "department operations\n",
            "last salary 5000\n"
          ]
        }
      ]
    },
    {
      "cell_type": "code",
      "source": [
        "mytuple=(\"Audi\", \"Ford\", \"Tesla\",5000,True)\n",
        "print(mytuple[2])"
      ],
      "metadata": {
        "colab": {
          "base_uri": "https://localhost:8080/"
        },
        "id": "RL3StSA1Rvav",
        "outputId": "7c23a74b-fd1c-4708-e698-407d6e6a2188"
      },
      "execution_count": null,
      "outputs": [
        {
          "output_type": "stream",
          "name": "stdout",
          "text": [
            "Tesla\n"
          ]
        }
      ]
    },
    {
      "cell_type": "code",
      "source": [
        "mytuple=(\"Audi\", \"Ford\", \"Tesla\",5000,True)\n",
        "mylist=list(mytuple)\n",
        "mylist[0]=\"Toyota\"\n",
        "mytuple=tuple(mylist)\n",
        "print(mytuple)"
      ],
      "metadata": {
        "colab": {
          "base_uri": "https://localhost:8080/"
        },
        "id": "U5KHuWy8SJMn",
        "outputId": "a2cc4e77-b133-4f08-8d2b-41f43d6cc9db"
      },
      "execution_count": null,
      "outputs": [
        {
          "output_type": "stream",
          "name": "stdout",
          "text": [
            "('Toyota', 'Ford', 'Tesla', 5000, True)\n"
          ]
        }
      ]
    },
    {
      "cell_type": "code",
      "source": [
        "mytuple=(\"Audi\", \"Ford\", \"Tesla\",5000,True)\n",
        "print(mytuple.index(\"Audi\"))"
      ],
      "metadata": {
        "colab": {
          "base_uri": "https://localhost:8080/"
        },
        "id": "4QABUXVrSjP5",
        "outputId": "733c4874-ffde-467c-dcda-f0ec74504b80"
      },
      "execution_count": null,
      "outputs": [
        {
          "output_type": "stream",
          "name": "stdout",
          "text": [
            "0\n"
          ]
        }
      ]
    },
    {
      "cell_type": "code",
      "source": [
        "mytuple=(\"Audi\", \"Ford\", \"Audi\",\"Tesla\",5000,True)\n",
        "print(mytuple.count(\"Audi\"))"
      ],
      "metadata": {
        "colab": {
          "base_uri": "https://localhost:8080/"
        },
        "id": "3QbygVJVSt72",
        "outputId": "5391a261-ffe6-4b84-b5ac-e0984f911389"
      },
      "execution_count": null,
      "outputs": [
        {
          "output_type": "stream",
          "name": "stdout",
          "text": [
            "2\n"
          ]
        }
      ]
    },
    {
      "cell_type": "code",
      "source": [
        "mytuple=(\"Audi\", \"Ford\", \"Tesla\",5000,True)\n",
        "for item in mytuple:\n",
        "  print(item)"
      ],
      "metadata": {
        "colab": {
          "base_uri": "https://localhost:8080/"
        },
        "id": "EdYr2PHyS5rU",
        "outputId": "c0973829-5cdf-4ff6-995a-2fe4ba7e0e34"
      },
      "execution_count": null,
      "outputs": [
        {
          "output_type": "stream",
          "name": "stdout",
          "text": [
            "Audi\n",
            "Ford\n",
            "Tesla\n",
            "5000\n",
            "True\n"
          ]
        }
      ]
    },
    {
      "cell_type": "code",
      "source": [
        "mytuple=(\"Audi\", \"Ford\", \"Tesla\")\n",
        "car1,car2, car3=mytuple\n",
        "print(car1)\n",
        "print(car2)\n",
        "print(car3)"
      ],
      "metadata": {
        "colab": {
          "base_uri": "https://localhost:8080/"
        },
        "id": "z8p8TECNTDoX",
        "outputId": "2647899b-6046-4308-dfb8-54b27ee77b12"
      },
      "execution_count": null,
      "outputs": [
        {
          "output_type": "stream",
          "name": "stdout",
          "text": [
            "Audi\n",
            "Ford\n",
            "Tesla\n"
          ]
        }
      ]
    },
    {
      "cell_type": "code",
      "source": [
        "myset={\"apple\", \"banana\", \"orange\", 1,3,5,True}\n",
        "print(len(myset))\n",
        "print(type(myset))"
      ],
      "metadata": {
        "colab": {
          "base_uri": "https://localhost:8080/"
        },
        "id": "qYATXPRbTkE7",
        "outputId": "56a37d40-c02f-4abd-9a6b-d151bee0a435"
      },
      "execution_count": null,
      "outputs": [
        {
          "output_type": "stream",
          "name": "stdout",
          "text": [
            "6\n",
            "<class 'set'>\n"
          ]
        }
      ]
    },
    {
      "cell_type": "code",
      "source": [
        "myset={\"apple\", \"banana\", \"orange\", 1,3,5,True}\n",
        "for item in myset:\n",
        "  print(item)\n"
      ],
      "metadata": {
        "colab": {
          "base_uri": "https://localhost:8080/"
        },
        "id": "Rm0qebZpUAY4",
        "outputId": "c054a40e-f162-48b1-f6c0-77053e500fc1"
      },
      "execution_count": null,
      "outputs": [
        {
          "output_type": "stream",
          "name": "stdout",
          "text": [
            "1\n",
            "3\n",
            "apple\n",
            "5\n",
            "orange\n",
            "banana\n"
          ]
        }
      ]
    },
    {
      "cell_type": "code",
      "source": [
        "myset1={3,4}\n",
        "myset2={3,4,5,6}\n",
        "print(myset1.intersection(myset2))"
      ],
      "metadata": {
        "colab": {
          "base_uri": "https://localhost:8080/"
        },
        "id": "tkzRMrscUgrX",
        "outputId": "478cfaa7-5265-4d2b-811a-27c03a5a30a5"
      },
      "execution_count": null,
      "outputs": [
        {
          "output_type": "stream",
          "name": "stdout",
          "text": [
            "{3, 4}\n"
          ]
        }
      ]
    },
    {
      "cell_type": "code",
      "source": [
        "myset3"
      ],
      "metadata": {
        "id": "sJwmsP2iUpZN"
      },
      "execution_count": null,
      "outputs": []
    },
    {
      "cell_type": "code",
      "source": [
        "myset1={3,4}\n",
        "myset2={3,4,5,6}\n",
        "print(myset1.union(myset2))"
      ],
      "metadata": {
        "colab": {
          "base_uri": "https://localhost:8080/"
        },
        "id": "QMevyjS9U_UE",
        "outputId": "b4856a73-b380-4f38-9732-203a0292da28"
      },
      "execution_count": null,
      "outputs": [
        {
          "output_type": "stream",
          "name": "stdout",
          "text": [
            "{3, 4, 5, 6}\n"
          ]
        }
      ]
    },
    {
      "cell_type": "code",
      "source": [
        "import numpy as np"
      ],
      "metadata": {
        "id": "QpFZVJgmVVWU"
      },
      "execution_count": null,
      "outputs": []
    },
    {
      "cell_type": "code",
      "source": [
        "import pandas as pd"
      ],
      "metadata": {
        "id": "Zq3nn4ViVpn_"
      },
      "execution_count": null,
      "outputs": []
    },
    {
      "cell_type": "code",
      "source": [
        "import matplotlib.pyplot as plt\n"
      ],
      "metadata": {
        "id": "5kQbvmDvVwZc"
      },
      "execution_count": null,
      "outputs": []
    },
    {
      "cell_type": "code",
      "source": [
        "import seaborn as sns"
      ],
      "metadata": {
        "id": "wRe_W72-V_RO"
      },
      "execution_count": null,
      "outputs": []
    },
    {
      "cell_type": "code",
      "source": [
        "import math"
      ],
      "metadata": {
        "id": "Vz0ryJ6GWDUM"
      },
      "execution_count": null,
      "outputs": []
    },
    {
      "cell_type": "code",
      "source": [
        "import scipy"
      ],
      "metadata": {
        "id": "abWOCEzmWGvX"
      },
      "execution_count": null,
      "outputs": []
    },
    {
      "cell_type": "code",
      "source": [
        "!pip install pyodbc\n",
        "import pyodbc"
      ],
      "metadata": {
        "colab": {
          "base_uri": "https://localhost:8080/"
        },
        "id": "7vKJZthMWRi2",
        "outputId": "b18e1efd-a63e-4627-d48f-c8777116ba1c"
      },
      "execution_count": null,
      "outputs": [
        {
          "output_type": "stream",
          "name": "stdout",
          "text": [
            "Looking in indexes: https://pypi.org/simple, https://us-python.pkg.dev/colab-wheels/public/simple/\n",
            "Collecting pyodbc\n",
            "  Downloading pyodbc-4.0.34-cp37-cp37m-manylinux_2_24_x86_64.whl (472 kB)\n",
            "\u001b[K     |████████████████████████████████| 472 kB 5.0 MB/s \n",
            "\u001b[?25hInstalling collected packages: pyodbc\n",
            "Successfully installed pyodbc-4.0.34\n"
          ]
        }
      ]
    },
    {
      "cell_type": "code",
      "source": [
        "x=9\n",
        "if x%2==0:\n",
        "  print(\"This number is even!\")"
      ],
      "metadata": {
        "id": "hhu4nQmP8pIj"
      },
      "execution_count": null,
      "outputs": []
    },
    {
      "cell_type": "code",
      "source": [
        "x=9\n",
        "if x%2==0:\n",
        "  print(\"This number is even!\")\n",
        "else:\n",
        "  print(\"This is an odd number!\")"
      ],
      "metadata": {
        "colab": {
          "base_uri": "https://localhost:8080/"
        },
        "id": "RT5Iv0e29xbo",
        "outputId": "84de16a5-b659-4810-b0af-18ffc619f54a"
      },
      "execution_count": null,
      "outputs": [
        {
          "output_type": "stream",
          "name": "stdout",
          "text": [
            "This is an odd number!\n"
          ]
        }
      ]
    },
    {
      "cell_type": "code",
      "source": [
        "a,b=10,12\n",
        "if a==b:\n",
        "  print(\"The two numbers are equal\")\n",
        "elif a<b:\n",
        "  print(\"The first number is smaller than the second\")\n",
        "else:\n",
        "  print(\"The first number is greater than the second\")"
      ],
      "metadata": {
        "colab": {
          "base_uri": "https://localhost:8080/"
        },
        "id": "CdJtnndI_HbB",
        "outputId": "458074f3-675d-4516-a7ac-66086aaa2a8a"
      },
      "execution_count": null,
      "outputs": [
        {
          "output_type": "stream",
          "name": "stdout",
          "text": [
            "The first number is smaller than the second\n"
          ]
        }
      ]
    },
    {
      "cell_type": "code",
      "source": [
        "a = -1\n",
        "if a>0:\n",
        "  print(\"This number is positive\")\n",
        "elif a<0:\n",
        "    print(\"This number is negative\")\n",
        "else:\n",
        "  print(\"This number is 0\")\n"
      ],
      "metadata": {
        "colab": {
          "base_uri": "https://localhost:8080/"
        },
        "id": "s07v5D8TBFFB",
        "outputId": "4197719a-a791-4cbb-a208-01a8f7aa42f4"
      },
      "execution_count": null,
      "outputs": [
        {
          "output_type": "stream",
          "name": "stdout",
          "text": [
            "This number is negative\n"
          ]
        }
      ]
    },
    {
      "cell_type": "code",
      "source": [
        "for i in range(0,6):\n",
        "  print(i)"
      ],
      "metadata": {
        "colab": {
          "base_uri": "https://localhost:8080/"
        },
        "id": "B9HNWm5vDjcK",
        "outputId": "68986a80-ea6b-40db-cf40-55171fbac736"
      },
      "execution_count": null,
      "outputs": [
        {
          "output_type": "stream",
          "name": "stdout",
          "text": [
            "0\n",
            "1\n",
            "2\n",
            "3\n",
            "4\n",
            "5\n"
          ]
        }
      ]
    },
    {
      "cell_type": "code",
      "source": [
        "for i in range(0,6):\n",
        "  print(\"The iteration number is {}\".format(i))"
      ],
      "metadata": {
        "colab": {
          "base_uri": "https://localhost:8080/"
        },
        "id": "YfGDOU4vD8nU",
        "outputId": "51110cc6-eae5-4b15-91a5-633fe68164b1"
      },
      "execution_count": null,
      "outputs": [
        {
          "output_type": "stream",
          "name": "stdout",
          "text": [
            "The iteration number is 0\n",
            "The iteration number is 1\n",
            "The iteration number is 2\n",
            "The iteration number is 3\n",
            "The iteration number is 4\n",
            "The iteration number is 5\n"
          ]
        }
      ]
    },
    {
      "cell_type": "code",
      "source": [
        "i=0\n",
        "while i<5:\n",
        "  print(i)\n",
        "  i=i+1\n",
        "print(\"THE END!\")"
      ],
      "metadata": {
        "colab": {
          "base_uri": "https://localhost:8080/"
        },
        "id": "PIcTnY-3Epim",
        "outputId": "50abe1d6-56c0-4fb6-fef1-4ce27ea39db4"
      },
      "execution_count": null,
      "outputs": [
        {
          "output_type": "stream",
          "name": "stdout",
          "text": [
            "0\n",
            "1\n",
            "2\n",
            "3\n",
            "4\n",
            "THE END!\n"
          ]
        }
      ]
    },
    {
      "cell_type": "code",
      "source": [
        "targetvalue =6\n",
        "iterate =0\n",
        "while iterate<targetvalue:\n",
        "  print(\"iteration number  is {}, which is less than the target value {}\".format(iterate, targetvalue))\n",
        "  iterate =iterate+1\n"
      ],
      "metadata": {
        "colab": {
          "base_uri": "https://localhost:8080/"
        },
        "id": "9aEU1lLIFYwb",
        "outputId": "2f48ad4b-275d-41ad-cc34-a27d829a40f1"
      },
      "execution_count": null,
      "outputs": [
        {
          "output_type": "stream",
          "name": "stdout",
          "text": [
            "iteration number  is 0, which is less than the target value 6\n",
            "iteration number  is 1, which is less than the target value 6\n",
            "iteration number  is 2, which is less than the target value 6\n",
            "iteration number  is 3, which is less than the target value 6\n",
            "iteration number  is 4, which is less than the target value 6\n",
            "iteration number  is 5, which is less than the target value 6\n"
          ]
        }
      ]
    },
    {
      "cell_type": "code",
      "source": [
        "targetvalue =6\n",
        "iterate =0\n",
        "while iterate<targetvalue:\n",
        "  print(\"iteration number  is {}, which is less than the target value {}\".format(iterate, targetvalue))\n",
        "  if iterate==3:\n",
        "    break\n",
        "  iterate =iterate+1"
      ],
      "metadata": {
        "colab": {
          "base_uri": "https://localhost:8080/"
        },
        "id": "KSY6VQ2gQH_e",
        "outputId": "f39b2b2e-b8ad-428f-afba-1c8064ea13a5"
      },
      "execution_count": null,
      "outputs": [
        {
          "output_type": "stream",
          "name": "stdout",
          "text": [
            "iteration number  is 0, which is less than the target value 6\n",
            "iteration number  is 1, which is less than the target value 6\n",
            "iteration number  is 2, which is less than the target value 6\n",
            "iteration number  is 3, which is less than the target value 6\n"
          ]
        }
      ]
    },
    {
      "cell_type": "code",
      "source": [
        "targetvalue =6\n",
        "iterate =0\n",
        "while iterate<targetvalue:\n",
        "  iterate=iterate+1\n",
        "  if iterate==3:\n",
        "    continue\n",
        "  print(\"The iteration value is {}, which is less than the target value {}\".format(iterate,targetvalue))"
      ],
      "metadata": {
        "colab": {
          "base_uri": "https://localhost:8080/"
        },
        "id": "-wRIr8e4Q9CY",
        "outputId": "b8911a84-8a1d-4a0c-bed0-df3dade002a8"
      },
      "execution_count": null,
      "outputs": [
        {
          "output_type": "stream",
          "name": "stdout",
          "text": [
            "The iteration value is 1, which is less than the target value 6\n",
            "The iteration value is 2, which is less than the target value 6\n",
            "The iteration value is 4, which is less than the target value 6\n",
            "The iteration value is 5, which is less than the target value 6\n",
            "The iteration value is 6, which is less than the target value 6\n"
          ]
        }
      ]
    },
    {
      "cell_type": "code",
      "source": [
        "a = 1\n",
        "while a < 100:\n",
        "  print(a)\n",
        "  a = a+1\n",
        "  if a==11:\n",
        "    break\n"
      ],
      "metadata": {
        "colab": {
          "base_uri": "https://localhost:8080/"
        },
        "id": "c2fzfYmZSYRe",
        "outputId": "b9db1915-2218-411c-e87b-379136dfdc81"
      },
      "execution_count": null,
      "outputs": [
        {
          "output_type": "stream",
          "name": "stdout",
          "text": [
            "1\n",
            "2\n",
            "3\n",
            "4\n",
            "5\n",
            "6\n",
            "7\n",
            "8\n",
            "9\n",
            "10\n"
          ]
        }
      ]
    },
    {
      "cell_type": "code",
      "source": [
        "targetvalue =6\n",
        "iterate =0\n",
        "while iterate<targetvalue:\n",
        "  iterate=iterate+1\n",
        "  if iterate==3:\n",
        "   continue\n",
        "  print(\"The iteration value is {}, which is less than the target value {}\".format(iterate,targetvalue))\n"
      ],
      "metadata": {
        "colab": {
          "base_uri": "https://localhost:8080/"
        },
        "id": "H1-lsXdwV2qp",
        "outputId": "ed3ccba1-003d-48ba-b08c-cddbbf198b52"
      },
      "execution_count": null,
      "outputs": [
        {
          "output_type": "stream",
          "name": "stdout",
          "text": [
            "The iteration value is 1, which is less than the target value 6\n",
            "The iteration value is 2, which is less than the target value 6\n",
            "The iteration value is 4, which is less than the target value 6\n",
            "The iteration value is 5, which is less than the target value 6\n",
            "The iteration value is 6, which is less than the target value 6\n"
          ]
        }
      ]
    },
    {
      "cell_type": "code",
      "source": [
        "targetvalue =6\n",
        "iterate =0\n",
        "while iterate<targetvalue:\n",
        "  iterate=iterate+1\n",
        "  if iterate>=3 and iterate<=5:\n",
        "   continue\n",
        "  print(\"The iteration value is {}, which is less than the target value {}\".format(iterate,targetvalue))\n"
      ],
      "metadata": {
        "colab": {
          "base_uri": "https://localhost:8080/"
        },
        "id": "8hpw-4_vSuqQ",
        "outputId": "74f74c1d-5fc5-430e-bc9b-8157421c627b"
      },
      "execution_count": null,
      "outputs": [
        {
          "output_type": "stream",
          "name": "stdout",
          "text": [
            "The iteration value is 1, which is less than the target value 6\n",
            "The iteration value is 2, which is less than the target value 6\n",
            "The iteration value is 6, which is less than the target value 6\n"
          ]
        }
      ]
    },
    {
      "cell_type": "code",
      "source": [
        " targetvalue =6\n",
        "iterate =0\n",
        "while iterate<targetvalue:\n",
        "  iterate=iterate+1\n",
        "  if iterate in range(3,6):\n",
        "   continue\n",
        "  print(\"The iteration value is {}, which is less than the target value {}\".format(iterate,targetvalue))\n"
      ],
      "metadata": {
        "colab": {
          "base_uri": "https://localhost:8080/"
        },
        "id": "BUyXxtk3UQzO",
        "outputId": "0a200d50-8685-43cd-95e2-6763b02710dc"
      },
      "execution_count": null,
      "outputs": [
        {
          "output_type": "stream",
          "name": "stdout",
          "text": [
            "The iteration value is 1, which is less than the target value 6\n",
            "The iteration value is 2, which is less than the target value 6\n",
            "The iteration value is 6, which is less than the target value 6\n"
          ]
        }
      ]
    },
    {
      "cell_type": "code",
      "source": [
        "mylist=[\"Michael\", \"Sean\",\"Adam\"]\n",
        "print(mylist)"
      ],
      "metadata": {
        "colab": {
          "base_uri": "https://localhost:8080/"
        },
        "id": "S25m6bQ-YN2F",
        "outputId": "a2dd45d1-d2e0-4d5f-ed68-26c5eaa6833b"
      },
      "execution_count": null,
      "outputs": [
        {
          "output_type": "stream",
          "name": "stdout",
          "text": [
            "['Michael', 'Sean', 'Adam']\n"
          ]
        }
      ]
    },
    {
      "cell_type": "code",
      "source": [
        "mylist=[\"Michael\", \"Sean\",\"Adam\"]\n",
        "mylist[0]"
      ],
      "metadata": {
        "colab": {
          "base_uri": "https://localhost:8080/",
          "height": 35
        },
        "id": "tKhrtGZ3YgRE",
        "outputId": "3e4c85b9-9eb2-40fa-b70c-13f8770fc534"
      },
      "execution_count": null,
      "outputs": [
        {
          "output_type": "execute_result",
          "data": {
            "text/plain": [
              "'Michael'"
            ],
            "application/vnd.google.colaboratory.intrinsic+json": {
              "type": "string"
            }
          },
          "metadata": {},
          "execution_count": 98
        }
      ]
    },
    {
      "cell_type": "code",
      "source": [
        "mylist=[\"Michael\", \"Sean\",\"Adam\", 5000,True]\n",
        "type(mylist)"
      ],
      "metadata": {
        "colab": {
          "base_uri": "https://localhost:8080/"
        },
        "id": "IWHPGNY4YumK",
        "outputId": "1a61c66f-f0e0-435f-ee81-b37b8c4b7084"
      },
      "execution_count": null,
      "outputs": [
        {
          "output_type": "execute_result",
          "data": {
            "text/plain": [
              "list"
            ]
          },
          "metadata": {},
          "execution_count": 100
        }
      ]
    },
    {
      "cell_type": "code",
      "source": [
        "mylist=[\"Michael\", \"Sean\",\"Adam\", 5000,True]\n",
        "mylist[0]=\"John\"\n",
        "print(mylist)"
      ],
      "metadata": {
        "colab": {
          "base_uri": "https://localhost:8080/"
        },
        "id": "-sBNygv5Y_u7",
        "outputId": "0ee77553-4afc-420c-bd55-478dbbcb0edd"
      },
      "execution_count": null,
      "outputs": [
        {
          "output_type": "stream",
          "name": "stdout",
          "text": [
            "['John', 'Sean', 'Adam', 5000, True]\n"
          ]
        }
      ]
    },
    {
      "cell_type": "code",
      "source": [
        "mylist=[\"Michael\", \"Sean\",\"Adam\", 5000,True]\n",
        "mylist[1:3]"
      ],
      "metadata": {
        "colab": {
          "base_uri": "https://localhost:8080/"
        },
        "id": "6HDaYefjZOWC",
        "outputId": "284e0f9b-6973-4dbb-e5c3-2314cbb71d00"
      },
      "execution_count": null,
      "outputs": [
        {
          "output_type": "execute_result",
          "data": {
            "text/plain": [
              "['Sean', 'Adam']"
            ]
          },
          "metadata": {},
          "execution_count": 102
        }
      ]
    },
    {
      "cell_type": "code",
      "source": [
        "mylist=[\"Michael\", \"Sean\",\"Adam\", 5000,True]\n",
        "print(len(mylist))"
      ],
      "metadata": {
        "colab": {
          "base_uri": "https://localhost:8080/"
        },
        "id": "lc34kMrKZck7",
        "outputId": "40d17e49-8940-48b0-958b-1f61a0b8f11c"
      },
      "execution_count": null,
      "outputs": [
        {
          "output_type": "stream",
          "name": "stdout",
          "text": [
            "5\n"
          ]
        }
      ]
    },
    {
      "cell_type": "code",
      "source": [
        "mylist=[\"Michael\", \"Sean\",\"Adam\", 5000,True]\n",
        "if \"Sean\" in mylist:\n",
        "  print(\"Yes the element exist\")"
      ],
      "metadata": {
        "colab": {
          "base_uri": "https://localhost:8080/"
        },
        "id": "8SkLxEXEZkgo",
        "outputId": "170a6577-8e40-42e2-cf2b-a68f7f6808c1"
      },
      "execution_count": null,
      "outputs": [
        {
          "output_type": "stream",
          "name": "stdout",
          "text": [
            "Yes the element exist\n"
          ]
        }
      ]
    },
    {
      "cell_type": "code",
      "source": [
        "mylist=[\"Michael\", \"Sean\",\"Adam\", 5000,True]\n",
        "mylist.insert(1,\"John\")\n",
        "print(mylist)"
      ],
      "metadata": {
        "colab": {
          "base_uri": "https://localhost:8080/"
        },
        "id": "sq-VgVIxaCIB",
        "outputId": "8a69d4ab-8865-4b5b-c199-85e0a4ce9a85"
      },
      "execution_count": null,
      "outputs": [
        {
          "output_type": "stream",
          "name": "stdout",
          "text": [
            "['Michael', 'John', 'Sean', 'Adam', 5000, True]\n"
          ]
        }
      ]
    },
    {
      "cell_type": "code",
      "source": [
        "mylist=[\"Michael\", \"Sean\",\"Adam\", 5000,True]\n",
        "mylist.append(\"Zara\")\n",
        "print(mylist)"
      ],
      "metadata": {
        "colab": {
          "base_uri": "https://localhost:8080/"
        },
        "id": "JgXqFNebagIT",
        "outputId": "288983d2-1c53-4b17-9357-d5a6cff94372"
      },
      "execution_count": null,
      "outputs": [
        {
          "output_type": "stream",
          "name": "stdout",
          "text": [
            "['Michael', 'Sean', 'Adam', 5000, True, 'Zara']\n"
          ]
        }
      ]
    },
    {
      "cell_type": "code",
      "source": [
        "mylist1=[\"Michael\", \"Sean\",\"Adam\", 5000,True]\n",
        "mylist2=[\"Zara\", \"Paul\",\"John\"]\n",
        "mylist2.extend(mylist1)\n",
        "print(mylist2)"
      ],
      "metadata": {
        "colab": {
          "base_uri": "https://localhost:8080/"
        },
        "id": "11LFvHoCbQO8",
        "outputId": "f89baa3c-04d8-4807-cb58-c5bfee552200"
      },
      "execution_count": null,
      "outputs": [
        {
          "output_type": "stream",
          "name": "stdout",
          "text": [
            "['Zara', 'Paul', 'John', 'Michael', 'Sean', 'Adam', 5000, True]\n"
          ]
        }
      ]
    },
    {
      "cell_type": "code",
      "source": [
        "mylist=[\"Michael\", \"Sean\",\"Adam\", 5000,True]#removes a certain element\n",
        "mylist.remove(5000)\n",
        "print(mylist)"
      ],
      "metadata": {
        "colab": {
          "base_uri": "https://localhost:8080/"
        },
        "id": "-NCdhOkab3qQ",
        "outputId": "51a3148c-ed88-463a-87f8-a6c7f4080c1a"
      },
      "execution_count": null,
      "outputs": [
        {
          "output_type": "stream",
          "name": "stdout",
          "text": [
            "['Michael', 'Sean', 'Adam', True]\n"
          ]
        }
      ]
    },
    {
      "cell_type": "code",
      "source": [
        "mylist=[\"Michael\", \"Sean\",\"Adam\", 5000,True]#pops a specified index\n",
        "mylist.pop(3)\n",
        "print(mylist)\n"
      ],
      "metadata": {
        "colab": {
          "base_uri": "https://localhost:8080/"
        },
        "id": "JK_IafRxcFJC",
        "outputId": "7eb67020-f450-43b6-a4d5-0faf5c242193"
      },
      "execution_count": null,
      "outputs": [
        {
          "output_type": "stream",
          "name": "stdout",
          "text": [
            "['Michael', 'Sean', 'Adam', True]\n"
          ]
        }
      ]
    },
    {
      "cell_type": "code",
      "source": [
        "mylist=[\"Michael\", \"Sean\",\"Adam\", 5000,True]#automically removes the last element\n",
        "mylist.pop()\n",
        "print(mylist)\n",
        "\n"
      ],
      "metadata": {
        "colab": {
          "base_uri": "https://localhost:8080/"
        },
        "id": "yQYDZAlhcXru",
        "outputId": "cfcc573d-176c-44ef-b588-fc505c1bf9b6"
      },
      "execution_count": null,
      "outputs": [
        {
          "output_type": "stream",
          "name": "stdout",
          "text": [
            "['Michael', 'Sean', 'Adam', 5000]\n"
          ]
        }
      ]
    },
    {
      "cell_type": "code",
      "source": [
        "#sort\n",
        "mylist=[\"Michael\", \"Sean\",\"Adam\"]#Ascending\n",
        "mylist.sort()\n",
        "print(mylist)"
      ],
      "metadata": {
        "id": "hommydH2crzf",
        "colab": {
          "base_uri": "https://localhost:8080/"
        },
        "outputId": "6a4be9c8-cce2-408f-e6ef-808600c0e990"
      },
      "execution_count": null,
      "outputs": [
        {
          "output_type": "stream",
          "name": "stdout",
          "text": [
            "['Adam', 'Michael', 'Sean']\n"
          ]
        }
      ]
    },
    {
      "cell_type": "code",
      "source": [
        "mylist=[\"Michael\", \"Sean\",\"Adam\"]#desc\n",
        "mylist.sort(reverse=True)\n",
        "print(mylist)"
      ],
      "metadata": {
        "colab": {
          "base_uri": "https://localhost:8080/"
        },
        "id": "9tuPY-6veBMI",
        "outputId": "f7c3c450-c98c-4f46-a082-44cc1f4e7a8f"
      },
      "execution_count": null,
      "outputs": [
        {
          "output_type": "stream",
          "name": "stdout",
          "text": [
            "['Sean', 'Michael', 'Adam']\n"
          ]
        }
      ]
    },
    {
      "cell_type": "code",
      "source": [
        "mylist=['Sean', 'Michael', 'Adam']#reverse\n",
        "mylist.reverse()\n",
        "print(mylist)"
      ],
      "metadata": {
        "id": "_tszsrtVcrqp",
        "colab": {
          "base_uri": "https://localhost:8080/"
        },
        "outputId": "c0373f0f-aec3-4f21-8e99-2a5aee7e566d"
      },
      "execution_count": null,
      "outputs": [
        {
          "output_type": "stream",
          "name": "stdout",
          "text": [
            "['Adam', 'Michael', 'Sean']\n"
          ]
        }
      ]
    },
    {
      "cell_type": "code",
      "source": [
        "mylist=[\"Michael\", \"Sean\",\"Adam\"] #reverse\n",
        "mylist.reverse()\n",
        "print(mylist)"
      ],
      "metadata": {
        "colab": {
          "base_uri": "https://localhost:8080/"
        },
        "id": "CYRMkJMQemCC",
        "outputId": "3bfdd600-6137-435d-9588-14ba7df5f8de"
      },
      "execution_count": null,
      "outputs": [
        {
          "output_type": "stream",
          "name": "stdout",
          "text": [
            "['Adam', 'Sean', 'Michael']\n"
          ]
        }
      ]
    },
    {
      "cell_type": "code",
      "source": [
        "mylist1=[\"Michael\", \"Sean\",\"Adam\", 5000,True]\n",
        "mylist2=[\"Zara\", \"Paul\",\"John\"]\n",
        "mylist3=mylist2+mylist1\n",
        "print(mylist3)"
      ],
      "metadata": {
        "colab": {
          "base_uri": "https://localhost:8080/"
        },
        "id": "_uRgTlDpezY1",
        "outputId": "cddc07f4-076c-46a3-f4b3-dad69c81eee8"
      },
      "execution_count": null,
      "outputs": [
        {
          "output_type": "stream",
          "name": "stdout",
          "text": [
            "['Zara', 'Paul', 'John', 'Michael', 'Sean', 'Adam', 5000, True]\n"
          ]
        }
      ]
    },
    {
      "cell_type": "code",
      "source": [
        "mylist=[\"Michael\", \"Sean\",\"Adam\"] #getting help\n",
        "help(mylist.append)"
      ],
      "metadata": {
        "colab": {
          "base_uri": "https://localhost:8080/"
        },
        "id": "eTbJ3cS5fDp1",
        "outputId": "e6015e0f-5727-4ec1-d60c-ba2ed54d8a8f"
      },
      "execution_count": null,
      "outputs": [
        {
          "output_type": "stream",
          "name": "stdout",
          "text": [
            "Help on built-in function append:\n",
            "\n",
            "append(object, /) method of builtins.list instance\n",
            "    Append object to the end of the list.\n",
            "\n"
          ]
        }
      ]
    },
    {
      "cell_type": "code",
      "source": [
        "mylist =[\"google\", \"Meta\", \"Instagram\", \"Tiktok\", \"Snapchat\"]\n",
        "element = input(\"Please input tech co. name (in Capitalised form):\")\n",
        "if element in mylist:\n",
        "  print(\"The tech co. already exists\")\n",
        "else:\n",
        "  mylist.append(element)\n",
        "  print(mylist)"
      ],
      "metadata": {
        "colab": {
          "base_uri": "https://localhost:8080/"
        },
        "id": "SRSWCfRVghrH",
        "outputId": "9ac51d72-d156-4091-a0f5-516a64f93fae"
      },
      "execution_count": null,
      "outputs": [
        {
          "output_type": "stream",
          "name": "stdout",
          "text": [
            "Please input tech co. name (in Capitalised form):Twitter\n",
            "['google', 'Meta', 'Instagram', 'Tiktok', 'Snapchat', 'Twitter']\n"
          ]
        }
      ]
    },
    {
      "cell_type": "code",
      "source": [
        "mylist =[\"google\", \"Meta\", \"Instagram\", \"Tiktok\", \"Snapchat\"]\n",
        "element = input(\"Please input tech co. name (in Capitalised form):\")\n",
        "if element in mylist:\n",
        "  print(\"The tech co. already exists\")\n",
        "else:\n",
        "  mylist.append(element)\n",
        "  print(\"The new list is:\", mylist)"
      ],
      "metadata": {
        "colab": {
          "base_uri": "https://localhost:8080/"
        },
        "id": "8DqOnHP1hoGk",
        "outputId": "374e3588-97ce-481e-f2ee-47cf65166a0f"
      },
      "execution_count": null,
      "outputs": [
        {
          "output_type": "stream",
          "name": "stdout",
          "text": [
            "Please input tech co. name (in Capitalised form):Twitter\n",
            "The new list is: ['google', 'Meta', 'Instagram', 'Tiktok', 'Snapchat', 'Twitter']\n"
          ]
        }
      ]
    },
    {
      "cell_type": "code",
      "source": [
        "mylist =[\"google\", \"Meta\", \"Instagram\", \"Tiktok\", \"Snapchat\"]\n",
        "print(mylist)"
      ],
      "metadata": {
        "colab": {
          "base_uri": "https://localhost:8080/"
        },
        "id": "jTW0kGLTkrVa",
        "outputId": "48fe03c8-eb03-4961-e522-f4397ceab9f8"
      },
      "execution_count": 133,
      "outputs": [
        {
          "output_type": "stream",
          "name": "stdout",
          "text": [
            "['google', 'Meta', 'Instagram', 'Tiktok', 'Snapchat']\n"
          ]
        }
      ]
    },
    {
      "cell_type": "code",
      "source": [
        "mylist =[\"google\", \"Meta\", \"Instagram\", \"Tiktok\", \"Snapchat\"]#looping #returning each item seperately\n",
        "for element in mylist:\n",
        "  print(element)"
      ],
      "metadata": {
        "colab": {
          "base_uri": "https://localhost:8080/"
        },
        "id": "8DeH44tJk_AC",
        "outputId": "b44a6839-23bd-4080-af3c-304b15db975e"
      },
      "execution_count": 134,
      "outputs": [
        {
          "output_type": "stream",
          "name": "stdout",
          "text": [
            "google\n",
            "Meta\n",
            "Instagram\n",
            "Tiktok\n",
            "Snapchat\n"
          ]
        }
      ]
    },
    {
      "cell_type": "code",
      "source": [
        "a=[1,2,3,4,5,6,7]#conventional \n",
        "#=2,4,6,8,10,12,14\n",
        "b=[]\n",
        "for i in a:\n",
        "  b.append(i*2)\n",
        "print(b)"
      ],
      "metadata": {
        "colab": {
          "base_uri": "https://localhost:8080/"
        },
        "id": "sVURXScxlsVa",
        "outputId": "d7adaa2e-dc4e-46c4-feac-29f62bdfbdf2"
      },
      "execution_count": 140,
      "outputs": [
        {
          "output_type": "stream",
          "name": "stdout",
          "text": [
            "[2, 4, 6, 8, 10, 12, 14]\n"
          ]
        }
      ]
    },
    {
      "cell_type": "code",
      "source": [
        "a=[1,2,3,4,5,6,7]#comprehension\n",
        "b=[i*2 for i in a]\n",
        "print(b)\n"
      ],
      "metadata": {
        "colab": {
          "base_uri": "https://localhost:8080/"
        },
        "id": "DW9NP1BalOuG",
        "outputId": "9403bef2-04d1-49ff-80fa-9d65c61a05b9"
      },
      "execution_count": 142,
      "outputs": [
        {
          "output_type": "stream",
          "name": "stdout",
          "text": [
            "[2, 4, 6, 8, 10, 12, 14]\n"
          ]
        }
      ]
    },
    {
      "cell_type": "code",
      "source": [
        "mylist=[1000,20,20120,50,95,1021]#conventional way\n",
        "mynewlist=[]\n",
        "for i in mylist:\n",
        "  if i<100:\n",
        "    mynewlist.append(i)\n",
        "print(mynewlist)"
      ],
      "metadata": {
        "colab": {
          "base_uri": "https://localhost:8080/"
        },
        "id": "vN9MRl9cnV-R",
        "outputId": "f2ac1ffb-3d38-498d-b919-38a1ba6fc913"
      },
      "execution_count": 144,
      "outputs": [
        {
          "output_type": "stream",
          "name": "stdout",
          "text": [
            "[20, 50, 95]\n"
          ]
        }
      ]
    },
    {
      "cell_type": "code",
      "source": [
        "mylist=[1000,20,20120,50,95,1021]#comprehension\n",
        "mynewlist=[i for i in mylist if i<100]\n",
        "print(mynewlist)\n"
      ],
      "metadata": {
        "colab": {
          "base_uri": "https://localhost:8080/"
        },
        "id": "_xpzEaCFn6JQ",
        "outputId": "9e2c395c-18f5-43ea-d2ba-944f65599862"
      },
      "execution_count": 146,
      "outputs": [
        {
          "output_type": "stream",
          "name": "stdout",
          "text": [
            "[20, 50, 95]\n"
          ]
        }
      ]
    },
    {
      "cell_type": "code",
      "source": [
        "mylist=[\"Michael\", \"Sean\", \"Adam\", \"Zara\"]#comprehension\n",
        "mynewlist=[i.upper() for i in mylist]\n",
        "print(mynewlist)"
      ],
      "metadata": {
        "colab": {
          "base_uri": "https://localhost:8080/"
        },
        "id": "UzOKdXg5pAJv",
        "outputId": "5d52347c-8dbc-419a-e344-5e484756cea3"
      },
      "execution_count": 148,
      "outputs": [
        {
          "output_type": "stream",
          "name": "stdout",
          "text": [
            "['MICHAEL', 'SEAN', 'ADAM', 'ZARA']\n"
          ]
        }
      ]
    },
    {
      "cell_type": "code",
      "source": [
        "mylist=[letter.upper() for letter in \"python\"]#comprehension\n",
        "print(mylist)"
      ],
      "metadata": {
        "colab": {
          "base_uri": "https://localhost:8080/"
        },
        "id": "L7ChE24kp1Yw",
        "outputId": "f00c5c06-c5c9-467a-feb2-386ee19d6a1f"
      },
      "execution_count": 149,
      "outputs": [
        {
          "output_type": "stream",
          "name": "stdout",
          "text": [
            "['P', 'Y', 'T', 'H', 'O', 'N']\n"
          ]
        }
      ]
    },
    {
      "cell_type": "code",
      "source": [
        "mylist=[1,2,[\"a\",1],3]#sublist\n",
        "sublist=mylist[2]\n",
        "print(sublist)\n",
        "\n"
      ],
      "metadata": {
        "colab": {
          "base_uri": "https://localhost:8080/"
        },
        "id": "vqCsJ8p8qVma",
        "outputId": "20cdc1b6-e4bb-4e65-e009-1ca3746253bb"
      },
      "execution_count": 151,
      "outputs": [
        {
          "output_type": "stream",
          "name": "stdout",
          "text": [
            "['a', 1]\n"
          ]
        }
      ]
    },
    {
      "cell_type": "code",
      "source": [
        "mylist=[1,2,[\"a\",1],3]\n",
        "mylist[3]"
      ],
      "metadata": {
        "colab": {
          "base_uri": "https://localhost:8080/"
        },
        "id": "XhXdFEfTrE5O",
        "outputId": "1df0ec92-7ef4-46c5-de13-c3a9cf44c274"
      },
      "execution_count": 152,
      "outputs": [
        {
          "output_type": "execute_result",
          "data": {
            "text/plain": [
              "3"
            ]
          },
          "metadata": {},
          "execution_count": 152
        }
      ]
    },
    {
      "cell_type": "code",
      "source": [
        "mylist=[1,2,[\"a\",1],3]\n",
        "mylist[2][0]"
      ],
      "metadata": {
        "colab": {
          "base_uri": "https://localhost:8080/",
          "height": 35
        },
        "id": "ltVcu_bNrJNh",
        "outputId": "cac790db-fb97-40a8-9806-afcb16104302"
      },
      "execution_count": 153,
      "outputs": [
        {
          "output_type": "execute_result",
          "data": {
            "text/plain": [
              "'a'"
            ],
            "application/vnd.google.colaboratory.intrinsic+json": {
              "type": "string"
            }
          },
          "metadata": {},
          "execution_count": 153
        }
      ]
    },
    {
      "cell_type": "code",
      "source": [
        "mylist=[1,2,[\"a\",1],3]\n",
        "mylist[2][1]"
      ],
      "metadata": {
        "colab": {
          "base_uri": "https://localhost:8080/"
        },
        "id": "7eS0YR9yrP8Z",
        "outputId": "c021675c-1edd-4f8a-b0e7-298e4d8fa43a"
      },
      "execution_count": 154,
      "outputs": [
        {
          "output_type": "execute_result",
          "data": {
            "text/plain": [
              "1"
            ]
          },
          "metadata": {},
          "execution_count": 154
        }
      ]
    },
    {
      "cell_type": "code",
      "source": [
        "matrix=[[0,1,2],[3,4,5],[6,7,8],[9,10,11]]"
      ],
      "metadata": {
        "id": "w36z-2UdsKIM"
      },
      "execution_count": null,
      "outputs": []
    },
    {
      "cell_type": "code",
      "source": [
        "matrix=[[0,1,2],#creating rows and cols\n",
        "        [3,4,5],\n",
        "        [6,7,8],\n",
        "        [9,10,11]]\n",
        "rows=len(matrix)\n",
        "cols=len(matrix[0])\n",
        "print(rows)\n",
        "print(cols)"
      ],
      "metadata": {
        "colab": {
          "base_uri": "https://localhost:8080/"
        },
        "id": "wYoTm0yrsZaS",
        "outputId": "6a87f981-59b4-45be-b0f6-b5c495e6b81e"
      },
      "execution_count": 161,
      "outputs": [
        {
          "output_type": "stream",
          "name": "stdout",
          "text": [
            "4\n",
            "3\n"
          ]
        }
      ]
    },
    {
      "cell_type": "code",
      "source": [
        "matrix=[[0,1,2],\n",
        "        [3,4,5],\n",
        "        [6,7,8],\n",
        "        [9,10,11]]\n",
        "rows=len(matrix)\n",
        "cols=len(matrix[0])\n",
        "for i in range(0,rows):\n",
        "  print(matrix[i])\n"
      ],
      "metadata": {
        "colab": {
          "base_uri": "https://localhost:8080/"
        },
        "id": "v_BACz9ntTZK",
        "outputId": "fde4f421-9a2c-4c4a-cc79-8b8a988b6aba"
      },
      "execution_count": 165,
      "outputs": [
        {
          "output_type": "stream",
          "name": "stdout",
          "text": [
            "[0, 1, 2]\n",
            "[3, 4, 5]\n",
            "[6, 7, 8]\n",
            "[9, 10, 11]\n"
          ]
        }
      ]
    },
    {
      "cell_type": "code",
      "source": [
        "matrix[1][0]"
      ],
      "metadata": {
        "colab": {
          "base_uri": "https://localhost:8080/"
        },
        "id": "HhJ3GWIQt-lF",
        "outputId": "ef0e4db5-93e8-46d0-bbd1-f6db7b9352cb"
      },
      "execution_count": 166,
      "outputs": [
        {
          "output_type": "execute_result",
          "data": {
            "text/plain": [
              "3"
            ]
          },
          "metadata": {},
          "execution_count": 166
        }
      ]
    },
    {
      "cell_type": "code",
      "source": [
        "matrix[3][1]"
      ],
      "metadata": {
        "colab": {
          "base_uri": "https://localhost:8080/"
        },
        "id": "pbYsT_uauPJe",
        "outputId": "09242080-bfed-48b7-c301-edbdcdb75d92"
      },
      "execution_count": 167,
      "outputs": [
        {
          "output_type": "execute_result",
          "data": {
            "text/plain": [
              "10"
            ]
          },
          "metadata": {},
          "execution_count": 167
        }
      ]
    },
    {
      "cell_type": "code",
      "source": [
        "mydict={\"employee\":\"Zara\",\"department\":\"operations\",\"last salary\":5000}\n"
      ],
      "metadata": {
        "id": "0CKNe01dvFqc"
      },
      "execution_count": 168,
      "outputs": []
    },
    {
      "cell_type": "code",
      "source": [
        "mydict={\n",
        "    \"employee\":\"Zara\",\"department\":\"operations\",\"last salary\":5000\n",
        "    }"
      ],
      "metadata": {
        "id": "PpZExJUoyRjo"
      },
      "execution_count": 169,
      "outputs": []
    },
    {
      "cell_type": "code",
      "source": [
        "mydict={\"employee\":\"Zara\",\"department\":\"operations\",\"last salary\":5000}\n",
        "print(mydict)"
      ],
      "metadata": {
        "colab": {
          "base_uri": "https://localhost:8080/"
        },
        "id": "3YFMEwPDyXhK",
        "outputId": "c6bca2f3-b7e1-4b97-8e15-efcac8bc7730"
      },
      "execution_count": 170,
      "outputs": [
        {
          "output_type": "stream",
          "name": "stdout",
          "text": [
            "{'employee': 'Zara', 'department': 'operations', 'last salary': 5000}\n"
          ]
        }
      ]
    },
    {
      "cell_type": "code",
      "source": [
        "mydict={\"employee\":\"Zara\",\"department\":\"operations\",\"last salary\":5000}\n",
        "print(mydict[\"employee\"])"
      ],
      "metadata": {
        "colab": {
          "base_uri": "https://localhost:8080/"
        },
        "id": "-KNiqFXYyfq5",
        "outputId": "38b30285-afe8-4f39-8466-8cb81ec520b2"
      },
      "execution_count": 171,
      "outputs": [
        {
          "output_type": "stream",
          "name": "stdout",
          "text": [
            "Zara\n"
          ]
        }
      ]
    },
    {
      "cell_type": "code",
      "source": [
        "mydict={\"employee\":\"Zara\",\"department\":\"operations\",\"last salary\":5000}\n",
        "mydict[\"department\"] =\"sales\"\n",
        "print(mydict)"
      ],
      "metadata": {
        "colab": {
          "base_uri": "https://localhost:8080/"
        },
        "id": "2Pmm-QVMyuFQ",
        "outputId": "558a86ce-f7dd-4ea4-9144-6c5822f8e6d2"
      },
      "execution_count": 172,
      "outputs": [
        {
          "output_type": "stream",
          "name": "stdout",
          "text": [
            "{'employee': 'Zara', 'department': 'sales', 'last salary': 5000}\n"
          ]
        }
      ]
    },
    {
      "cell_type": "code",
      "source": [
        "mydict={\"employee\":\"Zara\",\"department\":\"operations\",\"last salary\":5000}\n",
        "print(len(mydict))"
      ],
      "metadata": {
        "colab": {
          "base_uri": "https://localhost:8080/"
        },
        "id": "vRv533Yiy4NB",
        "outputId": "de3a72c6-9b1f-4266-d4ea-3596e8d907f4"
      },
      "execution_count": 173,
      "outputs": [
        {
          "output_type": "stream",
          "name": "stdout",
          "text": [
            "3\n"
          ]
        }
      ]
    },
    {
      "cell_type": "code",
      "source": [
        "mydict={\"employee\":\"Zara\",\"department\":\"operations\",\"last salary\":5000}\n",
        "print(type(mydict))"
      ],
      "metadata": {
        "colab": {
          "base_uri": "https://localhost:8080/"
        },
        "id": "kUcc7mxCzH9e",
        "outputId": "65855949-0eac-48f3-8617-8b5a0bce8c97"
      },
      "execution_count": 174,
      "outputs": [
        {
          "output_type": "stream",
          "name": "stdout",
          "text": [
            "<class 'dict'>\n"
          ]
        }
      ]
    },
    {
      "cell_type": "code",
      "source": [
        "mydict={\n",
        "    1: {\"employee\":\"Zara\",\"department\":\"operations\",\"last salary\":5000},\n",
        "    2: {\"employee\":\"Sean\",\"department\":\"sales\",\"last salary\":4000}\n",
        "    }\n"
      ],
      "metadata": {
        "id": "1Kc_MyMAzNu1"
      },
      "execution_count": 177,
      "outputs": []
    },
    {
      "cell_type": "code",
      "source": [
        "print(mydict[1])"
      ],
      "metadata": {
        "colab": {
          "base_uri": "https://localhost:8080/"
        },
        "id": "1dCVZJCKzoiL",
        "outputId": "25473a71-ae19-4254-e123-5143d776d7ed"
      },
      "execution_count": 178,
      "outputs": [
        {
          "output_type": "stream",
          "name": "stdout",
          "text": [
            "{'employee': 'Zara', 'department': 'operations', 'last salary': 5000}\n"
          ]
        }
      ]
    },
    {
      "cell_type": "code",
      "source": [
        "print(mydict[2])"
      ],
      "metadata": {
        "colab": {
          "base_uri": "https://localhost:8080/"
        },
        "id": "83SiEO6DzxF5",
        "outputId": "99567cfd-7a21-4e6d-e820-7875bd5b09b0"
      },
      "execution_count": 179,
      "outputs": [
        {
          "output_type": "stream",
          "name": "stdout",
          "text": [
            "{'employee': 'Sean', 'department': 'sales', 'last salary': 4000}\n"
          ]
        }
      ]
    },
    {
      "cell_type": "code",
      "source": [
        "print(mydict[1][\"employee\"])"
      ],
      "metadata": {
        "colab": {
          "base_uri": "https://localhost:8080/"
        },
        "id": "BfRigSunzzsk",
        "outputId": "7d4a216b-049c-400a-9524-f45f03476784"
      },
      "execution_count": 181,
      "outputs": [
        {
          "output_type": "stream",
          "name": "stdout",
          "text": [
            "Zara\n"
          ]
        }
      ]
    },
    {
      "cell_type": "code",
      "source": [
        "mydict={\"employee\":\"Zara\",\"department\":\"operations\",\"last salary\":5000}\n",
        "mydict.keys()"
      ],
      "metadata": {
        "colab": {
          "base_uri": "https://localhost:8080/"
        },
        "id": "o29joyKk0Aqw",
        "outputId": "127a93d9-2bc0-4db9-e766-4f0f4ea7aaa8"
      },
      "execution_count": 182,
      "outputs": [
        {
          "output_type": "execute_result",
          "data": {
            "text/plain": [
              "dict_keys(['employee', 'department', 'last salary'])"
            ]
          },
          "metadata": {},
          "execution_count": 182
        }
      ]
    },
    {
      "cell_type": "code",
      "source": [
        "mydict={\"employee\":\"Zara\",\"department\":\"operations\",\"last salary\":5000}\n",
        "mydict.values()"
      ],
      "metadata": {
        "colab": {
          "base_uri": "https://localhost:8080/"
        },
        "id": "FPHSaHZj0O4B",
        "outputId": "53db9450-e76d-4802-fa1c-d1414f85c068"
      },
      "execution_count": 183,
      "outputs": [
        {
          "output_type": "execute_result",
          "data": {
            "text/plain": [
              "dict_values(['Zara', 'operations', 5000])"
            ]
          },
          "metadata": {},
          "execution_count": 183
        }
      ]
    },
    {
      "cell_type": "code",
      "source": [
        "mydict={\"employee\":\"Zara\",\"department\":\"operations\",\"last salary\":5000}\n",
        "mydict.items()"
      ],
      "metadata": {
        "colab": {
          "base_uri": "https://localhost:8080/"
        },
        "id": "SNEL9xBa0Vgt",
        "outputId": "9c6bacd5-3864-42ee-f7b0-c37c09b700fb"
      },
      "execution_count": 184,
      "outputs": [
        {
          "output_type": "execute_result",
          "data": {
            "text/plain": [
              "dict_items([('employee', 'Zara'), ('department', 'operations'), ('last salary', 5000)])"
            ]
          },
          "metadata": {},
          "execution_count": 184
        }
      ]
    },
    {
      "cell_type": "code",
      "source": [
        "mydict={\"employee\":\"Zara\",\"department\":\"operations\",\"last salary\":5000}\n",
        "if \"department\" in mydict:\n",
        "  print(\"Yes the key exists\")"
      ],
      "metadata": {
        "colab": {
          "base_uri": "https://localhost:8080/"
        },
        "id": "-Ilb1Qen0doN",
        "outputId": "ed0c55d3-e213-4527-972d-012acb3b3ac4"
      },
      "execution_count": 186,
      "outputs": [
        {
          "output_type": "stream",
          "name": "stdout",
          "text": [
            "Yes the key exists\n"
          ]
        }
      ]
    },
    {
      "cell_type": "code",
      "source": [
        "mydict={\"employee\":\"Zara\",\"department\":\"operations\",\"last salary\":5000}\n",
        "mydict.update({\"employee\":\"Sean\"})\n",
        "print(mydict)"
      ],
      "metadata": {
        "colab": {
          "base_uri": "https://localhost:8080/"
        },
        "id": "hGY-7HNy0u-6",
        "outputId": "73cdbedd-dbe7-4664-c789-9aa15ac338da"
      },
      "execution_count": 187,
      "outputs": [
        {
          "output_type": "stream",
          "name": "stdout",
          "text": [
            "{'employee': 'Sean', 'department': 'operations', 'last salary': 5000}\n"
          ]
        }
      ]
    },
    {
      "cell_type": "code",
      "source": [
        "mydict={\"employee\":\"Zara\",\"department\":\"operations\",\"last salary\":5000}\n",
        "mydict.update({\"status\":\"permanent\"})\n",
        "print(mydict)"
      ],
      "metadata": {
        "colab": {
          "base_uri": "https://localhost:8080/"
        },
        "id": "fe0Fbt_B1MR0",
        "outputId": "743e443f-27fb-4daf-e640-8dae1a53e063"
      },
      "execution_count": 188,
      "outputs": [
        {
          "output_type": "stream",
          "name": "stdout",
          "text": [
            "{'employee': 'Zara', 'department': 'operations', 'last salary': 5000, 'status': 'permanent'}\n"
          ]
        }
      ]
    },
    {
      "cell_type": "code",
      "source": [
        "mydict={\"employee\":\"Zara\",\"department\":\"operations\",\"last salary\":5000, \"status\": \"permanent\"}\n",
        "mydict.pop(\"status\")\n",
        "print(mydict)"
      ],
      "metadata": {
        "colab": {
          "base_uri": "https://localhost:8080/"
        },
        "id": "PN0lHodS1ZTV",
        "outputId": "ebf6db1b-d41a-4e4b-c83e-4d3c54d70d0f"
      },
      "execution_count": 189,
      "outputs": [
        {
          "output_type": "stream",
          "name": "stdout",
          "text": [
            "{'employee': 'Zara', 'department': 'operations', 'last salary': 5000}\n"
          ]
        }
      ]
    },
    {
      "cell_type": "code",
      "source": [
        "mydict={\"employee\":\"Zara\",\"department\":\"operations\",\"last salary\":5000, \"status\": \"permanent\"}\n",
        "del mydict[\"status\"]\n",
        "print(mydict)"
      ],
      "metadata": {
        "colab": {
          "base_uri": "https://localhost:8080/"
        },
        "id": "hXu2tdhA1o99",
        "outputId": "11dec403-8a10-43b2-c9e3-7f907f0f0531"
      },
      "execution_count": 191,
      "outputs": [
        {
          "output_type": "stream",
          "name": "stdout",
          "text": [
            "{'employee': 'Zara', 'department': 'operations', 'last salary': 5000}\n"
          ]
        }
      ]
    },
    {
      "cell_type": "code",
      "source": [
        "mydict={\"employee\":\"Zara\",\"department\":\"operations\",\"last salary\":5000, \"status\": \"permanent\"}\n",
        "del mydict\n",
        "print(mydict)"
      ],
      "metadata": {
        "colab": {
          "base_uri": "https://localhost:8080/",
          "height": 200
        },
        "id": "HGcWdx2s19Jg",
        "outputId": "0c81f755-d6f7-4b75-fcbd-1339c32f1c8d"
      },
      "execution_count": 192,
      "outputs": [
        {
          "output_type": "error",
          "ename": "NameError",
          "evalue": "ignored",
          "traceback": [
            "\u001b[0;31m---------------------------------------------------------------------------\u001b[0m",
            "\u001b[0;31mNameError\u001b[0m                                 Traceback (most recent call last)",
            "\u001b[0;32m<ipython-input-192-f81244785214>\u001b[0m in \u001b[0;36m<module>\u001b[0;34m\u001b[0m\n\u001b[1;32m      1\u001b[0m \u001b[0mmydict\u001b[0m\u001b[0;34m=\u001b[0m\u001b[0;34m{\u001b[0m\u001b[0;34m\"employee\"\u001b[0m\u001b[0;34m:\u001b[0m\u001b[0;34m\"Zara\"\u001b[0m\u001b[0;34m,\u001b[0m\u001b[0;34m\"department\"\u001b[0m\u001b[0;34m:\u001b[0m\u001b[0;34m\"operations\"\u001b[0m\u001b[0;34m,\u001b[0m\u001b[0;34m\"last salary\"\u001b[0m\u001b[0;34m:\u001b[0m\u001b[0;36m5000\u001b[0m\u001b[0;34m,\u001b[0m \u001b[0;34m\"status\"\u001b[0m\u001b[0;34m:\u001b[0m \u001b[0;34m\"permanent\"\u001b[0m\u001b[0;34m}\u001b[0m\u001b[0;34m\u001b[0m\u001b[0;34m\u001b[0m\u001b[0m\n\u001b[1;32m      2\u001b[0m \u001b[0;32mdel\u001b[0m \u001b[0mmydict\u001b[0m\u001b[0;34m\u001b[0m\u001b[0;34m\u001b[0m\u001b[0m\n\u001b[0;32m----> 3\u001b[0;31m \u001b[0mprint\u001b[0m\u001b[0;34m(\u001b[0m\u001b[0mmydict\u001b[0m\u001b[0;34m)\u001b[0m\u001b[0;34m\u001b[0m\u001b[0;34m\u001b[0m\u001b[0m\n\u001b[0m",
            "\u001b[0;31mNameError\u001b[0m: name 'mydict' is not defined"
          ]
        }
      ]
    },
    {
      "cell_type": "code",
      "source": [
        "mydict={\"employee\":\"Zara\",\"department\":\"operations\",\"last salary\":5000, \"status\": \"permanent\"}\n",
        "mydict.clear()\n",
        "print(mydict)"
      ],
      "metadata": {
        "colab": {
          "base_uri": "https://localhost:8080/"
        },
        "id": "RQvOu-Ev2FNK",
        "outputId": "e9b46a12-eec3-42ad-8091-4a2f9357977a"
      },
      "execution_count": 193,
      "outputs": [
        {
          "output_type": "stream",
          "name": "stdout",
          "text": [
            "{}\n"
          ]
        }
      ]
    },
    {
      "cell_type": "code",
      "source": [
        "mydict={\"employee\":\"Zara\",\"department\":\"operations\",\"last salary\":5000, \"status\": \"permanent\"}\n",
        "for item in mydict.values():\n",
        "  print(item)"
      ],
      "metadata": {
        "colab": {
          "base_uri": "https://localhost:8080/"
        },
        "id": "Aw_g122j2Xbo",
        "outputId": "7a957bbe-f4fc-4e01-8468-fe74fbb29cb5"
      },
      "execution_count": 194,
      "outputs": [
        {
          "output_type": "stream",
          "name": "stdout",
          "text": [
            "Zara\n",
            "operations\n",
            "5000\n",
            "permanent\n"
          ]
        }
      ]
    },
    {
      "cell_type": "code",
      "source": [
        "mydict={\"employee\":\"Zara\",\"department\":\"operations\",\"last salary\":5000, \"status\": \"permanent\"}\n",
        "for item in mydict.keys():\n",
        "  print(item)"
      ],
      "metadata": {
        "colab": {
          "base_uri": "https://localhost:8080/"
        },
        "id": "iBclozik2k_I",
        "outputId": "fdbbd4e6-6b54-4ec3-dc33-9031a88d9041"
      },
      "execution_count": 195,
      "outputs": [
        {
          "output_type": "stream",
          "name": "stdout",
          "text": [
            "employee\n",
            "department\n",
            "last salary\n",
            "status\n"
          ]
        }
      ]
    },
    {
      "cell_type": "code",
      "source": [
        "mydict={\"employee\":\"Zara\",\"department\":\"operations\",\"last salary\":5000, \"status\": \"permanent\"}\n",
        "for keys,values in mydict.items():\n",
        "  print(keys,values)"
      ],
      "metadata": {
        "colab": {
          "base_uri": "https://localhost:8080/"
        },
        "id": "aaD866eS2uDw",
        "outputId": "8a36f2b8-7d15-4aed-f58e-8e719ed1da60"
      },
      "execution_count": 196,
      "outputs": [
        {
          "output_type": "stream",
          "name": "stdout",
          "text": [
            "employee Zara\n",
            "department operations\n",
            "last salary 5000\n",
            "status permanent\n"
          ]
        }
      ]
    },
    {
      "cell_type": "code",
      "source": [],
      "metadata": {
        "id": "iBh_PkNu29N0"
      },
      "execution_count": null,
      "outputs": []
    },
    {
      "cell_type": "code",
      "source": [
        "mytuple=(\"Audi\", \"Ford\", \"Tesla\", 5000,True)\n",
        "type(mytuple)"
      ],
      "metadata": {
        "colab": {
          "base_uri": "https://localhost:8080/"
        },
        "id": "wc5LzWlU4smf",
        "outputId": "3760da50-afff-4ada-d674-714d02e660e8"
      },
      "execution_count": 198,
      "outputs": [
        {
          "output_type": "execute_result",
          "data": {
            "text/plain": [
              "tuple"
            ]
          },
          "metadata": {},
          "execution_count": 198
        }
      ]
    },
    {
      "cell_type": "code",
      "source": [
        "mytuple=(\"Audi\", \"Ford\", \"Tesla\", 5000,True)\n",
        "mytuple[1]"
      ],
      "metadata": {
        "colab": {
          "base_uri": "https://localhost:8080/",
          "height": 35
        },
        "id": "Tj-kAt-F5MLV",
        "outputId": "11bf2029-2b78-4ddf-b4cc-7cf6aae38535"
      },
      "execution_count": 199,
      "outputs": [
        {
          "output_type": "execute_result",
          "data": {
            "text/plain": [
              "'Ford'"
            ],
            "application/vnd.google.colaboratory.intrinsic+json": {
              "type": "string"
            }
          },
          "metadata": {},
          "execution_count": 199
        }
      ]
    },
    {
      "cell_type": "code",
      "source": [
        "mytuple=(\"Audi\", \"Ford\", \"Tesla\", 5000,True)\n",
        "mytuple[0:3]"
      ],
      "metadata": {
        "colab": {
          "base_uri": "https://localhost:8080/"
        },
        "id": "ByEJBs0U5S93",
        "outputId": "9de12e29-e25c-4e07-ab7c-122227d0703c"
      },
      "execution_count": 200,
      "outputs": [
        {
          "output_type": "execute_result",
          "data": {
            "text/plain": [
              "('Audi', 'Ford', 'Tesla')"
            ]
          },
          "metadata": {},
          "execution_count": 200
        }
      ]
    },
    {
      "cell_type": "code",
      "source": [
        "mytuple=(\"Audi\", \"Ford\", \"Tesla\", 5000,True)\n",
        "mylist=list(mytuple)#changing tuple to a list\n",
        "mylist[0]=\"Toyota\"\n",
        "mytuple=tuple(mylist)#changing to a tuple\n",
        "print(mytuple)"
      ],
      "metadata": {
        "colab": {
          "base_uri": "https://localhost:8080/"
        },
        "id": "uqJY-n8v5iBE",
        "outputId": "16ea2aef-fe36-46f6-fbf9-1b753f984c78"
      },
      "execution_count": 203,
      "outputs": [
        {
          "output_type": "stream",
          "name": "stdout",
          "text": [
            "('Toyota', 'Ford', 'Tesla', 5000, True)\n"
          ]
        }
      ]
    },
    {
      "cell_type": "code",
      "source": [
        "mytuple=(\"Audi\", \"Ford\", \"Tesla\", 5000,True)\n",
        "mytuple.index(\"Tesla\")"
      ],
      "metadata": {
        "colab": {
          "base_uri": "https://localhost:8080/"
        },
        "id": "pQ1SbIxF5_D5",
        "outputId": "6c36728b-fd5d-403f-a94f-feb22aadf34c"
      },
      "execution_count": 204,
      "outputs": [
        {
          "output_type": "execute_result",
          "data": {
            "text/plain": [
              "2"
            ]
          },
          "metadata": {},
          "execution_count": 204
        }
      ]
    },
    {
      "cell_type": "code",
      "source": [
        "mytuple=(\"Audi\", \"Ford\",\"Audi\", \"Tesla\", \"Audi\",5000,True)\n",
        "mytuple.count(\"Audi\")"
      ],
      "metadata": {
        "colab": {
          "base_uri": "https://localhost:8080/"
        },
        "id": "Qs1eddqJ6RLs",
        "outputId": "f90cd5a2-02d9-4e33-b13b-e5cae2ea386e"
      },
      "execution_count": 206,
      "outputs": [
        {
          "output_type": "execute_result",
          "data": {
            "text/plain": [
              "3"
            ]
          },
          "metadata": {},
          "execution_count": 206
        }
      ]
    },
    {
      "cell_type": "code",
      "source": [
        "mytuple=(\"Audi\", \"Ford\",\"Audi\", \"Tesla\", \"Audi\",5000,True)\n",
        "for i in mytuple:\n",
        "  print(i)"
      ],
      "metadata": {
        "colab": {
          "base_uri": "https://localhost:8080/"
        },
        "id": "RVstk6tH6jEG",
        "outputId": "405aaaac-84b4-43eb-e503-e1ca5728aed8"
      },
      "execution_count": 207,
      "outputs": [
        {
          "output_type": "stream",
          "name": "stdout",
          "text": [
            "Audi\n",
            "Ford\n",
            "Audi\n",
            "Tesla\n",
            "Audi\n",
            "5000\n",
            "True\n"
          ]
        }
      ]
    },
    {
      "cell_type": "code",
      "source": [
        "mytuple=(\"Audi\", \"Ford\", \"Tesla\")#packing\n",
        "car1,car2, car3=mytuple#unpacking\n",
        "print(car1)\n",
        "print(car2)\n",
        "print(car3)"
      ],
      "metadata": {
        "colab": {
          "base_uri": "https://localhost:8080/"
        },
        "id": "AYFrR2Pk61HZ",
        "outputId": "7a4eea20-a910-4cd5-a6c4-9ea15a8f19e1"
      },
      "execution_count": 211,
      "outputs": [
        {
          "output_type": "stream",
          "name": "stdout",
          "text": [
            "Audi\n",
            "Ford\n",
            "Tesla\n"
          ]
        }
      ]
    },
    {
      "cell_type": "code",
      "source": [
        "myset={\"Audi\", \"Ford\", \"Tesla\", 5000,True}\n",
        "print(myset)\n",
        "len(myset)\n",
        "type(myset)"
      ],
      "metadata": {
        "colab": {
          "base_uri": "https://localhost:8080/"
        },
        "id": "vAvasqlj7OWf",
        "outputId": "12d6d0fc-2ff9-4e70-d531-1ca8013b319c"
      },
      "execution_count": 216,
      "outputs": [
        {
          "output_type": "stream",
          "name": "stdout",
          "text": [
            "{'Ford', True, 'Audi', 5000, 'Tesla'}\n"
          ]
        },
        {
          "output_type": "execute_result",
          "data": {
            "text/plain": [
              "set"
            ]
          },
          "metadata": {},
          "execution_count": 216
        }
      ]
    },
    {
      "cell_type": "code",
      "source": [
        "myset={\"Audi\", \"Ford\", \"Tesla\", 5000,True}\n",
        "for i in myset:\n",
        "  print(i)"
      ],
      "metadata": {
        "colab": {
          "base_uri": "https://localhost:8080/"
        },
        "id": "XIb1aPSE76R1",
        "outputId": "6e782f2a-eef4-4758-d72c-274e25da4bf2"
      },
      "execution_count": 218,
      "outputs": [
        {
          "output_type": "stream",
          "name": "stdout",
          "text": [
            "Ford\n",
            "True\n",
            "Audi\n",
            "5000\n",
            "Tesla\n"
          ]
        }
      ]
    },
    {
      "cell_type": "code",
      "source": [
        "myset={\"Audi\", \"Ford\", \"Tesla\", 5000,True}\n",
        "myset.add(\"apples\")\n",
        "print(myset)"
      ],
      "metadata": {
        "colab": {
          "base_uri": "https://localhost:8080/"
        },
        "id": "aLkHgmWy8ISn",
        "outputId": "3e6c1844-bb47-40de-d95d-f29b43068f8a"
      },
      "execution_count": 219,
      "outputs": [
        {
          "output_type": "stream",
          "name": "stdout",
          "text": [
            "{'Ford', True, 'Audi', 5000, 'apples', 'Tesla'}\n"
          ]
        }
      ]
    },
    {
      "cell_type": "code",
      "source": [
        "myset={\"Audi\", \"Ford\", \"Tesla\", 5000,True}\n",
        "myset.pop()\n",
        "print(myset)"
      ],
      "metadata": {
        "colab": {
          "base_uri": "https://localhost:8080/"
        },
        "id": "7p8mesc28peh",
        "outputId": "70811c1c-61b9-482c-da42-7cefee72bfed"
      },
      "execution_count": 220,
      "outputs": [
        {
          "output_type": "stream",
          "name": "stdout",
          "text": [
            "{True, 'Audi', 5000, 'Tesla'}\n"
          ]
        }
      ]
    },
    {
      "cell_type": "code",
      "source": [
        "myset1={3,4}\n",
        "myset2={1,2,3,4,5,6}\n",
        "myset1.union(myset2)"
      ],
      "metadata": {
        "colab": {
          "base_uri": "https://localhost:8080/"
        },
        "id": "tk1EeFrt8z3c",
        "outputId": "ced7f65d-1eb1-49e1-8a67-6523d436defc"
      },
      "execution_count": 221,
      "outputs": [
        {
          "output_type": "execute_result",
          "data": {
            "text/plain": [
              "{1, 2, 3, 4, 5, 6}"
            ]
          },
          "metadata": {},
          "execution_count": 221
        }
      ]
    },
    {
      "cell_type": "code",
      "source": [
        "myset1={3,4}\n",
        "myset2={1,2,3,4,5,6}\n",
        "myset1.intersection(myset2)"
      ],
      "metadata": {
        "colab": {
          "base_uri": "https://localhost:8080/"
        },
        "id": "Bkt2LkAA9O4v",
        "outputId": "3e9c9ec1-4513-40ae-8520-df6496418c23"
      },
      "execution_count": 222,
      "outputs": [
        {
          "output_type": "execute_result",
          "data": {
            "text/plain": [
              "{3, 4}"
            ]
          },
          "metadata": {},
          "execution_count": 222
        }
      ]
    },
    {
      "cell_type": "code",
      "source": [
        "myset1={3,4}\n",
        "myset2={1,2,3,4,5,6}\n",
        "myset1.issubset(myset2)"
      ],
      "metadata": {
        "colab": {
          "base_uri": "https://localhost:8080/"
        },
        "id": "5ZzWLhCT9Xwy",
        "outputId": "f24d43c3-dbad-4ccf-f8ab-173b0c4ebda7"
      },
      "execution_count": 223,
      "outputs": [
        {
          "output_type": "execute_result",
          "data": {
            "text/plain": [
              "True"
            ]
          },
          "metadata": {},
          "execution_count": 223
        }
      ]
    },
    {
      "cell_type": "code",
      "source": [
        "import numpy as np"
      ],
      "metadata": {
        "id": "t_CQKwm7-PfZ"
      },
      "execution_count": 224,
      "outputs": []
    },
    {
      "cell_type": "code",
      "source": [
        "import pandas as pd\n"
      ],
      "metadata": {
        "id": "1MBMy2I1-zUC"
      },
      "execution_count": 225,
      "outputs": []
    },
    {
      "cell_type": "code",
      "source": [
        "import matplotlib.pyplot as plt\n"
      ],
      "metadata": {
        "id": "DsNu00gS-4R7"
      },
      "execution_count": 226,
      "outputs": []
    },
    {
      "cell_type": "code",
      "source": [
        "import seaborn as sns"
      ],
      "metadata": {
        "id": "AHxD1QJF_D-8"
      },
      "execution_count": 227,
      "outputs": []
    },
    {
      "cell_type": "code",
      "source": [
        "import math"
      ],
      "metadata": {
        "id": "1IUlBLQt_KyG"
      },
      "execution_count": 229,
      "outputs": []
    },
    {
      "cell_type": "code",
      "source": [
        "import scipy"
      ],
      "metadata": {
        "id": "b5XGKbd8_Mz5"
      },
      "execution_count": 228,
      "outputs": []
    },
    {
      "cell_type": "code",
      "source": [
        "import pyodc"
      ],
      "metadata": {
        "colab": {
          "base_uri": "https://localhost:8080/",
          "height": 304
        },
        "id": "1MhohZpJ_qku",
        "outputId": "dcdb850e-8896-4cce-b262-e12bf94ccb32"
      },
      "execution_count": 230,
      "outputs": [
        {
          "output_type": "error",
          "ename": "ModuleNotFoundError",
          "evalue": "ignored",
          "traceback": [
            "\u001b[0;31m---------------------------------------------------------------------------\u001b[0m",
            "\u001b[0;31mModuleNotFoundError\u001b[0m                       Traceback (most recent call last)",
            "\u001b[0;32m<ipython-input-230-29e418d2c018>\u001b[0m in \u001b[0;36m<module>\u001b[0;34m\u001b[0m\n\u001b[0;32m----> 1\u001b[0;31m \u001b[0;32mimport\u001b[0m \u001b[0mpyodc\u001b[0m\u001b[0;34m\u001b[0m\u001b[0;34m\u001b[0m\u001b[0m\n\u001b[0m",
            "\u001b[0;31mModuleNotFoundError\u001b[0m: No module named 'pyodc'",
            "",
            "\u001b[0;31m---------------------------------------------------------------------------\u001b[0;32m\nNOTE: If your import is failing due to a missing package, you can\nmanually install dependencies using either !pip or !apt.\n\nTo view examples of installing some common dependencies, click the\n\"Open Examples\" button below.\n\u001b[0;31m---------------------------------------------------------------------------\u001b[0m\n"
          ],
          "errorDetails": {
            "actions": [
              {
                "action": "open_url",
                "actionText": "Open Examples",
                "url": "/notebooks/snippets/importing_libraries.ipynb"
              }
            ]
          }
        }
      ]
    },
    {
      "cell_type": "code",
      "source": [
        "!pip install pyodc\n",
        "import pyodc"
      ],
      "metadata": {
        "colab": {
          "base_uri": "https://localhost:8080/"
        },
        "id": "DoPGw5a__wy8",
        "outputId": "70bbb7c7-23c6-4358-8d5f-af8b46b9f9fc"
      },
      "execution_count": 231,
      "outputs": [
        {
          "output_type": "stream",
          "name": "stdout",
          "text": [
            "Looking in indexes: https://pypi.org/simple, https://us-python.pkg.dev/colab-wheels/public/simple/\n",
            "Collecting pyodc\n",
            "  Downloading pyodc-1.1.4.tar.gz (26 kB)\n",
            "  Installing build dependencies ... \u001b[?25l\u001b[?25hdone\n",
            "  Getting requirements to build wheel ... \u001b[?25l\u001b[?25hdone\n",
            "    Preparing wheel metadata ... \u001b[?25l\u001b[?25hdone\n",
            "Requirement already satisfied: cffi in /usr/local/lib/python3.7/dist-packages (from pyodc) (1.15.1)\n",
            "Requirement already satisfied: pandas in /usr/local/lib/python3.7/dist-packages (from pyodc) (1.3.5)\n",
            "Requirement already satisfied: pycparser in /usr/local/lib/python3.7/dist-packages (from cffi->pyodc) (2.21)\n",
            "Requirement already satisfied: pytz>=2017.3 in /usr/local/lib/python3.7/dist-packages (from pandas->pyodc) (2022.6)\n",
            "Requirement already satisfied: numpy>=1.17.3 in /usr/local/lib/python3.7/dist-packages (from pandas->pyodc) (1.21.6)\n",
            "Requirement already satisfied: python-dateutil>=2.7.3 in /usr/local/lib/python3.7/dist-packages (from pandas->pyodc) (2.8.2)\n",
            "Requirement already satisfied: six>=1.5 in /usr/local/lib/python3.7/dist-packages (from python-dateutil>=2.7.3->pandas->pyodc) (1.15.0)\n",
            "Building wheels for collected packages: pyodc\n",
            "  Building wheel for pyodc (PEP 517) ... \u001b[?25l\u001b[?25hdone\n",
            "  Created wheel for pyodc: filename=pyodc-1.1.4-py3-none-any.whl size=28062 sha256=d2ea2be7e20e4e47b61536bab87d90771d6ace8920e1b6be5dffb20f9e054c85\n",
            "  Stored in directory: /root/.cache/pip/wheels/cb/ea/82/e6d792d2557f2b621a829b888a93051f52894fb75b200bbb7c\n",
            "Successfully built pyodc\n",
            "Installing collected packages: pyodc\n",
            "Successfully installed pyodc-1.1.4\n"
          ]
        }
      ]
    }
  ]
}